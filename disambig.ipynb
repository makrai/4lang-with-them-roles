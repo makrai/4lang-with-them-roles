{
 "cells": [
  {
   "cell_type": "markdown",
   "id": "913e3e40",
   "metadata": {},
   "source": [
    "# Checking the uroboros property, taking ambiguity into account"
   ]
  },
  {
   "cell_type": "code",
   "execution_count": 1,
   "id": "135e9c80",
   "metadata": {},
   "outputs": [],
   "source": [
    "from collections import Counter\n",
    "\n",
    "import numpy as np\n",
    "import pandas as pd\n",
    "import re\n",
    "import urllib  # the lib that handles the url stuff"
   ]
  },
  {
   "cell_type": "code",
   "execution_count": 2,
   "id": "93f0d17e",
   "metadata": {},
   "outputs": [],
   "source": [
    "names=['en', 'hu', 'la', 'pl', 'id', 'uro', 'pos', 'defi', 'comment']"
   ]
  },
  {
   "cell_type": "markdown",
   "id": "8b2b9f2f",
   "metadata": {},
   "source": [
    "## Thematic-role version"
   ]
  },
  {
   "cell_type": "code",
   "execution_count": 3,
   "id": "2623130c",
   "metadata": {},
   "outputs": [],
   "source": [
    "fl = pd.read_csv('4lang', sep='\\t', names=names).fillna('')"
   ]
  },
  {
   "cell_type": "code",
   "execution_count": 4,
   "id": "f1235a88",
   "metadata": {},
   "outputs": [],
   "source": [
    "concept_chars = '=@a-zA-Z_/0-9-'"
   ]
  },
  {
   "cell_type": "code",
   "execution_count": 5,
   "id": "9d1bac64",
   "metadata": {},
   "outputs": [],
   "source": [
    "parens_and_stuff = \"[]<>,()'\""
   ]
  },
  {
   "cell_type": "code",
   "execution_count": 6,
   "id": "866c21f1",
   "metadata": {},
   "outputs": [],
   "source": [
    "def find_concepts(defi):\n",
    "    return re.findall(f'[{concept_chars}]+', defi)"
   ]
  },
  {
   "cell_type": "code",
   "execution_count": 7,
   "id": "c6f144d1",
   "metadata": {},
   "outputs": [],
   "source": [
    "defining_tokens = []\n",
    "for concepts in fl.defi.astype(str).map(find_concepts).values:\n",
    "    defining_tokens += concepts"
   ]
  },
  {
   "cell_type": "code",
   "execution_count": 8,
   "id": "0c4a2cbf",
   "metadata": {},
   "outputs": [],
   "source": [
    "defining_vocab = pd.Series(Counter(defining_tokens)).sort_values(ascending=False)"
   ]
  },
  {
   "cell_type": "code",
   "execution_count": 9,
   "id": "1c1807d9",
   "metadata": {},
   "outputs": [
    {
     "data": {
      "text/plain": [
       "HAS               690\n",
       "=AGT              450\n",
       "=PAT              390\n",
       "lack              356\n",
       "IN/2758           330\n",
       "                 ... \n",
       "rapid               1\n",
       "hate                1\n",
       "@Socrates           1\n",
       "@Sigmund_Freud      1\n",
       "title               1\n",
       "Length: 1712, dtype: int64"
      ]
     },
     "execution_count": 9,
     "metadata": {},
     "output_type": "execute_result"
    }
   ],
   "source": [
    "defining_vocab"
   ]
  },
  {
   "cell_type": "code",
   "execution_count": 10,
   "id": "d35dbd7a",
   "metadata": {},
   "outputs": [],
   "source": [
    "headwords = pd.Series(Counter(fl.en.values)).sort_values(ascending=False)"
   ]
  },
  {
   "cell_type": "code",
   "execution_count": 11,
   "id": "362577ae",
   "metadata": {},
   "outputs": [
    {
     "data": {
      "text/plain": [
       "for     5\n",
       "mill    4\n",
       "hail    4\n",
       "base    3\n",
       "duty    3\n",
       "dtype: int64"
      ]
     },
     "execution_count": 11,
     "metadata": {},
     "output_type": "execute_result"
    }
   ],
   "source": [
    "headwords[headwords > 1].head()"
   ]
  },
  {
   "cell_type": "markdown",
   "id": "72199ed3",
   "metadata": {},
   "source": [
    "### Undefined/primitive words used in definitions"
   ]
  },
  {
   "cell_type": "code",
   "execution_count": 12,
   "id": "25c9d242",
   "metadata": {},
   "outputs": [],
   "source": [
    "undefined = set(defining_vocab.index.str.lower()) - set(headwords.index.str.lower())"
   ]
  },
  {
   "cell_type": "code",
   "execution_count": 13,
   "id": "38efe06e",
   "metadata": {},
   "outputs": [],
   "source": [
    "def is_special(defing_token):\n",
    "    return re.match('^[@=]', defing_token) or '/' in defing_token"
   ]
  },
  {
   "cell_type": "code",
   "execution_count": 14,
   "id": "02be6b4e",
   "metadata": {},
   "outputs": [
    {
     "name": "stdout",
     "output_type": "stream",
     "text": [
      "Pretty printing has been turned OFF\n",
      "['is_a', 'celebrate', 'target', 'passionate', 'tired', 'inherent', 'er', 'next_to', 'palm', 'identity', 'enthusiastic', 'part_of', 'has']\n",
      "Pretty printing has been turned ON\n"
     ]
    }
   ],
   "source": [
    "%pprint\n",
    "print([word for word in undefined if not is_special(word)])\n",
    "%pprint"
   ]
  },
  {
   "cell_type": "markdown",
   "id": "e2e1b4b0",
   "metadata": {},
   "source": [
    "### Ambig words used without disambiguation"
   ]
  },
  {
   "cell_type": "code",
   "execution_count": 15,
   "id": "8925e0a1",
   "metadata": {},
   "outputs": [
    {
     "data": {
      "text/plain": [
       "for      5\n",
       "mill     4\n",
       "hail     4\n",
       "base     3\n",
       "duty     3\n",
       "        ..\n",
       "map      2\n",
       "march    2\n",
       "mass     2\n",
       "man      2\n",
       "well     2\n",
       "Length: 291, dtype: int64"
      ]
     },
     "execution_count": 15,
     "metadata": {},
     "output_type": "execute_result"
    }
   ],
   "source": [
    "headwords[headwords>1]"
   ]
  },
  {
   "cell_type": "code",
   "execution_count": 16,
   "id": "8afc2369",
   "metadata": {},
   "outputs": [
    {
     "name": "stdout",
     "output_type": "stream",
     "text": [
      "Pretty printing has been turned OFF\n",
      "['act', 'area', 'at', 'bake', 'ball', 'before', 'card', 'case', 'centre', 'change', 'close', 'cloth', 'collar', 'colour', 'control', 'corner', 'crop', 'curl', 'damage', 'defeat', 'detail', 'drink', 'electricity', 'equal', 'experience', 'express', 'fear', 'formal', 'habit', 'honour', 'information', 'jump', 'keep', 'level', 'limb', 'male', 'manner', 'map', 'mass', 'material', 'meal', 'model', 'moral', 'musician', 'nervous', 'object', 'official', 'oppose', 'pen', 'plant', 'pound', 'power', 'practice', 'produce', 'product', 'property', 'quantity', 'raise', 'relative', 'root', 'same', 'sew', 'society', 'step', 'style', 'succeed', 'system', 'tense', 'this', 'throw', 'trade', 'trouble', 'turn', 'vegetable', 'vessel', 'warm', 'wave', 'wish']\n",
      "Pretty printing has been turned ON\n"
     ]
    }
   ],
   "source": [
    "%pprint\n",
    "print(sorted(set(defining_vocab.index).intersection(set(headwords[headwords>1].index))))\n",
    "%pprint"
   ]
  },
  {
   "cell_type": "markdown",
   "id": "0629b4b5",
   "metadata": {},
   "source": [
    "### Is there an erronous disambig?"
   ]
  },
  {
   "cell_type": "code",
   "execution_count": 17,
   "id": "8bcf4b3e",
   "metadata": {},
   "outputs": [
    {
     "data": {
      "text/plain": [
       "{'march/1563', 'may/1560', 'miss/1357', 'mrs/35'}"
      ]
     },
     "execution_count": 17,
     "metadata": {},
     "output_type": "execute_result"
    }
   ],
   "source": [
    "possible_disambed_words = set(fl.apply(lambda ser: f'{ser.en}/{ser.id}', axis=1).values)\n",
    "set(defining_vocab.index.str.lower()[defining_vocab.index.str.contains('/')]) - possible_disambed_words"
   ]
  },
  {
   "cell_type": "markdown",
   "id": "5126061c",
   "metadata": {},
   "source": [
    "No, just casing differences."
   ]
  },
  {
   "cell_type": "markdown",
   "id": "cfaf588a",
   "metadata": {},
   "source": [
    "### Words with more headwords but only one used"
   ]
  },
  {
   "cell_type": "code",
   "execution_count": 18,
   "id": "077ecc33",
   "metadata": {},
   "outputs": [
    {
     "data": {
      "text/plain": [
       "right      3\n",
       "place      2\n",
       "close      2\n",
       "temple     2\n",
       "develop    2\n",
       "dtype: int64"
      ]
     },
     "execution_count": 18,
     "metadata": {},
     "output_type": "execute_result"
    }
   ],
   "source": [
    "n_senses_used = pd.Series(Counter([pair[0] for pair in defining_vocab.index.str.split('/') if len(pair)>1]))\n",
    "n_senses_used[n_senses_used>1].sort_values(ascending=False).head()"
   ]
  },
  {
   "cell_type": "code",
   "execution_count": 19,
   "id": "7bfa7264",
   "metadata": {},
   "outputs": [
    {
     "name": "stdout",
     "output_type": "stream",
     "text": [
      "Pretty printing has been turned OFF\n",
      "['-th', 'area', 'at', 'balance', 'base', 'bathe', 'beam', 'bite', 'bore', 'bow', 'cage', 'can', 'care', 'catch', 'chance', 'charge', 'club', 'comfort', 'company', 'cook', 'cool', 'course', 'cup', 'cure', 'desert', 'draw', 'effect', 'expression', 'fan', 'fast', 'figure', 'firm', 'get', 'hail', 'hair', 'horn', 'host', 'interest', 'keep', 'lead', 'lot', 'march', 'match', 'mean', 'minister', 'miss', 'mock', 'open', 'pet', 'post', 'regard', 'return', 'room', 'season', 'set', 'shut', 'sink', 'society', 'spirit', 'spoil', 'spring', 'steep', 'straight', 'stroke', 'succeed', 'take', 'tire', 'trick', 'weary', 'with', 'wound']\n",
      "Pretty printing has been turned ON\n"
     ]
    }
   ],
   "source": [
    "%pprint\n",
    "print(sorted(set(headwords[headwords>1].index).intersection(set(n_senses_used[n_senses_used==1].index))))\n",
    "%pprint"
   ]
  },
  {
   "cell_type": "markdown",
   "id": "3255375e",
   "metadata": {},
   "source": [
    "## Current version of `kornai/4lang/4lang`"
   ]
  },
  {
   "cell_type": "code",
   "execution_count": 20,
   "id": "3eb2f6d3",
   "metadata": {},
   "outputs": [],
   "source": [
    "refrom = pd.read_csv('../4lang/4lang', sep='\\t', names=names, dtype=str).fillna('')"
   ]
  },
  {
   "cell_type": "code",
   "execution_count": 21,
   "id": "7f4f6b86",
   "metadata": {},
   "outputs": [],
   "source": [
    "refrom.loc[refrom.id=='#','id']=np.nan"
   ]
  },
  {
   "cell_type": "code",
   "execution_count": 22,
   "id": "d9901ea2",
   "metadata": {},
   "outputs": [
    {
     "data": {
      "text/html": [
       "<div>\n",
       "<style scoped>\n",
       "    .dataframe tbody tr th:only-of-type {\n",
       "        vertical-align: middle;\n",
       "    }\n",
       "\n",
       "    .dataframe tbody tr th {\n",
       "        vertical-align: top;\n",
       "    }\n",
       "\n",
       "    .dataframe thead th {\n",
       "        text-align: right;\n",
       "    }\n",
       "</style>\n",
       "<table border=\"1\" class=\"dataframe\">\n",
       "  <thead>\n",
       "    <tr style=\"text-align: right;\">\n",
       "      <th></th>\n",
       "      <th>en</th>\n",
       "      <th>hu</th>\n",
       "      <th>la</th>\n",
       "      <th>pl</th>\n",
       "      <th>id</th>\n",
       "      <th>uro</th>\n",
       "      <th>pos</th>\n",
       "      <th>defi</th>\n",
       "      <th>comment</th>\n",
       "    </tr>\n",
       "  </thead>\n",
       "  <tbody>\n",
       "    <tr>\n",
       "      <th>0</th>\n",
       "      <td>-able</td>\n",
       "      <td>-hato1</td>\n",
       "      <td>-bilis</td>\n",
       "      <td>-alny</td>\n",
       "      <td>21</td>\n",
       "      <td>e</td>\n",
       "      <td>G</td>\n",
       "      <td>gen allow {gen stem_ =agt}, \"_-able\" mark_ stem</td>\n",
       "      <td>%detestable</td>\n",
       "    </tr>\n",
       "    <tr>\n",
       "      <th>1</th>\n",
       "      <td>-al</td>\n",
       "      <td>-sa1g</td>\n",
       "      <td>-men</td>\n",
       "      <td>-enie</td>\n",
       "      <td>42</td>\n",
       "      <td>u</td>\n",
       "      <td>G</td>\n",
       "      <td>=REL</td>\n",
       "      <td>%HUN: -a1s % disapprov-</td>\n",
       "    </tr>\n",
       "    <tr>\n",
       "      <th>2</th>\n",
       "      <td>-an</td>\n",
       "      <td>-i</td>\n",
       "      <td>-anus</td>\n",
       "      <td>-anin</td>\n",
       "      <td>23</td>\n",
       "      <td>u</td>\n",
       "      <td>G</td>\n",
       "      <td>member =REL</td>\n",
       "      <td>%geographical</td>\n",
       "    </tr>\n",
       "    <tr>\n",
       "      <th>3</th>\n",
       "      <td>-ance</td>\n",
       "      <td>-a1s</td>\n",
       "      <td>-tia</td>\n",
       "      <td>-stwo</td>\n",
       "      <td>1</td>\n",
       "      <td>u</td>\n",
       "      <td>G</td>\n",
       "      <td>=REL</td>\n",
       "      <td>%</td>\n",
       "    </tr>\n",
       "    <tr>\n",
       "      <th>4</th>\n",
       "      <td>-ar</td>\n",
       "      <td>-t</td>\n",
       "      <td></td>\n",
       "      <td></td>\n",
       "      <td>54</td>\n",
       "      <td>u</td>\n",
       "      <td>G</td>\n",
       "      <td>TODO</td>\n",
       "      <td>%</td>\n",
       "    </tr>\n",
       "  </tbody>\n",
       "</table>\n",
       "</div>"
      ],
      "text/plain": [
       "      en      hu      la     pl  id uro pos  \\\n",
       "0  -able  -hato1  -bilis  -alny  21   e   G   \n",
       "1    -al   -sa1g    -men  -enie  42   u   G   \n",
       "2    -an      -i   -anus  -anin  23   u   G   \n",
       "3  -ance    -a1s    -tia  -stwo   1   u   G   \n",
       "4    -ar      -t                 54   u   G   \n",
       "\n",
       "                                              defi                  comment  \n",
       "0  gen allow {gen stem_ =agt}, \"_-able\" mark_ stem              %detestable  \n",
       "1                                             =REL  %HUN: -a1s % disapprov-  \n",
       "2                                      member =REL            %geographical  \n",
       "3                                             =REL                        %  \n",
       "4                                             TODO                        %  "
      ]
     },
     "execution_count": 22,
     "metadata": {},
     "output_type": "execute_result"
    }
   ],
   "source": [
    "refrom.head()"
   ]
  },
  {
   "cell_type": "code",
   "execution_count": 23,
   "id": "28617c30",
   "metadata": {},
   "outputs": [],
   "source": [
    "def is_printname(token):\n",
    "    return re.fullmatch('^[=a-zA-Z_0-9.#/-]+', str(token))"
   ]
  },
  {
   "cell_type": "code",
   "execution_count": 24,
   "id": "03a17ba9",
   "metadata": {},
   "outputs": [
    {
     "data": {
      "text/plain": [
       "uro\n",
       "c     110\n",
       "e     358\n",
       "p      14\n",
       "u    3045\n",
       "dtype: int64"
      ]
     },
     "execution_count": 24,
     "metadata": {},
     "output_type": "execute_result"
    }
   ],
   "source": [
    "refrom.groupby('uro').size()"
   ]
  },
  {
   "cell_type": "code",
   "execution_count": 25,
   "id": "694809a5",
   "metadata": {},
   "outputs": [
    {
     "data": {
      "text/plain": [
       "pos\n",
       "#       6\n",
       "A     681\n",
       "D     101\n",
       "G     170\n",
       "N    1821\n",
       "U     143\n",
       "V     605\n",
       "dtype: int64"
      ]
     },
     "execution_count": 25,
     "metadata": {},
     "output_type": "execute_result"
    }
   ],
   "source": [
    "refrom.groupby('pos').size()"
   ]
  },
  {
   "cell_type": "code",
   "execution_count": 26,
   "id": "d0a3b9c9",
   "metadata": {},
   "outputs": [
    {
     "data": {
      "text/plain": [
       "defi\n",
       "TODO        422\n",
       "=REL         10\n",
       "lack          7\n",
       "good          6\n",
       "together      5\n",
       "dtype: int64"
      ]
     },
     "execution_count": 26,
     "metadata": {},
     "output_type": "execute_result"
    }
   ],
   "source": [
    "refrom.groupby('defi').size().sort_values(ascending=False).head()"
   ]
  },
  {
   "cell_type": "code",
   "execution_count": 27,
   "id": "ca2d3486",
   "metadata": {},
   "outputs": [
    {
     "data": {
      "text/plain": [
       "comment\n",
       "%          2861\n",
       "%1           72\n",
       "%no xml      43\n",
       "%ND          33\n",
       "%2           17\n",
       "dtype: int64"
      ]
     },
     "execution_count": 27,
     "metadata": {},
     "output_type": "execute_result"
    }
   ],
   "source": [
    "refrom.groupby('comment').size().sort_values(ascending=False).head()"
   ]
  },
  {
   "cell_type": "code",
   "execution_count": 28,
   "id": "51a83de2",
   "metadata": {},
   "outputs": [
    {
     "data": {
      "text/html": [
       "<div>\n",
       "<style scoped>\n",
       "    .dataframe tbody tr th:only-of-type {\n",
       "        vertical-align: middle;\n",
       "    }\n",
       "\n",
       "    .dataframe tbody tr th {\n",
       "        vertical-align: top;\n",
       "    }\n",
       "\n",
       "    .dataframe thead th {\n",
       "        text-align: right;\n",
       "    }\n",
       "</style>\n",
       "<table border=\"1\" class=\"dataframe\">\n",
       "  <thead>\n",
       "    <tr style=\"text-align: right;\">\n",
       "      <th></th>\n",
       "      <th>en</th>\n",
       "      <th>hu</th>\n",
       "      <th>la</th>\n",
       "      <th>pl</th>\n",
       "      <th>id</th>\n",
       "      <th>uro</th>\n",
       "      <th>pos</th>\n",
       "      <th>defi</th>\n",
       "      <th>comment</th>\n",
       "    </tr>\n",
       "  </thead>\n",
       "  <tbody>\n",
       "  </tbody>\n",
       "</table>\n",
       "</div>"
      ],
      "text/plain": [
       "Empty DataFrame\n",
       "Columns: [en, hu, la, pl, id, uro, pos, defi, comment]\n",
       "Index: []"
      ]
     },
     "execution_count": 28,
     "metadata": {},
     "output_type": "execute_result"
    }
   ],
   "source": [
    "refrom[~refrom.comment.str.startswith('%')]"
   ]
  },
  {
   "cell_type": "markdown",
   "id": "584fba23",
   "metadata": {},
   "source": [
    "## Refrom/600"
   ]
  },
  {
   "cell_type": "code",
   "execution_count": 29,
   "id": "a2fb97e0",
   "metadata": {},
   "outputs": [],
   "source": [
    "reform600 = pd.read_csv('../4lang/Reform/600', sep='\\t', names=names)"
   ]
  },
  {
   "cell_type": "code",
   "execution_count": 30,
   "id": "9a905478",
   "metadata": {},
   "outputs": [
    {
     "data": {
      "text/html": [
       "<div>\n",
       "<style scoped>\n",
       "    .dataframe tbody tr th:only-of-type {\n",
       "        vertical-align: middle;\n",
       "    }\n",
       "\n",
       "    .dataframe tbody tr th {\n",
       "        vertical-align: top;\n",
       "    }\n",
       "\n",
       "    .dataframe thead th {\n",
       "        text-align: right;\n",
       "    }\n",
       "</style>\n",
       "<table border=\"1\" class=\"dataframe\">\n",
       "  <thead>\n",
       "    <tr style=\"text-align: right;\">\n",
       "      <th></th>\n",
       "      <th>en</th>\n",
       "      <th>hu</th>\n",
       "      <th>la</th>\n",
       "      <th>pl</th>\n",
       "      <th>id</th>\n",
       "      <th>uro</th>\n",
       "      <th>pos</th>\n",
       "      <th>defi</th>\n",
       "      <th>comment</th>\n",
       "    </tr>\n",
       "  </thead>\n",
       "  <tbody>\n",
       "    <tr>\n",
       "      <th>0</th>\n",
       "      <td>-able</td>\n",
       "      <td>-hato1</td>\n",
       "      <td>-bilis</td>\n",
       "      <td>-alny</td>\n",
       "      <td>21</td>\n",
       "      <td>e</td>\n",
       "      <td>G</td>\n",
       "      <td>gen allow {gen stem_ =agt}, \"_-able\" mark_ stem</td>\n",
       "      <td>%detestable</td>\n",
       "    </tr>\n",
       "    <tr>\n",
       "      <th>1</th>\n",
       "      <td>-er</td>\n",
       "      <td>-bb</td>\n",
       "      <td>-ior/-ius</td>\n",
       "      <td>-szy</td>\n",
       "      <td>14</td>\n",
       "      <td>e</td>\n",
       "      <td>G</td>\n",
       "      <td>er_, =agt has quality, \"_-er\" mark_ stem_[qual...</td>\n",
       "      <td>%</td>\n",
       "    </tr>\n",
       "    <tr>\n",
       "      <th>2</th>\n",
       "      <td>-er</td>\n",
       "      <td>-o1</td>\n",
       "      <td>-tor/-trix</td>\n",
       "      <td>-ac1/ic1</td>\n",
       "      <td>3627</td>\n",
       "      <td>e</td>\n",
       "      <td>G</td>\n",
       "      <td>stem_-er is_a =agt, \"_ -er\" mark_ stem_</td>\n",
       "      <td>%nomen agentis</td>\n",
       "    </tr>\n",
       "    <tr>\n",
       "      <th>3</th>\n",
       "      <td>-est</td>\n",
       "      <td>leg-bb</td>\n",
       "      <td>-issimus</td>\n",
       "      <td>naj-szyo</td>\n",
       "      <td>1513</td>\n",
       "      <td>e</td>\n",
       "      <td>G</td>\n",
       "      <td>er_ other     %</td>\n",
       "      <td>NaN</td>\n",
       "    </tr>\n",
       "    <tr>\n",
       "      <th>4</th>\n",
       "      <td>-ing</td>\n",
       "      <td>-a1s</td>\n",
       "      <td>-endi</td>\n",
       "      <td>-anie</td>\n",
       "      <td>2</td>\n",
       "      <td>e</td>\n",
       "      <td>G</td>\n",
       "      <td>stem_-ing is_a event, \"_-ing\" mark_ stem_</td>\n",
       "      <td>%</td>\n",
       "    </tr>\n",
       "  </tbody>\n",
       "</table>\n",
       "</div>"
      ],
      "text/plain": [
       "      en      hu          la        pl    id uro pos  \\\n",
       "0  -able  -hato1      -bilis     -alny    21   e   G   \n",
       "1    -er     -bb   -ior/-ius      -szy    14   e   G   \n",
       "2    -er     -o1  -tor/-trix  -ac1/ic1  3627   e   G   \n",
       "3   -est  leg-bb    -issimus  naj-szyo  1513   e   G   \n",
       "4   -ing    -a1s       -endi     -anie     2   e   G   \n",
       "\n",
       "                                                defi             comment  \n",
       "0    gen allow {gen stem_ =agt}, \"_-able\" mark_ stem         %detestable  \n",
       "1  er_, =agt has quality, \"_-er\" mark_ stem_[qual...                   %  \n",
       "2            stem_-er is_a =agt, \"_ -er\" mark_ stem_      %nomen agentis  \n",
       "3                                    er_ other     %                 NaN  \n",
       "4       stem_-ing is_a event, \"_-ing\" mark_ stem_                      %  "
      ]
     },
     "execution_count": 30,
     "metadata": {},
     "output_type": "execute_result"
    }
   ],
   "source": [
    "reform600.head()"
   ]
  },
  {
   "cell_type": "code",
   "execution_count": 31,
   "id": "3c0b09cf",
   "metadata": {},
   "outputs": [],
   "source": [
    "printname_pattern = '^[=a-zA-Z_0-9.#/-]+'"
   ]
  },
  {
   "cell_type": "code",
   "execution_count": 32,
   "id": "9838b7f4",
   "metadata": {},
   "outputs": [],
   "source": [
    "printname_pattern = '^[a-z-]+$'"
   ]
  },
  {
   "cell_type": "code",
   "execution_count": 33,
   "id": "b7d48638",
   "metadata": {},
   "outputs": [],
   "source": [
    "def is_printname(token):\n",
    "    return re.fullmatch(printname_pattern, str(token))"
   ]
  },
  {
   "cell_type": "code",
   "execution_count": 34,
   "id": "736899f7",
   "metadata": {},
   "outputs": [
    {
     "data": {
      "text/plain": [
       "uro\n",
       "c    110\n",
       "e    358\n",
       "p     14\n",
       "u    293\n",
       "dtype: int64"
      ]
     },
     "execution_count": 34,
     "metadata": {},
     "output_type": "execute_result"
    }
   ],
   "source": [
    "reform600.groupby('uro').size()"
   ]
  },
  {
   "cell_type": "code",
   "execution_count": 35,
   "id": "f43aeb12",
   "metadata": {},
   "outputs": [
    {
     "data": {
      "text/plain": [
       "pos\n",
       "A    144\n",
       "D      6\n",
       "G     31\n",
       "N    440\n",
       "U     24\n",
       "V    130\n",
       "dtype: int64"
      ]
     },
     "execution_count": 35,
     "metadata": {},
     "output_type": "execute_result"
    }
   ],
   "source": [
    "reform600.groupby('pos').size()"
   ]
  },
  {
   "cell_type": "code",
   "execution_count": 36,
   "id": "48131f40",
   "metadata": {},
   "outputs": [
    {
     "data": {
      "text/plain": [
       "defi\n",
       "man/659                        2\n",
       "lack move                      2\n",
       "quantity                       2\n",
       "=pat in mind, =agt has mind    2\n",
       "gen want                       2\n",
       "dtype: int64"
      ]
     },
     "execution_count": 36,
     "metadata": {},
     "output_type": "execute_result"
    }
   ],
   "source": [
    "reform600.groupby('defi').size().sort_values(ascending=False).head()"
   ]
  },
  {
   "cell_type": "code",
   "execution_count": 37,
   "id": "0f07bd78",
   "metadata": {},
   "outputs": [
    {
     "data": {
      "text/plain": [
       "comment\n",
       "%        702\n",
       "%ND        9\n",
       "%RA        3\n",
       "%RG        2\n",
       "%   %      2\n",
       "dtype: int64"
      ]
     },
     "execution_count": 37,
     "metadata": {},
     "output_type": "execute_result"
    }
   ],
   "source": [
    "reform600.groupby('comment').size().sort_values(ascending=False).head()"
   ]
  },
  {
   "cell_type": "markdown",
   "id": "a905749f",
   "metadata": {},
   "source": [
    "## V2/700"
   ]
  },
  {
   "cell_type": "code",
   "execution_count": 38,
   "id": "a6292364",
   "metadata": {},
   "outputs": [],
   "source": [
    "v2_700 = pd.read_csv('../4lang/V2/700.tsv', sep='\\t')\n",
    "# v2_700['def'] corresponds to fl['defi']\n",
    "# v2_700.num corresponds to fl['id']"
   ]
  },
  {
   "cell_type": "code",
   "execution_count": 39,
   "id": "0aa9c9f2",
   "metadata": {},
   "outputs": [
    {
     "data": {
      "text/html": [
       "<div>\n",
       "<style scoped>\n",
       "    .dataframe tbody tr th:only-of-type {\n",
       "        vertical-align: middle;\n",
       "    }\n",
       "\n",
       "    .dataframe tbody tr th {\n",
       "        vertical-align: top;\n",
       "    }\n",
       "\n",
       "    .dataframe thead th {\n",
       "        text-align: right;\n",
       "    }\n",
       "</style>\n",
       "<table border=\"1\" class=\"dataframe\">\n",
       "  <thead>\n",
       "    <tr style=\"text-align: right;\">\n",
       "      <th></th>\n",
       "      <th>en</th>\n",
       "      <th>hu</th>\n",
       "      <th>la</th>\n",
       "      <th>pl</th>\n",
       "      <th>ja</th>\n",
       "      <th>zh</th>\n",
       "      <th>num</th>\n",
       "      <th>s</th>\n",
       "      <th>l</th>\n",
       "      <th>def</th>\n",
       "      <th>%comment</th>\n",
       "    </tr>\n",
       "  </thead>\n",
       "  <tbody>\n",
       "    <tr>\n",
       "      <th>0</th>\n",
       "      <td>/-able</td>\n",
       "      <td>/-ható</td>\n",
       "      <td>/-bilis</td>\n",
       "      <td>/-alni</td>\n",
       "      <td>_ -e-_</td>\n",
       "      <td>ke3- 可</td>\n",
       "      <td>21</td>\n",
       "      <td>e</td>\n",
       "      <td>G</td>\n",
       "      <td>gen allow {gen stem_ =agt}, \"_-able\" mark_ stem</td>\n",
       "      <td>%detestable</td>\n",
       "    </tr>\n",
       "    <tr>\n",
       "      <th>1</th>\n",
       "      <td>/-er</td>\n",
       "      <td>/-bb</td>\n",
       "      <td>/-ior//-ius</td>\n",
       "      <td>/-szy</td>\n",
       "      <td>_ yori _ _-i</td>\n",
       "      <td>bi3jiao4 比较</td>\n",
       "      <td>14</td>\n",
       "      <td>e</td>\n",
       "      <td>G</td>\n",
       "      <td>er_, =agt has quality, \"_-er\" mark_ stem_[qual...</td>\n",
       "      <td>%</td>\n",
       "    </tr>\n",
       "    <tr>\n",
       "      <th>2</th>\n",
       "      <td>/-er</td>\n",
       "      <td>/-ó</td>\n",
       "      <td>/-tor//-trix</td>\n",
       "      <td>/-arz</td>\n",
       "      <td>/-sha 者</td>\n",
       "      <td>/// -zhe3 者</td>\n",
       "      <td>3627</td>\n",
       "      <td>e</td>\n",
       "      <td>G</td>\n",
       "      <td>stem_-er is_a =agt, \"_ -er\" mark_ stem_</td>\n",
       "      <td>%nomen agentis</td>\n",
       "    </tr>\n",
       "    <tr>\n",
       "      <th>3</th>\n",
       "      <td>/-est</td>\n",
       "      <td>leg-bb</td>\n",
       "      <td>/-issimus</td>\n",
       "      <td>naj...szy</td>\n",
       "      <td>ichiban 一番</td>\n",
       "      <td>zui4- 最</td>\n",
       "      <td>3625</td>\n",
       "      <td>e</td>\n",
       "      <td>G</td>\n",
       "      <td>er_ all   %</td>\n",
       "      <td>NaN</td>\n",
       "    </tr>\n",
       "    <tr>\n",
       "      <th>4</th>\n",
       "      <td>/-est</td>\n",
       "      <td>leg...bb</td>\n",
       "      <td>/-issimus</td>\n",
       "      <td>naj...szy</td>\n",
       "      <td>ichiban _ 一番</td>\n",
       "      <td>zui4- 最</td>\n",
       "      <td>1513</td>\n",
       "      <td>e</td>\n",
       "      <td>G</td>\n",
       "      <td>er_ other   %</td>\n",
       "      <td>NaN</td>\n",
       "    </tr>\n",
       "  </tbody>\n",
       "</table>\n",
       "</div>"
      ],
      "text/plain": [
       "       en        hu            la         pl            ja           zh   num  \\\n",
       "0  /-able    /-ható       /-bilis     /-alni        _ -e-_       ke3- 可    21   \n",
       "1    /-er      /-bb   /-ior//-ius      /-szy  _ yori _ _-i  bi3jiao4 比较    14   \n",
       "2    /-er       /-ó  /-tor//-trix      /-arz       /-sha 者  /// -zhe3 者  3627   \n",
       "3   /-est    leg-bb     /-issimus  naj...szy   ichiban 一番       zui4- 最  3625   \n",
       "4   /-est  leg...bb     /-issimus  naj...szy  ichiban _ 一番      zui4- 最  1513   \n",
       "\n",
       "   s  l                                                def          %comment  \n",
       "0  e  G    gen allow {gen stem_ =agt}, \"_-able\" mark_ stem       %detestable  \n",
       "1  e  G  er_, =agt has quality, \"_-er\" mark_ stem_[qual...                 %  \n",
       "2  e  G            stem_-er is_a =agt, \"_ -er\" mark_ stem_    %nomen agentis  \n",
       "3  e  G                                        er_ all   %               NaN  \n",
       "4  e  G                                      er_ other   %               NaN  "
      ]
     },
     "execution_count": 39,
     "metadata": {},
     "output_type": "execute_result"
    }
   ],
   "source": [
    "v2_700.head()"
   ]
  },
  {
   "cell_type": "code",
   "execution_count": 40,
   "id": "92499e3c",
   "metadata": {},
   "outputs": [],
   "source": [
    "printname_pattern = '^[=\\w_/.#-]+$'"
   ]
  },
  {
   "cell_type": "markdown",
   "id": "c5496187",
   "metadata": {},
   "source": [
    "There is only one capitalized word, _Asia_"
   ]
  },
  {
   "cell_type": "code",
   "execution_count": 41,
   "id": "36515e0e",
   "metadata": {},
   "outputs": [],
   "source": [
    "def is_printname(token):\n",
    "    return re.fullmatch(printname_pattern, str(token))"
   ]
  },
  {
   "cell_type": "code",
   "execution_count": 42,
   "id": "38cb1832",
   "metadata": {},
   "outputs": [
    {
     "data": {
      "text/plain": [
       "[2, 4, 5, 10, 12, 14, 17, 21, 29, 33, 66, 68, 72, 73, 74, 76, 78, 82, 86, 88]"
      ]
     },
     "execution_count": 42,
     "metadata": {},
     "output_type": "execute_result"
    }
   ],
   "source": [
    "sorted(v2_700.num.astype(int))[:20]"
   ]
  },
  {
   "cell_type": "code",
   "execution_count": 43,
   "id": "4cf77807",
   "metadata": {},
   "outputs": [
    {
     "data": {
      "text/plain": [
       "s\n",
       "c    110\n",
       "e    359\n",
       "p     14\n",
       "u    293\n",
       "dtype: int64"
      ]
     },
     "execution_count": 43,
     "metadata": {},
     "output_type": "execute_result"
    }
   ],
   "source": [
    "v2_700.groupby('s').size()"
   ]
  },
  {
   "cell_type": "code",
   "execution_count": 44,
   "id": "597914f5",
   "metadata": {},
   "outputs": [
    {
     "data": {
      "text/plain": [
       "l\n",
       "A    144\n",
       "D      6\n",
       "G     32\n",
       "N    440\n",
       "U     24\n",
       "V    130\n",
       "dtype: int64"
      ]
     },
     "execution_count": 44,
     "metadata": {},
     "output_type": "execute_result"
    }
   ],
   "source": [
    "v2_700.groupby('l').size()"
   ]
  },
  {
   "cell_type": "code",
   "execution_count": 45,
   "id": "f09c3c3f",
   "metadata": {},
   "outputs": [
    {
     "data": {
      "text/plain": [
       "def\n",
       "many         2\n",
       "lack move    2\n",
       "big          2\n",
       "sex          2\n",
       "gen want     2\n",
       "dtype: int64"
      ]
     },
     "execution_count": 45,
     "metadata": {},
     "output_type": "execute_result"
    }
   ],
   "source": [
    "v2_700.groupby('def').size().sort_values(ascending=False).head()"
   ]
  },
  {
   "cell_type": "code",
   "execution_count": 46,
   "id": "71d3b2aa",
   "metadata": {},
   "outputs": [
    {
     "data": {
      "text/plain": [
       "%comment\n",
       "%       701\n",
       "%ND       9\n",
       "%RA       3\n",
       "%RG       2\n",
       "%ZsA      2\n",
       "dtype: int64"
      ]
     },
     "execution_count": 46,
     "metadata": {},
     "output_type": "execute_result"
    }
   ],
   "source": [
    "v2_700.groupby('%comment').size().sort_values(ascending=False).head()"
   ]
  }
 ],
 "metadata": {
  "kernelspec": {
   "display_name": "Python 3 (ipykernel)",
   "language": "python",
   "name": "python3"
  },
  "language_info": {
   "codemirror_mode": {
    "name": "ipython",
    "version": 3
   },
   "file_extension": ".py",
   "mimetype": "text/x-python",
   "name": "python",
   "nbconvert_exporter": "python",
   "pygments_lexer": "ipython3",
   "version": "3.10.8"
  }
 },
 "nbformat": 4,
 "nbformat_minor": 5
}
