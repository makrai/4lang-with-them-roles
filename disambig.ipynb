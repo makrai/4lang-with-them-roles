{
 "cells": [
  {
   "cell_type": "markdown",
   "id": "913e3e40",
   "metadata": {},
   "source": [
    "# Is disambiguation in the definitions (e.g. `IN/2758`) necessary?"
   ]
  },
  {
   "cell_type": "code",
   "execution_count": 60,
   "id": "135e9c80",
   "metadata": {},
   "outputs": [],
   "source": [
    "from collections import Counter\n",
    "\n",
    "import pandas as pd\n",
    "import re\n",
    "import urllib  # the lib that handles the url stuff"
   ]
  },
  {
   "cell_type": "code",
   "execution_count": 21,
   "id": "52d047ea",
   "metadata": {},
   "outputs": [],
   "source": [
    "URL = 'https://raw.githubusercontent.com/kornai/4lang/4bff8064cb4cb6ea271a7b9f6b6316cad1256995/4lang'"
   ]
  },
  {
   "cell_type": "code",
   "execution_count": 44,
   "id": "2623130c",
   "metadata": {},
   "outputs": [],
   "source": [
    "data = urllib.request.urlopen(URL)\n",
    "fl = pd.read_csv(data, sep='\\t', names=['en', 'hu', 'la', 'pl', 'id', 'uro', 'pos', 'defi', 'comment'])"
   ]
  },
  {
   "cell_type": "code",
   "execution_count": 38,
   "id": "f1235a88",
   "metadata": {},
   "outputs": [],
   "source": [
    "concept_chars = '=@a-zA-Z_/0-9-'"
   ]
  },
  {
   "cell_type": "code",
   "execution_count": 39,
   "id": "9d1bac64",
   "metadata": {},
   "outputs": [],
   "source": [
    "parens_and_stuff = \"[]<>,()'\""
   ]
  },
  {
   "cell_type": "code",
   "execution_count": 54,
   "id": "866c21f1",
   "metadata": {},
   "outputs": [],
   "source": [
    "def find_concepts(defi):\n",
    "    return re.findall(f'[{concept_chars}]+', defi)"
   ]
  },
  {
   "cell_type": "code",
   "execution_count": 78,
   "id": "c6f144d1",
   "metadata": {},
   "outputs": [],
   "source": [
    "def_tokens = []\n",
    "for concepts in fl.defi.astype(str).map(find_concepts).values:\n",
    "    def_tokens += concepts"
   ]
  },
  {
   "cell_type": "code",
   "execution_count": 83,
   "id": "0c4a2cbf",
   "metadata": {},
   "outputs": [],
   "source": [
    "def_vocab = pd.Series(Counter(def_tokens)).sort_values(ascending=False)"
   ]
  },
  {
   "cell_type": "code",
   "execution_count": 98,
   "id": "b28dc2de",
   "metadata": {},
   "outputs": [],
   "source": [
    "right_ambig_ser = def_vocab[def_vocab.index.str.contains('/')]"
   ]
  },
  {
   "cell_type": "code",
   "execution_count": 99,
   "id": "1f5af15b",
   "metadata": {},
   "outputs": [
    {
     "data": {
      "text/plain": [
       "IN/2758        329\n",
       "AT/2744        325\n",
       "place/1026      66\n",
       "FOR/2782        52\n",
       "FROM/2742       43\n",
       "              ... \n",
       "bow/2698         1\n",
       "cage/1307        1\n",
       "effect/1014      1\n",
       "like/1701        1\n",
       "keep/1646        1\n",
       "Length: 148, dtype: int64"
      ]
     },
     "execution_count": 99,
     "metadata": {},
     "output_type": "execute_result"
    }
   ],
   "source": [
    "right_ambig_ser"
   ]
  },
  {
   "cell_type": "code",
   "execution_count": 114,
   "id": "077ecc33",
   "metadata": {},
   "outputs": [
    {
     "data": {
      "text/plain": [
       "IN       2\n",
       "place    2\n",
       "FROM     2\n",
       "sound    2\n",
       "man      2\n",
       "dtype: int64"
      ]
     },
     "execution_count": 114,
     "metadata": {},
     "output_type": "execute_result"
    }
   ],
   "source": [
    "n_senses_used = pd.Series(Counter(right_ambig_ser.index.str.split('/').map(lambda p: p[0])))\n",
    "n_senses_used[n_senses_used.sort_values(ascending=False)>1].head()"
   ]
  },
  {
   "cell_type": "code",
   "execution_count": null,
   "id": "8996fce5",
   "metadata": {},
   "outputs": [],
   "source": [
    "def_vocab > 1"
   ]
  },
  {
   "cell_type": "code",
   "execution_count": 94,
   "id": "d35dbd7a",
   "metadata": {},
   "outputs": [],
   "source": [
    "left_vocab = pd.Series(Counter(fl.en.values)).sort_values(ascending=False)"
   ]
  },
  {
   "cell_type": "code",
   "execution_count": 100,
   "id": "362577ae",
   "metadata": {},
   "outputs": [],
   "source": [
    "left_ambig_ser = left_vocab[left_vocab > 1]"
   ]
  },
  {
   "cell_type": "code",
   "execution_count": 102,
   "id": "94e28a43",
   "metadata": {},
   "outputs": [
    {
     "data": {
      "text/plain": [
       "for     5\n",
       "mill    4\n",
       "hail    4\n",
       "base    3\n",
       "duty    3\n",
       "dtype: int64"
      ]
     },
     "execution_count": 102,
     "metadata": {},
     "output_type": "execute_result"
    }
   ],
   "source": [
    "left_ambig_ser.head()"
   ]
  }
 ],
 "metadata": {
  "kernelspec": {
   "display_name": "Python 3 (ipykernel)",
   "language": "python",
   "name": "python3"
  },
  "language_info": {
   "codemirror_mode": {
    "name": "ipython",
    "version": 3
   },
   "file_extension": ".py",
   "mimetype": "text/x-python",
   "name": "python",
   "nbconvert_exporter": "python",
   "pygments_lexer": "ipython3",
   "version": "3.7.6"
  }
 },
 "nbformat": 4,
 "nbformat_minor": 5
}
