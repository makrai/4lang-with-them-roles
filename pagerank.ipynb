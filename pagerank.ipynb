{
 "cells": [
  {
   "cell_type": "code",
   "execution_count": 75,
   "id": "36a1d616",
   "metadata": {},
   "outputs": [],
   "source": [
    "from IPython.display import SVG\n",
    "import matplotlib.pyplot as plt\n",
    "import networkx as nx\n",
    "import pandas as pd\n",
    "import re\n",
    "from sknetwork.ranking import PageRank\n",
    "from sknetwork.visualization import svg_graph"
   ]
  },
  {
   "cell_type": "code",
   "execution_count": 2,
   "id": "67640273",
   "metadata": {},
   "outputs": [],
   "source": [
    "names=['en', 'hu', 'la', 'pl', 'id', 'uro', 'pos', 'defi', 'comment']\n",
    "fl = pd.read_csv('4lang', sep='\\t', names=names)"
   ]
  },
  {
   "cell_type": "markdown",
   "id": "e2a009f9",
   "metadata": {},
   "source": [
    "# Computing the definition graph"
   ]
  },
  {
   "cell_type": "code",
   "execution_count": 3,
   "id": "c96a964f",
   "metadata": {},
   "outputs": [],
   "source": [
    "fl = fl[~fl.defi.isna()]"
   ]
  },
  {
   "cell_type": "code",
   "execution_count": 4,
   "id": "b5942eee",
   "metadata": {},
   "outputs": [],
   "source": [
    "fl.en = fl.en.str.lower()"
   ]
  },
  {
   "cell_type": "code",
   "execution_count": 5,
   "id": "95c1efbb",
   "metadata": {},
   "outputs": [],
   "source": [
    "fl.defi = fl.defi.str.lower()"
   ]
  },
  {
   "cell_type": "code",
   "execution_count": 6,
   "id": "39e0fbb7",
   "metadata": {},
   "outputs": [],
   "source": [
    "fl['ambig'] = fl.en.duplicated(keep=False)"
   ]
  },
  {
   "cell_type": "code",
   "execution_count": 7,
   "id": "2e7c6324",
   "metadata": {},
   "outputs": [],
   "source": [
    "unambig_set = set(fl.loc[~fl.ambig,'en'])"
   ]
  },
  {
   "cell_type": "code",
   "execution_count": 8,
   "id": "31e03427",
   "metadata": {},
   "outputs": [],
   "source": [
    "def unambig_hwd(record):\n",
    "    return f'{record.en}/{record.id}' if record.ambig else record.en"
   ]
  },
  {
   "cell_type": "code",
   "execution_count": 9,
   "id": "629366fd",
   "metadata": {},
   "outputs": [],
   "source": [
    "fl['unambig_hwd'] = fl.apply(unambig_hwd, axis=1)"
   ]
  },
  {
   "cell_type": "code",
   "execution_count": 10,
   "id": "ad8d43d7",
   "metadata": {},
   "outputs": [],
   "source": [
    "def drop_needless_disambig(term):\n",
    "    if '/' in term:\n",
    "        word, number = term.split('/')\n",
    "        if word in unambig_set:\n",
    "            return word\n",
    "    return term"
   ]
  },
  {
   "cell_type": "code",
   "execution_count": 11,
   "id": "a918d74a",
   "metadata": {},
   "outputs": [],
   "source": [
    "concept_chars = '=@a-zA-Z_/0-9-'\n",
    "parens_and_stuff = \"[]<>,()'\"\n",
    "\n",
    "def get_def_graph_outlist(record):\n",
    "    hwd = f'{record.en}/{record.id}' if record.ambig else record.en\n",
    "    return hwd, [drop_needless_disambig(concept) \n",
    "                 for concept in re.findall(f'[{concept_chars}]+', str(record.defi))]"
   ]
  },
  {
   "cell_type": "code",
   "execution_count": 12,
   "id": "4a27d60a",
   "metadata": {},
   "outputs": [],
   "source": [
    "def_graph = nx.DiGraph(dict(fl.apply(get_def_graph_outlist, axis=1).values))"
   ]
  },
  {
   "cell_type": "markdown",
   "id": "e3451764",
   "metadata": {},
   "source": [
    "# Exploration"
   ]
  },
  {
   "cell_type": "code",
   "execution_count": 189,
   "id": "1b095138",
   "metadata": {},
   "outputs": [],
   "source": [
    "#SVG(svg_graph(nx.adjacency_matrix(def_graph)))"
   ]
  },
  {
   "cell_type": "code",
   "execution_count": 52,
   "id": "69bb9c0a",
   "metadata": {},
   "outputs": [
    {
     "data": {
      "text/plain": [
       "has           555\n",
       "=agt          357\n",
       "=pat          323\n",
       "at            308\n",
       "cause         308\n",
       "             ... \n",
       "proclaim        0\n",
       "procession      0\n",
       "drip            0\n",
       "proceed         0\n",
       "-able           0\n",
       "Length: 3185, dtype: int64"
      ]
     },
     "execution_count": 52,
     "metadata": {},
     "output_type": "execute_result"
    }
   ],
   "source": [
    "pd.Series(dict(def_graph.in_degree())).sort_values(ascending=False)"
   ]
  },
  {
   "cell_type": "code",
   "execution_count": 53,
   "id": "eefbb5a5",
   "metadata": {},
   "outputs": [
    {
     "data": {
      "text/plain": [
       "park         16\n",
       "lens         16\n",
       "golf         15\n",
       "fox          14\n",
       "honey        14\n",
       "             ..\n",
       "@hamburg      0\n",
       "@hanukkah     0\n",
       "@hawaii       0\n",
       "@himalaya     0\n",
       "=for          0\n",
       "Length: 3185, dtype: int64"
      ]
     },
     "execution_count": 53,
     "metadata": {},
     "output_type": "execute_result"
    }
   ],
   "source": [
    "pd.Series(dict(def_graph.out_degree())).sort_values(ascending=False)"
   ]
  },
  {
   "cell_type": "code",
   "execution_count": 13,
   "id": "2c2e805f",
   "metadata": {},
   "outputs": [
    {
     "data": {
      "text/plain": [
       "(2965, 11)"
      ]
     },
     "execution_count": 13,
     "metadata": {},
     "output_type": "execute_result"
    }
   ],
   "source": [
    "fl.shape"
   ]
  },
  {
   "cell_type": "code",
   "execution_count": 14,
   "id": "2e17764b",
   "metadata": {},
   "outputs": [
    {
     "data": {
      "text/plain": [
       "3185"
      ]
     },
     "execution_count": 14,
     "metadata": {},
     "output_type": "execute_result"
    }
   ],
   "source": [
    "def_graph.number_of_nodes()"
   ]
  },
  {
   "cell_type": "markdown",
   "id": "c6bc49b8",
   "metadata": {},
   "source": [
    "# Primitives"
   ]
  },
  {
   "cell_type": "code",
   "execution_count": 16,
   "id": "8316242c",
   "metadata": {},
   "outputs": [
    {
     "name": "stdout",
     "output_type": "stream",
     "text": [
      "Pretty printing has been turned OFF\n",
      "['all', 'also', 'be', 'before', 'celebrate', 'characteristic', 'enthusiastic', 'er', 'for', 'for/2782', 'from', 'has', 'identity', 'inherent', 'is_a', 'lack', 'next_to', 'not', 'other', 'palm', 'part_of', 'passionate', 'target', 'tired', 'want']\n",
      "Pretty printing has been turned ON\n"
     ]
    }
   ],
   "source": [
    "%pprint\n",
    "print(sorted(set(concept \n",
    "                 for concept in set(def_graph.nodes) - set(fl.unambig_hwd)  if not re.match('^[=@]', concept))))\n",
    "%pprint"
   ]
  },
  {
   "cell_type": "markdown",
   "id": "b86dc6cc",
   "metadata": {},
   "source": [
    "# Strongly connected components"
   ]
  },
  {
   "cell_type": "code",
   "execution_count": 107,
   "id": "7f54726c",
   "metadata": {},
   "outputs": [],
   "source": [
    "def get_components_with_size():\n",
    "    for component in nx.strongly_connected_components(def_graph):\n",
    "        yield ', '.join(sorted(component)), len(component)"
   ]
  },
  {
   "cell_type": "code",
   "execution_count": 108,
   "id": "9a46109f",
   "metadata": {},
   "outputs": [],
   "source": [
    "components = pd.Series(dict(get_components_with_size()))"
   ]
  },
  {
   "cell_type": "code",
   "execution_count": 122,
   "id": "c3afae66",
   "metadata": {},
   "outputs": [
    {
     "data": {
      "text/plain": [
       "2478"
      ]
     },
     "execution_count": 122,
     "metadata": {},
     "output_type": "execute_result"
    }
   ],
   "source": [
    "len(components)"
   ]
  },
  {
   "cell_type": "code",
   "execution_count": 145,
   "id": "2cd6c80f",
   "metadata": {},
   "outputs": [
    {
     "data": {
      "text/plain": [
       "623"
      ]
     },
     "execution_count": 145,
     "metadata": {},
     "output_type": "execute_result"
    }
   ],
   "source": [
    "components[0]"
   ]
  },
  {
   "cell_type": "code",
   "execution_count": 129,
   "id": "e452ea4e",
   "metadata": {},
   "outputs": [
    {
     "data": {
      "text/plain": [
       "april, august, december, february, january, july, june, march/1563, may/1560, november, october, september    12\n",
       "friday, monday, saturday, sunday, thursday, tuesday, wednesday                                                 7\n",
       "bed, chair, cupboard, furniture, table                                                                         5\n",
       "cereal, flour, grain, wheat                                                                                    4\n",
       "draw/2707, pen, pencil, write                                                                                  4\n",
       "king, monarch, queen, royal                                                                                    4\n",
       "autumn, spring/2318, summer, winter                                                                            4\n",
       "dtype: int64"
      ]
     },
     "execution_count": 129,
     "metadata": {},
     "output_type": "execute_result"
    }
   ],
   "source": [
    "components[components>3][1:]"
   ]
  },
  {
   "cell_type": "code",
   "execution_count": 130,
   "id": "8e6d18c6",
   "metadata": {},
   "outputs": [
    {
     "data": {
      "text/plain": [
       "buttocks, seat, sit           3\n",
       "camera, lens, photograph      3\n",
       "calm, disturb, upset          3\n",
       "answer, question, reply       3\n",
       "bake, bread, cake             3\n",
       "female, male, sex             3\n",
       "justice, right/1191, wrong    3\n",
       "actor, stage/2220, theatre    3\n",
       "many, much, quantity          3\n",
       "husband, marriage, wife       3\n",
       "poem, poet, poetry            3\n",
       "cutlery, fork, spoon          3\n",
       "dtype: int64"
      ]
     },
     "execution_count": 130,
     "metadata": {},
     "output_type": "execute_result"
    }
   ],
   "source": [
    "components[components==3]"
   ]
  },
  {
   "cell_type": "code",
   "execution_count": 140,
   "id": "37325e33",
   "metadata": {},
   "outputs": [
    {
     "data": {
      "text/plain": [
       "president, republic       2\n",
       "bell, ring/2735           2\n",
       "bottle, glass             2\n",
       "dirt, dust                2\n",
       "hill, mountain            2\n",
       "hang, swing               2\n",
       "problem, solve            2\n",
       "thick/2134, thin/1038     2\n",
       "acid, sour                2\n",
       "door, entrance            2\n",
       "attention, interesting    2\n",
       "elephant, trunk/1910      2\n",
       "guest, host/2605          2\n",
       "rat, rodent               2\n",
       "soap, wash                2\n",
       "now, this                 2\n",
       "level, scale              2\n",
       "programme, television     2\n",
       "dig, spade                2\n",
       "cause, reason             2\n",
       "news, newspaper           2\n",
       "electricity, wire         2\n",
       "school, student           2\n",
       "balance/1607, weigh       2\n",
       "brush, paint              2\n",
       "horse, ride               2\n",
       "book, page                2\n",
       "exist, real               2\n",
       "dtype: int64"
      ]
     },
     "execution_count": 140,
     "metadata": {},
     "output_type": "execute_result"
    }
   ],
   "source": [
    "components[components==2]"
   ]
  },
  {
   "cell_type": "markdown",
   "id": "bed63532",
   "metadata": {},
   "source": [
    "## Edges between the huge component and the medium ones"
   ]
  },
  {
   "cell_type": "code",
   "execution_count": 146,
   "id": "4f4c8d7b",
   "metadata": {},
   "outputs": [
    {
     "data": {
      "text/plain": [
       "True"
      ]
     },
     "execution_count": 146,
     "metadata": {},
     "output_type": "execute_result"
    }
   ],
   "source": [
    "'month' in components.index[0]"
   ]
  },
  {
   "cell_type": "code",
   "execution_count": 153,
   "id": "11e750af",
   "metadata": {},
   "outputs": [
    {
     "name": "stdout",
     "output_type": "stream",
     "text": [
      "Pretty printing has been turned OFF\n",
      "['part_of', 'time', 'twelve', 'unit', 'year']\n",
      "Pretty printing has been turned ON\n"
     ]
    }
   ],
   "source": [
    "%pprint\n",
    "print(sorted(list(nx.neighbors(def_graph, 'month'))))\n",
    "%pprint"
   ]
  },
  {
   "cell_type": "code",
   "execution_count": 152,
   "id": "739cf1c8",
   "metadata": {},
   "outputs": [
    {
     "name": "stdout",
     "output_type": "stream",
     "text": [
      "Pretty printing has been turned OFF\n",
      "['12-month', 'april', 'august', 'date', 'day', 'december', 'february', 'january', 'july', 'june', 'march/1563', 'may/1560', 'november', 'october', 'salary', 'september', 'year']\n",
      "Pretty printing has been turned ON\n"
     ]
    }
   ],
   "source": [
    "%pprint\n",
    "print(sorted(list(nx.neighbors(def_graph.reverse(), 'month'))))\n",
    "%pprint"
   ]
  },
  {
   "cell_type": "markdown",
   "id": "8cfea60a",
   "metadata": {},
   "source": [
    "## Singletons"
   ]
  },
  {
   "cell_type": "code",
   "execution_count": 59,
   "id": "664418b3",
   "metadata": {},
   "outputs": [],
   "source": [
    "in_degree_ser = pd.Series(dict(def_graph.in_degree()))"
   ]
  },
  {
   "cell_type": "code",
   "execution_count": 199,
   "id": "fcee159c",
   "metadata": {},
   "outputs": [],
   "source": [
    "out_degree_ser = pd.Series(dict(def_graph.out_degree()))"
   ]
  },
  {
   "cell_type": "code",
   "execution_count": 217,
   "id": "cbc7f89b",
   "metadata": {},
   "outputs": [
    {
     "data": {
      "text/plain": [
       "linoleum     1\n",
       "lime/1609    1\n",
       "lip          1\n",
       "lightning    1\n",
       "lime/2773    1\n",
       "            ..\n",
       "store        1\n",
       "shelf        1\n",
       "pity         1\n",
       "beg          1\n",
       "vine         1\n",
       "Length: 2430, dtype: int64"
      ]
     },
     "execution_count": 217,
     "metadata": {},
     "output_type": "execute_result"
    }
   ],
   "source": [
    "components[components==1]"
   ]
  },
  {
   "cell_type": "code",
   "execution_count": 204,
   "id": "36d88a1a",
   "metadata": {},
   "outputs": [
    {
     "data": {
      "text/plain": [
       "['material', 'cover', 'floor', 'strong']"
      ]
     },
     "execution_count": 204,
     "metadata": {},
     "output_type": "execute_result"
    }
   ],
   "source": [
    "list(nx.neighbors(def_graph, 'linoleum'))"
   ]
  },
  {
   "cell_type": "code",
   "execution_count": 206,
   "id": "6d6eb44b",
   "metadata": {},
   "outputs": [
    {
     "data": {
      "text/plain": [
       "[]"
      ]
     },
     "execution_count": 206,
     "metadata": {},
     "output_type": "execute_result"
    }
   ],
   "source": [
    "list(nx.neighbors(def_graph.reverse(), 'linoleum'))"
   ]
  },
  {
   "cell_type": "code",
   "execution_count": 215,
   "id": "2bf41d04",
   "metadata": {},
   "outputs": [
    {
     "data": {
      "text/plain": [
       "1"
      ]
     },
     "execution_count": 215,
     "metadata": {},
     "output_type": "execute_result"
    }
   ],
   "source": [
    "components['ability']"
   ]
  },
  {
   "cell_type": "code",
   "execution_count": 213,
   "id": "b4bbb467",
   "metadata": {},
   "outputs": [
    {
     "data": {
      "text/plain": [
       "['can/1246']"
      ]
     },
     "execution_count": 213,
     "metadata": {},
     "output_type": "execute_result"
    }
   ],
   "source": [
    "list(nx.neighbors(def_graph, 'ability'))"
   ]
  },
  {
   "cell_type": "code",
   "execution_count": 214,
   "id": "c1bb8d70",
   "metadata": {},
   "outputs": [
    {
     "data": {
      "text/plain": [
       "['modest']"
      ]
     },
     "execution_count": 214,
     "metadata": {},
     "output_type": "execute_result"
    }
   ],
   "source": [
    "list(nx.neighbors(def_graph.reverse(), 'ability'))"
   ]
  },
  {
   "cell_type": "code",
   "execution_count": 218,
   "id": "6297275c",
   "metadata": {},
   "outputs": [
    {
     "data": {
      "text/plain": [
       "1"
      ]
     },
     "execution_count": 218,
     "metadata": {},
     "output_type": "execute_result"
    }
   ],
   "source": [
    "components['modest']"
   ]
  },
  {
   "cell_type": "code",
   "execution_count": 219,
   "id": "0ce68de5",
   "metadata": {},
   "outputs": [
    {
     "data": {
      "text/plain": [
       "['humble']"
      ]
     },
     "execution_count": 219,
     "metadata": {},
     "output_type": "execute_result"
    }
   ],
   "source": [
    "list(nx.neighbors(def_graph.reverse(), 'modest'))"
   ]
  },
  {
   "cell_type": "markdown",
   "id": "48085ab5",
   "metadata": {},
   "source": [
    "# PageRank"
   ]
  },
  {
   "cell_type": "code",
   "execution_count": 17,
   "id": "86350fe0",
   "metadata": {},
   "outputs": [
    {
     "name": "stderr",
     "output_type": "stream",
     "text": [
      "/tmp/ipykernel_2584/871140155.py:1: FutureWarning: adjacency_matrix will return a scipy.sparse array instead of a matrix in Networkx 3.0.\n",
      "  scores = PageRank().fit_predict(nx.adjacency_matrix(def_graph))\n"
     ]
    }
   ],
   "source": [
    "scores = PageRank().fit_predict(nx.adjacency_matrix(def_graph))"
   ]
  },
  {
   "cell_type": "code",
   "execution_count": 18,
   "id": "264428b4",
   "metadata": {},
   "outputs": [],
   "source": [
    "fl.set_index('unambig_hwd', inplace=True)"
   ]
  },
  {
   "cell_type": "code",
   "execution_count": 19,
   "id": "f211ba26",
   "metadata": {},
   "outputs": [],
   "source": [
    "fl['pagerank'] = dict(zip(def_graph.nodes, scores))"
   ]
  },
  {
   "cell_type": "code",
   "execution_count": 27,
   "id": "0d302c45",
   "metadata": {},
   "outputs": [],
   "source": [
    "fl.sort_values('pagerank', ascending=False, inplace=True)"
   ]
  },
  {
   "cell_type": "code",
   "execution_count": 32,
   "id": "a99cf6aa",
   "metadata": {},
   "outputs": [
    {
     "data": {
      "image/png": "[encoded data removed]",
      "text/plain": [
       "<Figure size 640x480 with 1 Axes>"
      ]
     },
     "metadata": {},
     "output_type": "display_data"
    }
   ],
   "source": [
    "fl.pagerank.plot()\n",
    "plt.xscale('log')\n",
    "plt.yscale('log')"
   ]
  },
  {
   "cell_type": "markdown",
   "id": "9a46f1ec",
   "metadata": {},
   "source": [
    "# The top"
   ]
  },
  {
   "cell_type": "code",
   "execution_count": 40,
   "id": "7cea3bb8",
   "metadata": {},
   "outputs": [
    {
     "data": {
      "image/png": "[encoded data removed]",
      "text/plain": [
       "<Figure size 640x480 with 1 Axes>"
      ]
     },
     "metadata": {},
     "output_type": "display_data"
    }
   ],
   "source": [
    "fl.iloc[:40].pagerank.plot()\n",
    "plt.xscale('log')\n",
    "plt.yscale('log')"
   ]
  },
  {
   "cell_type": "code",
   "execution_count": 91,
   "id": "6e490b58",
   "metadata": {},
   "outputs": [
    {
     "data": {
      "text/html": [
       "<div>\n",
       "<style scoped>\n",
       "    .dataframe tbody tr th:only-of-type {\n",
       "        vertical-align: middle;\n",
       "    }\n",
       "\n",
       "    .dataframe tbody tr th {\n",
       "        vertical-align: top;\n",
       "    }\n",
       "\n",
       "    .dataframe thead th {\n",
       "        text-align: right;\n",
       "    }\n",
       "</style>\n",
       "<table border=\"1\" class=\"dataframe\">\n",
       "  <thead>\n",
       "    <tr style=\"text-align: right;\">\n",
       "      <th></th>\n",
       "      <th>en</th>\n",
       "      <th>hu</th>\n",
       "      <th>la</th>\n",
       "      <th>pl</th>\n",
       "      <th>id</th>\n",
       "      <th>uro</th>\n",
       "      <th>pos</th>\n",
       "      <th>defi</th>\n",
       "      <th>comment</th>\n",
       "      <th>ambig</th>\n",
       "      <th>pagerank</th>\n",
       "    </tr>\n",
       "    <tr>\n",
       "      <th>unambig_hwd</th>\n",
       "      <th></th>\n",
       "      <th></th>\n",
       "      <th></th>\n",
       "      <th></th>\n",
       "      <th></th>\n",
       "      <th></th>\n",
       "      <th></th>\n",
       "      <th></th>\n",
       "      <th></th>\n",
       "      <th></th>\n",
       "      <th></th>\n",
       "    </tr>\n",
       "  </thead>\n",
       "  <tbody>\n",
       "    <tr>\n",
       "      <th>exist</th>\n",
       "      <td>exist</td>\n",
       "      <td>van</td>\n",
       "      <td>exsto</td>\n",
       "      <td>byc1</td>\n",
       "      <td>2587</td>\n",
       "      <td>u</td>\n",
       "      <td>V</td>\n",
       "      <td>real</td>\n",
       "      <td>NaN</td>\n",
       "      <td>False</td>\n",
       "      <td>0.025244</td>\n",
       "    </tr>\n",
       "    <tr>\n",
       "      <th>at</th>\n",
       "      <td>at</td>\n",
       "      <td>-na1l</td>\n",
       "      <td>apud</td>\n",
       "      <td>u</td>\n",
       "      <td>2744</td>\n",
       "      <td>u</td>\n",
       "      <td>G</td>\n",
       "      <td>=pat[place/1026]</td>\n",
       "      <td>NaN</td>\n",
       "      <td>False</td>\n",
       "      <td>0.025138</td>\n",
       "    </tr>\n",
       "    <tr>\n",
       "      <th>reason</th>\n",
       "      <td>reason</td>\n",
       "      <td>ok</td>\n",
       "      <td>ratio</td>\n",
       "      <td>powo1d</td>\n",
       "      <td>1892</td>\n",
       "      <td>u</td>\n",
       "      <td>N</td>\n",
       "      <td>cause =poss</td>\n",
       "      <td>relational noun</td>\n",
       "      <td>False</td>\n",
       "      <td>0.023064</td>\n",
       "    </tr>\n",
       "    <tr>\n",
       "      <th>cause</th>\n",
       "      <td>cause</td>\n",
       "      <td>ok</td>\n",
       "      <td>causa</td>\n",
       "      <td>powo1d</td>\n",
       "      <td>1891</td>\n",
       "      <td>NaN</td>\n",
       "      <td>N</td>\n",
       "      <td>reason</td>\n",
       "      <td>NaN</td>\n",
       "      <td>False</td>\n",
       "      <td>0.022473</td>\n",
       "    </tr>\n",
       "    <tr>\n",
       "      <th>real</th>\n",
       "      <td>real</td>\n",
       "      <td>igazi</td>\n",
       "      <td>verus</td>\n",
       "      <td>prawdziwy</td>\n",
       "      <td>1126</td>\n",
       "      <td>u</td>\n",
       "      <td>A</td>\n",
       "      <td>exist</td>\n",
       "      <td>NaN</td>\n",
       "      <td>False</td>\n",
       "      <td>0.022016</td>\n",
       "    </tr>\n",
       "    <tr>\n",
       "      <th>place/1026</th>\n",
       "      <td>place</td>\n",
       "      <td>hely</td>\n",
       "      <td>locus</td>\n",
       "      <td>miejsce</td>\n",
       "      <td>1026</td>\n",
       "      <td>u</td>\n",
       "      <td>N</td>\n",
       "      <td>point, ' at/2744</td>\n",
       "      <td>NaN</td>\n",
       "      <td>True</td>\n",
       "      <td>0.017554</td>\n",
       "    </tr>\n",
       "    <tr>\n",
       "      <th>in</th>\n",
       "      <td>in</td>\n",
       "      <td>-ban</td>\n",
       "      <td>in</td>\n",
       "      <td>w</td>\n",
       "      <td>2758</td>\n",
       "      <td>u</td>\n",
       "      <td>G</td>\n",
       "      <td>=rel contain, at/2744 =rel</td>\n",
       "      <td>NaN</td>\n",
       "      <td>False</td>\n",
       "      <td>0.016165</td>\n",
       "    </tr>\n",
       "    <tr>\n",
       "      <th>quantity</th>\n",
       "      <td>quantity</td>\n",
       "      <td>mennyise1g</td>\n",
       "      <td>quantitas</td>\n",
       "      <td>ilos1c1</td>\n",
       "      <td>1667</td>\n",
       "      <td>NaN</td>\n",
       "      <td>N</td>\n",
       "      <td>much, &lt;large&gt;</td>\n",
       "      <td>NaN</td>\n",
       "      <td>False</td>\n",
       "      <td>0.009905</td>\n",
       "    </tr>\n",
       "    <tr>\n",
       "      <th>degree</th>\n",
       "      <td>degree</td>\n",
       "      <td>fok</td>\n",
       "      <td>gradus</td>\n",
       "      <td>stopien1</td>\n",
       "      <td>836</td>\n",
       "      <td>u</td>\n",
       "      <td>N</td>\n",
       "      <td>step, process has</td>\n",
       "      <td>scale HAS % Longman: qualification</td>\n",
       "      <td>False</td>\n",
       "      <td>0.009466</td>\n",
       "    </tr>\n",
       "    <tr>\n",
       "      <th>point</th>\n",
       "      <td>point</td>\n",
       "      <td>pont</td>\n",
       "      <td>punctum</td>\n",
       "      <td>punkt</td>\n",
       "      <td>1969</td>\n",
       "      <td>u</td>\n",
       "      <td>N</td>\n",
       "      <td>degree</td>\n",
       "      <td>NaN</td>\n",
       "      <td>False</td>\n",
       "      <td>0.009130</td>\n",
       "    </tr>\n",
       "    <tr>\n",
       "      <th>man/659</th>\n",
       "      <td>man</td>\n",
       "      <td>ember</td>\n",
       "      <td>homo</td>\n",
       "      <td>czl1owiek</td>\n",
       "      <td>659</td>\n",
       "      <td>u</td>\n",
       "      <td>N</td>\n",
       "      <td>mammal, has two(leg), has two(hand), think, ca...</td>\n",
       "      <td>opposed to animal, divine person, or machine</td>\n",
       "      <td>True</td>\n",
       "      <td>0.007482</td>\n",
       "    </tr>\n",
       "    <tr>\n",
       "      <th>many</th>\n",
       "      <td>many</td>\n",
       "      <td>sok</td>\n",
       "      <td>multus</td>\n",
       "      <td>wiele</td>\n",
       "      <td>2113</td>\n",
       "      <td>NaN</td>\n",
       "      <td>A</td>\n",
       "      <td>quantity, er'</td>\n",
       "      <td>NaN</td>\n",
       "      <td>False</td>\n",
       "      <td>0.007392</td>\n",
       "    </tr>\n",
       "    <tr>\n",
       "      <th>after</th>\n",
       "      <td>after</td>\n",
       "      <td>uta1n</td>\n",
       "      <td>post</td>\n",
       "      <td>po</td>\n",
       "      <td>2533</td>\n",
       "      <td>u</td>\n",
       "      <td>G</td>\n",
       "      <td>follow, in/2758 order/2739</td>\n",
       "      <td>NaN</td>\n",
       "      <td>False</td>\n",
       "      <td>0.007338</td>\n",
       "    </tr>\n",
       "    <tr>\n",
       "      <th>big</th>\n",
       "      <td>big</td>\n",
       "      <td>nagy</td>\n",
       "      <td>magnus</td>\n",
       "      <td>duz1y</td>\n",
       "      <td>1744</td>\n",
       "      <td>u</td>\n",
       "      <td>A</td>\n",
       "      <td>er'</td>\n",
       "      <td>NaN</td>\n",
       "      <td>False</td>\n",
       "      <td>0.006449</td>\n",
       "    </tr>\n",
       "    <tr>\n",
       "      <th>object</th>\n",
       "      <td>object</td>\n",
       "      <td>ta1rgy</td>\n",
       "      <td>corpus</td>\n",
       "      <td>przedmiot</td>\n",
       "      <td>2705</td>\n",
       "      <td>u</td>\n",
       "      <td>N</td>\n",
       "      <td>thing, &lt;has colour&gt;, has shape, has weight, &lt;h...</td>\n",
       "      <td>HAS orientation</td>\n",
       "      <td>False</td>\n",
       "      <td>0.006213</td>\n",
       "    </tr>\n",
       "    <tr>\n",
       "      <th>instrument</th>\n",
       "      <td>instrument</td>\n",
       "      <td>eszko2z</td>\n",
       "      <td>instrumentum</td>\n",
       "      <td>narze1dzie</td>\n",
       "      <td>701</td>\n",
       "      <td>u</td>\n",
       "      <td>N</td>\n",
       "      <td>object, work instrument, ' use, has purpose, a...</td>\n",
       "      <td>NaN</td>\n",
       "      <td>False</td>\n",
       "      <td>0.005876</td>\n",
       "    </tr>\n",
       "    <tr>\n",
       "      <th>contain</th>\n",
       "      <td>contain</td>\n",
       "      <td>tartalmaz</td>\n",
       "      <td>contineo</td>\n",
       "      <td>zawierac1</td>\n",
       "      <td>2313</td>\n",
       "      <td>u</td>\n",
       "      <td>V</td>\n",
       "      <td>=pat in/2758 =agt</td>\n",
       "      <td>NaN</td>\n",
       "      <td>False</td>\n",
       "      <td>0.005749</td>\n",
       "    </tr>\n",
       "    <tr>\n",
       "      <th>large</th>\n",
       "      <td>large</td>\n",
       "      <td>nagy</td>\n",
       "      <td>grandis</td>\n",
       "      <td>duz1y</td>\n",
       "      <td>1745</td>\n",
       "      <td>NaN</td>\n",
       "      <td>A</td>\n",
       "      <td>big</td>\n",
       "      <td>NaN</td>\n",
       "      <td>False</td>\n",
       "      <td>0.005355</td>\n",
       "    </tr>\n",
       "    <tr>\n",
       "      <th>follow</th>\n",
       "      <td>follow</td>\n",
       "      <td>ko2vet</td>\n",
       "      <td>sequor</td>\n",
       "      <td>poda1z1ac1</td>\n",
       "      <td>1400</td>\n",
       "      <td>u</td>\n",
       "      <td>V</td>\n",
       "      <td>=agt has direction, =pat has direction, after(...</td>\n",
       "      <td>NaN</td>\n",
       "      <td>False</td>\n",
       "      <td>0.005237</td>\n",
       "    </tr>\n",
       "    <tr>\n",
       "      <th>much</th>\n",
       "      <td>much</td>\n",
       "      <td>sok</td>\n",
       "      <td>multus</td>\n",
       "      <td>wiele</td>\n",
       "      <td>2114</td>\n",
       "      <td>u</td>\n",
       "      <td>A</td>\n",
       "      <td>many</td>\n",
       "      <td>NaN</td>\n",
       "      <td>False</td>\n",
       "      <td>0.005152</td>\n",
       "    </tr>\n",
       "    <tr>\n",
       "      <th>move</th>\n",
       "      <td>move</td>\n",
       "      <td>mozog</td>\n",
       "      <td>moveor</td>\n",
       "      <td>ruszac1_sie1</td>\n",
       "      <td>1731</td>\n",
       "      <td>u</td>\n",
       "      <td>U</td>\n",
       "      <td>before(=agt at/2744 place/1026), after(=agt at...</td>\n",
       "      <td>NaN</td>\n",
       "      <td>False</td>\n",
       "      <td>0.005103</td>\n",
       "    </tr>\n",
       "    <tr>\n",
       "      <th>person</th>\n",
       "      <td>person</td>\n",
       "      <td>szeme1ly</td>\n",
       "      <td>persona</td>\n",
       "      <td>osoba</td>\n",
       "      <td>2185</td>\n",
       "      <td>NaN</td>\n",
       "      <td>N</td>\n",
       "      <td>man/659</td>\n",
       "      <td>NaN</td>\n",
       "      <td>False</td>\n",
       "      <td>0.005057</td>\n",
       "    </tr>\n",
       "    <tr>\n",
       "      <th>do</th>\n",
       "      <td>do</td>\n",
       "      <td>tesz</td>\n",
       "      <td>facio</td>\n",
       "      <td>robic1</td>\n",
       "      <td>2372</td>\n",
       "      <td>u</td>\n",
       "      <td>N</td>\n",
       "      <td>cause, =agt[animal], =pat[happen]</td>\n",
       "      <td>NaN</td>\n",
       "      <td>False</td>\n",
       "      <td>0.004259</td>\n",
       "    </tr>\n",
       "    <tr>\n",
       "      <th>sex</th>\n",
       "      <td>sex</td>\n",
       "      <td>nem</td>\n",
       "      <td>sexus</td>\n",
       "      <td>pl1ec1</td>\n",
       "      <td>1780</td>\n",
       "      <td>NaN</td>\n",
       "      <td>N</td>\n",
       "      <td>male is_a, female is_a</td>\n",
       "      <td>NaN</td>\n",
       "      <td>False</td>\n",
       "      <td>0.004237</td>\n",
       "    </tr>\n",
       "    <tr>\n",
       "      <th>good</th>\n",
       "      <td>good</td>\n",
       "      <td>jo1</td>\n",
       "      <td>bonus</td>\n",
       "      <td>dobry</td>\n",
       "      <td>1189</td>\n",
       "      <td>u</td>\n",
       "      <td>A</td>\n",
       "      <td>' want</td>\n",
       "      <td>NaN</td>\n",
       "      <td>False</td>\n",
       "      <td>0.004148</td>\n",
       "    </tr>\n",
       "    <tr>\n",
       "      <th>live</th>\n",
       "      <td>live</td>\n",
       "      <td>e1l</td>\n",
       "      <td>vivo</td>\n",
       "      <td>z1yc1</td>\n",
       "      <td>504</td>\n",
       "      <td>u</td>\n",
       "      <td>U</td>\n",
       "      <td>exist, breathe, grow, reproduce, eat, action, ...</td>\n",
       "      <td>NaN</td>\n",
       "      <td>False</td>\n",
       "      <td>0.003685</td>\n",
       "    </tr>\n",
       "    <tr>\n",
       "      <th>change</th>\n",
       "      <td>change</td>\n",
       "      <td>va1ltoztat</td>\n",
       "      <td>muto</td>\n",
       "      <td>zmieniac1</td>\n",
       "      <td>2554</td>\n",
       "      <td>u</td>\n",
       "      <td>V</td>\n",
       "      <td>=pat[different[after]]</td>\n",
       "      <td>NaN</td>\n",
       "      <td>False</td>\n",
       "      <td>0.003494</td>\n",
       "    </tr>\n",
       "    <tr>\n",
       "      <th>step</th>\n",
       "      <td>step</td>\n",
       "      <td>le1p</td>\n",
       "      <td>gradior</td>\n",
       "      <td>kroczyc1</td>\n",
       "      <td>1505</td>\n",
       "      <td>NaN</td>\n",
       "      <td>U</td>\n",
       "      <td>unit, foot on floor, part_of move</td>\n",
       "      <td>NaN</td>\n",
       "      <td>False</td>\n",
       "      <td>0.003337</td>\n",
       "    </tr>\n",
       "    <tr>\n",
       "      <th>process</th>\n",
       "      <td>process</td>\n",
       "      <td>folyamat</td>\n",
       "      <td>processus</td>\n",
       "      <td>proces</td>\n",
       "      <td>2791</td>\n",
       "      <td>u</td>\n",
       "      <td>N</td>\n",
       "      <td>series, action, change, &lt;has result&gt;</td>\n",
       "      <td>NaN</td>\n",
       "      <td>False</td>\n",
       "      <td>0.003295</td>\n",
       "    </tr>\n",
       "    <tr>\n",
       "      <th>animal</th>\n",
       "      <td>animal</td>\n",
       "      <td>a1llat</td>\n",
       "      <td>animal</td>\n",
       "      <td>zwierze1</td>\n",
       "      <td>78</td>\n",
       "      <td>u</td>\n",
       "      <td>N</td>\n",
       "      <td>live, move</td>\n",
       "      <td>NaN</td>\n",
       "      <td>False</td>\n",
       "      <td>0.003239</td>\n",
       "    </tr>\n",
       "    <tr>\n",
       "      <th>group</th>\n",
       "      <td>group</td>\n",
       "      <td>csoport</td>\n",
       "      <td>caterva</td>\n",
       "      <td>grupa</td>\n",
       "      <td>432</td>\n",
       "      <td>u</td>\n",
       "      <td>N</td>\n",
       "      <td>several member, together</td>\n",
       "      <td>TODO</td>\n",
       "      <td>False</td>\n",
       "      <td>0.003223</td>\n",
       "    </tr>\n",
       "    <tr>\n",
       "      <th>colour</th>\n",
       "      <td>colour</td>\n",
       "      <td>szi1n</td>\n",
       "      <td>colour</td>\n",
       "      <td>kolor</td>\n",
       "      <td>2207</td>\n",
       "      <td>u</td>\n",
       "      <td>N</td>\n",
       "      <td>sensation, light/739, red is_a, green is_a, bl...</td>\n",
       "      <td>NaN</td>\n",
       "      <td>False</td>\n",
       "      <td>0.003213</td>\n",
       "    </tr>\n",
       "    <tr>\n",
       "      <th>member</th>\n",
       "      <td>member</td>\n",
       "      <td>tag</td>\n",
       "      <td>membrum/socius</td>\n",
       "      <td>czl1onek</td>\n",
       "      <td>2293</td>\n",
       "      <td>NaN</td>\n",
       "      <td>N</td>\n",
       "      <td>person, =poss[group], person in/2758 group</td>\n",
       "      <td>NaN</td>\n",
       "      <td>False</td>\n",
       "      <td>0.003130</td>\n",
       "    </tr>\n",
       "    <tr>\n",
       "      <th>around</th>\n",
       "      <td>around</td>\n",
       "      <td>ko2re1</td>\n",
       "      <td>circum</td>\n",
       "      <td>dokol1a</td>\n",
       "      <td>1388</td>\n",
       "      <td>u</td>\n",
       "      <td>D</td>\n",
       "      <td>around =rel</td>\n",
       "      <td>NaN</td>\n",
       "      <td>False</td>\n",
       "      <td>0.003047</td>\n",
       "    </tr>\n",
       "    <tr>\n",
       "      <th>state/76</th>\n",
       "      <td>state</td>\n",
       "      <td>a1llam</td>\n",
       "      <td>res_publica</td>\n",
       "      <td>pan1stwo</td>\n",
       "      <td>76</td>\n",
       "      <td>u</td>\n",
       "      <td>N</td>\n",
       "      <td>land, political(unit), has government</td>\n",
       "      <td>decide ABOUT self</td>\n",
       "      <td>True</td>\n",
       "      <td>0.002899</td>\n",
       "    </tr>\n",
       "    <tr>\n",
       "      <th>useful</th>\n",
       "      <td>useful</td>\n",
       "      <td>hasznos</td>\n",
       "      <td>#</td>\n",
       "      <td>#</td>\n",
       "      <td>3134</td>\n",
       "      <td>NaN</td>\n",
       "      <td>A</td>\n",
       "      <td>for/2782 '</td>\n",
       "      <td>NaN</td>\n",
       "      <td>False</td>\n",
       "      <td>0.002863</td>\n",
       "    </tr>\n",
       "    <tr>\n",
       "      <th>make</th>\n",
       "      <td>make</td>\n",
       "      <td>csina1l</td>\n",
       "      <td>facio</td>\n",
       "      <td>robic1</td>\n",
       "      <td>409</td>\n",
       "      <td>u</td>\n",
       "      <td>V</td>\n",
       "      <td>=agt cause[=pat[exist]]</td>\n",
       "      <td>RA</td>\n",
       "      <td>False</td>\n",
       "      <td>0.002768</td>\n",
       "    </tr>\n",
       "    <tr>\n",
       "      <th>work</th>\n",
       "      <td>work</td>\n",
       "      <td>munka</td>\n",
       "      <td>opera</td>\n",
       "      <td>praca</td>\n",
       "      <td>1740</td>\n",
       "      <td>u</td>\n",
       "      <td>N</td>\n",
       "      <td>useful</td>\n",
       "      <td>RA</td>\n",
       "      <td>False</td>\n",
       "      <td>0.002739</td>\n",
       "    </tr>\n",
       "    <tr>\n",
       "      <th>on</th>\n",
       "      <td>on</td>\n",
       "      <td>-n</td>\n",
       "      <td>super</td>\n",
       "      <td>na</td>\n",
       "      <td>33</td>\n",
       "      <td>u</td>\n",
       "      <td>G</td>\n",
       "      <td>at, touch =rel, vertical(er =rel)</td>\n",
       "      <td>NaN</td>\n",
       "      <td>False</td>\n",
       "      <td>0.002635</td>\n",
       "    </tr>\n",
       "    <tr>\n",
       "      <th>order/2739</th>\n",
       "      <td>order</td>\n",
       "      <td>sorrend</td>\n",
       "      <td>ordo</td>\n",
       "      <td>porza1dek</td>\n",
       "      <td>2739</td>\n",
       "      <td>u</td>\n",
       "      <td>N</td>\n",
       "      <td>relation, =poss[more(item)], first part_of</td>\n",
       "      <td>NaN</td>\n",
       "      <td>True</td>\n",
       "      <td>0.002594</td>\n",
       "    </tr>\n",
       "  </tbody>\n",
       "</table>\n",
       "</div>"
      ],
      "text/plain": [
       "                     en          hu              la            pl    id  uro  \\\n",
       "unambig_hwd                                                                    \n",
       "exist             exist         van           exsto          byc1  2587    u   \n",
       "at                   at       -na1l            apud             u  2744    u   \n",
       "reason           reason          ok           ratio        powo1d  1892    u   \n",
       "cause             cause          ok           causa        powo1d  1891  NaN   \n",
       "real               real       igazi           verus     prawdziwy  1126    u   \n",
       "place/1026        place        hely           locus       miejsce  1026    u   \n",
       "in                   in        -ban              in             w  2758    u   \n",
       "quantity       quantity  mennyise1g       quantitas       ilos1c1  1667  NaN   \n",
       "degree           degree         fok          gradus      stopien1   836    u   \n",
       "point             point        pont         punctum         punkt  1969    u   \n",
       "man/659             man       ember            homo     czl1owiek   659    u   \n",
       "many               many         sok          multus         wiele  2113  NaN   \n",
       "after             after       uta1n            post            po  2533    u   \n",
       "big                 big        nagy          magnus         duz1y  1744    u   \n",
       "object           object      ta1rgy          corpus     przedmiot  2705    u   \n",
       "instrument   instrument     eszko2z    instrumentum    narze1dzie   701    u   \n",
       "contain         contain   tartalmaz        contineo     zawierac1  2313    u   \n",
       "large             large        nagy         grandis         duz1y  1745  NaN   \n",
       "follow           follow      ko2vet          sequor    poda1z1ac1  1400    u   \n",
       "much               much         sok          multus         wiele  2114    u   \n",
       "move               move       mozog          moveor  ruszac1_sie1  1731    u   \n",
       "person           person    szeme1ly         persona         osoba  2185  NaN   \n",
       "do                   do        tesz           facio        robic1  2372    u   \n",
       "sex                 sex         nem           sexus        pl1ec1  1780  NaN   \n",
       "good               good         jo1           bonus         dobry  1189    u   \n",
       "live               live         e1l            vivo         z1yc1   504    u   \n",
       "change           change  va1ltoztat            muto     zmieniac1  2554    u   \n",
       "step               step        le1p         gradior      kroczyc1  1505  NaN   \n",
       "process         process    folyamat       processus        proces  2791    u   \n",
       "animal           animal      a1llat          animal      zwierze1    78    u   \n",
       "group             group     csoport         caterva         grupa   432    u   \n",
       "colour           colour       szi1n          colour         kolor  2207    u   \n",
       "member           member         tag  membrum/socius      czl1onek  2293  NaN   \n",
       "around           around      ko2re1          circum       dokol1a  1388    u   \n",
       "state/76          state      a1llam     res_publica      pan1stwo    76    u   \n",
       "useful           useful     hasznos               #             #  3134  NaN   \n",
       "make               make     csina1l           facio        robic1   409    u   \n",
       "work               work       munka           opera         praca  1740    u   \n",
       "on                   on          -n           super            na    33    u   \n",
       "order/2739        order     sorrend            ordo     porza1dek  2739    u   \n",
       "\n",
       "            pos                                               defi  \\\n",
       "unambig_hwd                                                          \n",
       "exist         V                                               real   \n",
       "at            G                                   =pat[place/1026]   \n",
       "reason        N                                        cause =poss   \n",
       "cause         N                                             reason   \n",
       "real          A                                              exist   \n",
       "place/1026    N                                   point, ' at/2744   \n",
       "in            G                         =rel contain, at/2744 =rel   \n",
       "quantity      N                                      much, <large>   \n",
       "degree        N                                  step, process has   \n",
       "point         N                                             degree   \n",
       "man/659       N  mammal, has two(leg), has two(hand), think, ca...   \n",
       "many          A                                      quantity, er'   \n",
       "after         G                         follow, in/2758 order/2739   \n",
       "big           A                                                er'   \n",
       "object        N  thing, <has colour>, has shape, has weight, <h...   \n",
       "instrument    N  object, work instrument, ' use, has purpose, a...   \n",
       "contain       V                                  =pat in/2758 =agt   \n",
       "large         A                                                big   \n",
       "follow        V  =agt has direction, =pat has direction, after(...   \n",
       "much          A                                               many   \n",
       "move          U  before(=agt at/2744 place/1026), after(=agt at...   \n",
       "person        N                                            man/659   \n",
       "do            N                  cause, =agt[animal], =pat[happen]   \n",
       "sex           N                             male is_a, female is_a   \n",
       "good          A                                             ' want   \n",
       "live          U  exist, breathe, grow, reproduce, eat, action, ...   \n",
       "change        V                             =pat[different[after]]   \n",
       "step          U                  unit, foot on floor, part_of move   \n",
       "process       N               series, action, change, <has result>   \n",
       "animal        N                                         live, move   \n",
       "group         N                           several member, together   \n",
       "colour        N  sensation, light/739, red is_a, green is_a, bl...   \n",
       "member        N         person, =poss[group], person in/2758 group   \n",
       "around        D                                        around =rel   \n",
       "state/76      N              land, political(unit), has government   \n",
       "useful        A                                         for/2782 '   \n",
       "make          V                            =agt cause[=pat[exist]]   \n",
       "work          N                                             useful   \n",
       "on            G                  at, touch =rel, vertical(er =rel)   \n",
       "order/2739    N         relation, =poss[more(item)], first part_of   \n",
       "\n",
       "                                                  comment  ambig  pagerank  \n",
       "unambig_hwd                                                                 \n",
       "exist                                                 NaN  False  0.025244  \n",
       "at                                                    NaN  False  0.025138  \n",
       "reason                                    relational noun  False  0.023064  \n",
       "cause                                                 NaN  False  0.022473  \n",
       "real                                                  NaN  False  0.022016  \n",
       "place/1026                                            NaN   True  0.017554  \n",
       "in                                                    NaN  False  0.016165  \n",
       "quantity                                              NaN  False  0.009905  \n",
       "degree                 scale HAS % Longman: qualification  False  0.009466  \n",
       "point                                                 NaN  False  0.009130  \n",
       "man/659      opposed to animal, divine person, or machine   True  0.007482  \n",
       "many                                                  NaN  False  0.007392  \n",
       "after                                                 NaN  False  0.007338  \n",
       "big                                                   NaN  False  0.006449  \n",
       "object                                    HAS orientation  False  0.006213  \n",
       "instrument                                            NaN  False  0.005876  \n",
       "contain                                               NaN  False  0.005749  \n",
       "large                                                 NaN  False  0.005355  \n",
       "follow                                                NaN  False  0.005237  \n",
       "much                                                  NaN  False  0.005152  \n",
       "move                                                  NaN  False  0.005103  \n",
       "person                                                NaN  False  0.005057  \n",
       "do                                                    NaN  False  0.004259  \n",
       "sex                                                   NaN  False  0.004237  \n",
       "good                                                  NaN  False  0.004148  \n",
       "live                                                  NaN  False  0.003685  \n",
       "change                                                NaN  False  0.003494  \n",
       "step                                                  NaN  False  0.003337  \n",
       "process                                               NaN  False  0.003295  \n",
       "animal                                                NaN  False  0.003239  \n",
       "group                                                TODO  False  0.003223  \n",
       "colour                                                NaN  False  0.003213  \n",
       "member                                                NaN  False  0.003130  \n",
       "around                                                NaN  False  0.003047  \n",
       "state/76                                decide ABOUT self   True  0.002899  \n",
       "useful                                                NaN  False  0.002863  \n",
       "make                                                   RA  False  0.002768  \n",
       "work                                                   RA  False  0.002739  \n",
       "on                                                    NaN  False  0.002635  \n",
       "order/2739                                            NaN   True  0.002594  "
      ]
     },
     "execution_count": 91,
     "metadata": {},
     "output_type": "execute_result"
    }
   ],
   "source": [
    "fl.head(40)"
   ]
  },
  {
   "cell_type": "markdown",
   "id": "77832019",
   "metadata": {},
   "source": [
    "## _Exist_ and _real_"
   ]
  },
  {
   "cell_type": "markdown",
   "id": "60ae784b",
   "metadata": {},
   "source": [
    "### Out-neighbors"
   ]
  },
  {
   "cell_type": "code",
   "execution_count": 83,
   "id": "83bb3adf",
   "metadata": {},
   "outputs": [
    {
     "data": {
      "text/plain": [
       "['real']"
      ]
     },
     "execution_count": 83,
     "metadata": {},
     "output_type": "execute_result"
    }
   ],
   "source": [
    "list(def_graph.neighbors('exist'))"
   ]
  },
  {
   "cell_type": "code",
   "execution_count": 84,
   "id": "d89b99fe",
   "metadata": {},
   "outputs": [
    {
     "data": {
      "text/plain": [
       "['exist']"
      ]
     },
     "execution_count": 84,
     "metadata": {},
     "output_type": "execute_result"
    }
   ],
   "source": [
    "list(def_graph.neighbors('real'))"
   ]
  },
  {
   "cell_type": "markdown",
   "id": "ebed49b1",
   "metadata": {},
   "source": [
    "### In-neighbors"
   ]
  },
  {
   "cell_type": "code",
   "execution_count": 87,
   "id": "10bbc18e",
   "metadata": {},
   "outputs": [
    {
     "name": "stdout",
     "output_type": "stream",
     "text": [
      "Pretty printing has been turned OFF\n",
      "['actual', 'destroy', 'establish', 'fact', 'live', 'make', 'new', 'origin', 'real', 'thing']\n",
      "Pretty printing has been turned ON\n"
     ]
    }
   ],
   "source": [
    "%pprint\n",
    "print(sorted(list(def_graph.reverse().neighbors('exist'))))\n",
    "%pprint"
   ]
  },
  {
   "cell_type": "code",
   "execution_count": 88,
   "id": "8b8a5788",
   "metadata": {},
   "outputs": [
    {
     "name": "stdout",
     "output_type": "stream",
     "text": [
      "Pretty printing has been turned OFF\n",
      "['article', 'artificial', 'believe', 'dream', 'exist', 'expect', 'fiction', 'imaginary', 'practice', 'prove', 'romantic', 'sincere', 'succeed/2718', 'success']\n",
      "Pretty printing has been turned ON\n"
     ]
    }
   ],
   "source": [
    "%pprint\n",
    "print(sorted(list(def_graph.reverse().neighbors('real'))))\n",
    "%pprint"
   ]
  },
  {
   "cell_type": "markdown",
   "id": "f7756219",
   "metadata": {},
   "source": [
    "# The tail"
   ]
  },
  {
   "cell_type": "code",
   "execution_count": 43,
   "id": "7ec1220a",
   "metadata": {},
   "outputs": [
    {
     "data": {
      "text/html": [
       "<div>\n",
       "<style scoped>\n",
       "    .dataframe tbody tr th:only-of-type {\n",
       "        vertical-align: middle;\n",
       "    }\n",
       "\n",
       "    .dataframe tbody tr th {\n",
       "        vertical-align: top;\n",
       "    }\n",
       "\n",
       "    .dataframe thead th {\n",
       "        text-align: right;\n",
       "    }\n",
       "</style>\n",
       "<table border=\"1\" class=\"dataframe\">\n",
       "  <thead>\n",
       "    <tr style=\"text-align: right;\">\n",
       "      <th></th>\n",
       "      <th>en</th>\n",
       "      <th>hu</th>\n",
       "      <th>la</th>\n",
       "      <th>pl</th>\n",
       "      <th>id</th>\n",
       "      <th>uro</th>\n",
       "      <th>pos</th>\n",
       "      <th>defi</th>\n",
       "      <th>comment</th>\n",
       "      <th>ambig</th>\n",
       "      <th>pagerank</th>\n",
       "    </tr>\n",
       "    <tr>\n",
       "      <th>unambig_hwd</th>\n",
       "      <th></th>\n",
       "      <th></th>\n",
       "      <th></th>\n",
       "      <th></th>\n",
       "      <th></th>\n",
       "      <th></th>\n",
       "      <th></th>\n",
       "      <th></th>\n",
       "      <th></th>\n",
       "      <th></th>\n",
       "      <th></th>\n",
       "    </tr>\n",
       "  </thead>\n",
       "  <tbody>\n",
       "    <tr>\n",
       "      <th>stretch</th>\n",
       "      <td>stretch</td>\n",
       "      <td>nyu1jt</td>\n",
       "      <td>porrigo</td>\n",
       "      <td>rozcia1gac1</td>\n",
       "      <td>1823</td>\n",
       "      <td>NaN</td>\n",
       "      <td>N</td>\n",
       "      <td>cause[=pat[long,extend]]</td>\n",
       "      <td>NaN</td>\n",
       "      <td>False</td>\n",
       "      <td>0.000056</td>\n",
       "    </tr>\n",
       "    <tr>\n",
       "      <th>when</th>\n",
       "      <td>when</td>\n",
       "      <td>mikor</td>\n",
       "      <td>quando</td>\n",
       "      <td>kiedy</td>\n",
       "      <td>1689</td>\n",
       "      <td>u</td>\n",
       "      <td>D</td>\n",
       "      <td>at/2744 what(time)</td>\n",
       "      <td>NaN</td>\n",
       "      <td>False</td>\n",
       "      <td>0.000056</td>\n",
       "    </tr>\n",
       "    <tr>\n",
       "      <th>presence</th>\n",
       "      <td>presence</td>\n",
       "      <td>jelenle1t</td>\n",
       "      <td>praesentia</td>\n",
       "      <td>obecnos1c1</td>\n",
       "      <td>1185</td>\n",
       "      <td>NaN</td>\n",
       "      <td>N</td>\n",
       "      <td>=poss at/2744 place/1026</td>\n",
       "      <td>NaN</td>\n",
       "      <td>False</td>\n",
       "      <td>0.000056</td>\n",
       "    </tr>\n",
       "    <tr>\n",
       "      <th>sorry</th>\n",
       "      <td>sorry</td>\n",
       "      <td>bu1s</td>\n",
       "      <td>tristis</td>\n",
       "      <td>smutny</td>\n",
       "      <td>342</td>\n",
       "      <td>u</td>\n",
       "      <td>A</td>\n",
       "      <td>feel pity</td>\n",
       "      <td>NaN</td>\n",
       "      <td>False</td>\n",
       "      <td>0.000056</td>\n",
       "    </tr>\n",
       "    <tr>\n",
       "      <th>something</th>\n",
       "      <td>something</td>\n",
       "      <td>valami</td>\n",
       "      <td>aliquid</td>\n",
       "      <td>cos1</td>\n",
       "      <td>2579</td>\n",
       "      <td>NaN</td>\n",
       "      <td>N</td>\n",
       "      <td>thing</td>\n",
       "      <td>NaN</td>\n",
       "      <td>False</td>\n",
       "      <td>0.000056</td>\n",
       "    </tr>\n",
       "    <tr>\n",
       "      <th>...</th>\n",
       "      <td>...</td>\n",
       "      <td>...</td>\n",
       "      <td>...</td>\n",
       "      <td>...</td>\n",
       "      <td>...</td>\n",
       "      <td>...</td>\n",
       "      <td>...</td>\n",
       "      <td>...</td>\n",
       "      <td>...</td>\n",
       "      <td>...</td>\n",
       "      <td>...</td>\n",
       "    </tr>\n",
       "    <tr>\n",
       "      <th>friend</th>\n",
       "      <td>friend</td>\n",
       "      <td>bara1t</td>\n",
       "      <td>amicus</td>\n",
       "      <td>przyjaciel</td>\n",
       "      <td>228</td>\n",
       "      <td>u</td>\n",
       "      <td>N</td>\n",
       "      <td>person, =poss know, =poss like/3382, =poss trust</td>\n",
       "      <td>NaN</td>\n",
       "      <td>False</td>\n",
       "      <td>0.000056</td>\n",
       "    </tr>\n",
       "    <tr>\n",
       "      <th>fresh</th>\n",
       "      <td>fresh</td>\n",
       "      <td>friss</td>\n",
       "      <td>viridis</td>\n",
       "      <td>s1wiez1y</td>\n",
       "      <td>863</td>\n",
       "      <td>NaN</td>\n",
       "      <td>N</td>\n",
       "      <td>new, replace</td>\n",
       "      <td>NaN</td>\n",
       "      <td>False</td>\n",
       "      <td>0.000056</td>\n",
       "    </tr>\n",
       "    <tr>\n",
       "      <th>french-canadian</th>\n",
       "      <td>french-canadian</td>\n",
       "      <td>francia-kanadai</td>\n",
       "      <td>#</td>\n",
       "      <td>#</td>\n",
       "      <td>3299</td>\n",
       "      <td>NaN</td>\n",
       "      <td>A</td>\n",
       "      <td>member [nation,@canada], has parent, parent me...</td>\n",
       "      <td>NaN</td>\n",
       "      <td>False</td>\n",
       "      <td>0.000056</td>\n",
       "    </tr>\n",
       "    <tr>\n",
       "      <th>freeze</th>\n",
       "      <td>freeze</td>\n",
       "      <td>fagy</td>\n",
       "      <td>gelu</td>\n",
       "      <td>mro1z</td>\n",
       "      <td>715</td>\n",
       "      <td>NaN</td>\n",
       "      <td>N</td>\n",
       "      <td>cold cause, before(liquid), solid[after, &lt;ice&gt;]</td>\n",
       "      <td>NaN</td>\n",
       "      <td>False</td>\n",
       "      <td>0.000056</td>\n",
       "    </tr>\n",
       "    <tr>\n",
       "      <th>vine</th>\n",
       "      <td>vine</td>\n",
       "      <td>szo3lo3</td>\n",
       "      <td>#</td>\n",
       "      <td>#</td>\n",
       "      <td>#</td>\n",
       "      <td>NaN</td>\n",
       "      <td>N</td>\n",
       "      <td>plant, &lt;grape&gt;</td>\n",
       "      <td>Longman real DV</td>\n",
       "      <td>False</td>\n",
       "      <td>0.000056</td>\n",
       "    </tr>\n",
       "  </tbody>\n",
       "</table>\n",
       "<p>1551 rows × 11 columns</p>\n",
       "</div>"
      ],
      "text/plain": [
       "                              en               hu          la           pl  \\\n",
       "unambig_hwd                                                                  \n",
       "stretch                  stretch           nyu1jt     porrigo  rozcia1gac1   \n",
       "when                        when            mikor      quando        kiedy   \n",
       "presence                presence        jelenle1t  praesentia   obecnos1c1   \n",
       "sorry                      sorry             bu1s     tristis       smutny   \n",
       "something              something           valami     aliquid         cos1   \n",
       "...                          ...              ...         ...          ...   \n",
       "friend                    friend           bara1t      amicus   przyjaciel   \n",
       "fresh                      fresh            friss     viridis     s1wiez1y   \n",
       "french-canadian  french-canadian  francia-kanadai           #            #   \n",
       "freeze                    freeze             fagy        gelu        mro1z   \n",
       "vine                        vine          szo3lo3           #            #   \n",
       "\n",
       "                   id  uro pos  \\\n",
       "unambig_hwd                      \n",
       "stretch          1823  NaN   N   \n",
       "when             1689    u   D   \n",
       "presence         1185  NaN   N   \n",
       "sorry             342    u   A   \n",
       "something        2579  NaN   N   \n",
       "...               ...  ...  ..   \n",
       "friend            228    u   N   \n",
       "fresh             863  NaN   N   \n",
       "french-canadian  3299  NaN   A   \n",
       "freeze            715  NaN   N   \n",
       "vine                #  NaN   N   \n",
       "\n",
       "                                                              defi  \\\n",
       "unambig_hwd                                                          \n",
       "stretch                                   cause[=pat[long,extend]]   \n",
       "when                                            at/2744 what(time)   \n",
       "presence                                  =poss at/2744 place/1026   \n",
       "sorry                                                    feel pity   \n",
       "something                                                    thing   \n",
       "...                                                            ...   \n",
       "friend            person, =poss know, =poss like/3382, =poss trust   \n",
       "fresh                                                 new, replace   \n",
       "french-canadian  member [nation,@canada], has parent, parent me...   \n",
       "freeze             cold cause, before(liquid), solid[after, <ice>]   \n",
       "vine                                                plant, <grape>   \n",
       "\n",
       "                         comment  ambig  pagerank  \n",
       "unambig_hwd                                        \n",
       "stretch                      NaN  False  0.000056  \n",
       "when                         NaN  False  0.000056  \n",
       "presence                     NaN  False  0.000056  \n",
       "sorry                        NaN  False  0.000056  \n",
       "something                    NaN  False  0.000056  \n",
       "...                          ...    ...       ...  \n",
       "friend                       NaN  False  0.000056  \n",
       "fresh                        NaN  False  0.000056  \n",
       "french-canadian              NaN  False  0.000056  \n",
       "freeze                       NaN  False  0.000056  \n",
       "vine             Longman real DV  False  0.000056  \n",
       "\n",
       "[1551 rows x 11 columns]"
      ]
     },
     "execution_count": 43,
     "metadata": {},
     "output_type": "execute_result"
    }
   ],
   "source": [
    "fl[fl.pagerank<.000057]"
   ]
  },
  {
   "cell_type": "code",
   "execution_count": 68,
   "id": "b6fab05b",
   "metadata": {},
   "outputs": [
    {
     "data": {
      "text/plain": [
       "       pagerank\n",
       "False  False       1414\n",
       "True   True        1551\n",
       "dtype: int64"
      ]
     },
     "execution_count": 68,
     "metadata": {},
     "output_type": "execute_result"
    }
   ],
   "source": [
    "fl.groupby([in_degree_ser==0,fl.pagerank<5.578344e-05]).size()"
   ]
  }
 ],
 "metadata": {
  "kernelspec": {
   "display_name": "Python 3 (ipykernel)",
   "language": "python",
   "name": "python3"
  },
  "language_info": {
   "codemirror_mode": {
    "name": "ipython",
    "version": 3
   },
   "file_extension": ".py",
   "mimetype": "text/x-python",
   "name": "python",
   "nbconvert_exporter": "python",
   "pygments_lexer": "ipython3",
   "version": "3.10.8"
  }
 },
 "nbformat": 4,
 "nbformat_minor": 5
}
