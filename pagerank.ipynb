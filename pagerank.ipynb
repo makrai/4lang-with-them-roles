{
 "cells": [
  {
   "cell_type": "code",
   "execution_count": 1,
   "id": "36a1d616",
   "metadata": {},
   "outputs": [],
   "source": [
    "from IPython.display import SVG\n",
    "import matplotlib.pyplot as plt\n",
    "import networkx as nx\n",
    "import numpy as np\n",
    "import pandas as pd\n",
    "import re\n",
    "from sknetwork.ranking import PageRank\n",
    "from sknetwork.visualization import svg_graph"
   ]
  },
  {
   "cell_type": "code",
   "execution_count": 2,
   "id": "67640273",
   "metadata": {},
   "outputs": [],
   "source": [
    "names=['en', 'hu', 'la', 'pl', 'id', 'uro', 'pos', 'defi', 'comment']\n",
    "fl = pd.read_csv('4lang', sep='\\t', names=names)"
   ]
  },
  {
   "cell_type": "markdown",
   "id": "e2a009f9",
   "metadata": {},
   "source": [
    "# Computing the definition graph"
   ]
  },
  {
   "cell_type": "code",
   "execution_count": 3,
   "id": "c96a964f",
   "metadata": {},
   "outputs": [],
   "source": [
    "fl = fl[~fl.defi.isna()]"
   ]
  },
  {
   "cell_type": "code",
   "execution_count": 4,
   "id": "b5942eee",
   "metadata": {},
   "outputs": [],
   "source": [
    "fl.en = fl.en.str.lower()"
   ]
  },
  {
   "cell_type": "code",
   "execution_count": 5,
   "id": "95c1efbb",
   "metadata": {},
   "outputs": [],
   "source": [
    "fl.defi = fl.defi.str.lower()"
   ]
  },
  {
   "cell_type": "code",
   "execution_count": 6,
   "id": "39e0fbb7",
   "metadata": {},
   "outputs": [],
   "source": [
    "fl['ambig'] = fl.en.duplicated(keep=False)"
   ]
  },
  {
   "cell_type": "code",
   "execution_count": 7,
   "id": "2e7c6324",
   "metadata": {},
   "outputs": [],
   "source": [
    "unambig_set = set(fl.loc[~fl.ambig,'en'])"
   ]
  },
  {
   "cell_type": "code",
   "execution_count": 8,
   "id": "31e03427",
   "metadata": {},
   "outputs": [],
   "source": [
    "def unambig_hwd(record):\n",
    "    return f'{record.en}/{record.id}' if record.ambig else record.en"
   ]
  },
  {
   "cell_type": "code",
   "execution_count": 9,
   "id": "629366fd",
   "metadata": {},
   "outputs": [],
   "source": [
    "fl['unambig_hwd'] = fl.apply(unambig_hwd, axis=1)"
   ]
  },
  {
   "cell_type": "code",
   "execution_count": 10,
   "id": "ad8d43d7",
   "metadata": {},
   "outputs": [],
   "source": [
    "def drop_needless_disambig(term):\n",
    "    if '/' in term:\n",
    "        word, number = term.split('/')\n",
    "        if word in unambig_set:\n",
    "            return word\n",
    "    return term"
   ]
  },
  {
   "cell_type": "code",
   "execution_count": 11,
   "id": "a918d74a",
   "metadata": {},
   "outputs": [],
   "source": [
    "concept_chars = '=@a-zA-Z_/0-9-'\n",
    "parens_and_stuff = \"[]<>,()'\"\n",
    "\n",
    "def get_def_graph_outlist(record):\n",
    "    hwd = f'{record.en}/{record.id}' if record.ambig else record.en\n",
    "    return hwd, [drop_needless_disambig(concept) \n",
    "                 for concept in re.findall(f'[{concept_chars}]+', str(record.defi))]"
   ]
  },
  {
   "cell_type": "code",
   "execution_count": 12,
   "id": "4a27d60a",
   "metadata": {},
   "outputs": [],
   "source": [
    "def_graph = nx.DiGraph(dict(fl.apply(get_def_graph_outlist, axis=1).values))"
   ]
  },
  {
   "cell_type": "markdown",
   "id": "e3451764",
   "metadata": {},
   "source": [
    "# Exploration"
   ]
  },
  {
   "cell_type": "code",
   "execution_count": 13,
   "id": "1b095138",
   "metadata": {},
   "outputs": [],
   "source": [
    "#SVG(svg_graph(nx.adjacency_matrix(def_graph)))"
   ]
  },
  {
   "cell_type": "code",
   "execution_count": 14,
   "id": "69bb9c0a",
   "metadata": {},
   "outputs": [
    {
     "data": {
      "text/plain": [
       "has           555\n",
       "=agt          357\n",
       "=pat          323\n",
       "at            308\n",
       "cause         308\n",
       "             ... \n",
       "proclaim        0\n",
       "procession      0\n",
       "drip            0\n",
       "proceed         0\n",
       "-able           0\n",
       "Length: 3185, dtype: int64"
      ]
     },
     "execution_count": 14,
     "metadata": {},
     "output_type": "execute_result"
    }
   ],
   "source": [
    "pd.Series(dict(def_graph.in_degree())).sort_values(ascending=False)"
   ]
  },
  {
   "cell_type": "code",
   "execution_count": 15,
   "id": "eefbb5a5",
   "metadata": {},
   "outputs": [
    {
     "data": {
      "text/plain": [
       "park         16\n",
       "lens         16\n",
       "golf         15\n",
       "fox          14\n",
       "honey        14\n",
       "             ..\n",
       "@hamburg      0\n",
       "@hanukkah     0\n",
       "@hawaii       0\n",
       "@himalaya     0\n",
       "=for          0\n",
       "Length: 3185, dtype: int64"
      ]
     },
     "execution_count": 15,
     "metadata": {},
     "output_type": "execute_result"
    }
   ],
   "source": [
    "pd.Series(dict(def_graph.out_degree())).sort_values(ascending=False)"
   ]
  },
  {
   "cell_type": "code",
   "execution_count": 16,
   "id": "2c2e805f",
   "metadata": {},
   "outputs": [
    {
     "data": {
      "text/plain": [
       "(2965, 11)"
      ]
     },
     "execution_count": 16,
     "metadata": {},
     "output_type": "execute_result"
    }
   ],
   "source": [
    "fl.shape"
   ]
  },
  {
   "cell_type": "code",
   "execution_count": 17,
   "id": "2e17764b",
   "metadata": {},
   "outputs": [
    {
     "data": {
      "text/plain": [
       "3185"
      ]
     },
     "execution_count": 17,
     "metadata": {},
     "output_type": "execute_result"
    }
   ],
   "source": [
    "def_graph.number_of_nodes()"
   ]
  },
  {
   "cell_type": "code",
   "execution_count": 18,
   "id": "5e40f82b",
   "metadata": {},
   "outputs": [
    {
     "data": {
      "text/plain": [
       "11023"
      ]
     },
     "execution_count": 18,
     "metadata": {},
     "output_type": "execute_result"
    }
   ],
   "source": [
    "def_graph.number_of_edges()"
   ]
  },
  {
   "cell_type": "markdown",
   "id": "c6bc49b8",
   "metadata": {},
   "source": [
    "# Primitives"
   ]
  },
  {
   "cell_type": "code",
   "execution_count": 19,
   "id": "8316242c",
   "metadata": {},
   "outputs": [
    {
     "name": "stdout",
     "output_type": "stream",
     "text": [
      "Pretty printing has been turned OFF\n",
      "['all', 'also', 'be', 'before', 'celebrate', 'characteristic', 'enthusiastic', 'er', 'for', 'for/2782', 'from', 'has', 'identity', 'inherent', 'is_a', 'lack', 'next_to', 'not', 'other', 'palm', 'part_of', 'passionate', 'target', 'tired', 'want']\n",
      "Pretty printing has been turned ON\n"
     ]
    }
   ],
   "source": [
    "%pprint\n",
    "print(sorted(set(concept \n",
    "                 for concept in set(def_graph.nodes) - set(fl.unambig_hwd)  if not re.match('^[=@]', concept))))\n",
    "%pprint"
   ]
  },
  {
   "cell_type": "markdown",
   "id": "b86dc6cc",
   "metadata": {},
   "source": [
    "# Strongly connected components"
   ]
  },
  {
   "cell_type": "code",
   "execution_count": 20,
   "id": "7f54726c",
   "metadata": {},
   "outputs": [],
   "source": [
    "def get_components_with_size():\n",
    "    for component in nx.strongly_connected_components(def_graph):\n",
    "        yield ', '.join(sorted(component)), len(component)"
   ]
  },
  {
   "cell_type": "code",
   "execution_count": 21,
   "id": "9a46109f",
   "metadata": {},
   "outputs": [],
   "source": [
    "components = pd.Series(dict(get_components_with_size()))"
   ]
  },
  {
   "cell_type": "code",
   "execution_count": 22,
   "id": "76fc58c7",
   "metadata": {},
   "outputs": [],
   "source": [
    "components.sort_values(ascending=False, inplace=True)"
   ]
  },
  {
   "cell_type": "code",
   "execution_count": 23,
   "id": "c3afae66",
   "metadata": {},
   "outputs": [
    {
     "data": {
      "text/plain": [
       "2478"
      ]
     },
     "execution_count": 23,
     "metadata": {},
     "output_type": "execute_result"
    }
   ],
   "source": [
    "len(components)"
   ]
  },
  {
   "cell_type": "code",
   "execution_count": 24,
   "id": "2cd6c80f",
   "metadata": {},
   "outputs": [
    {
     "data": {
      "text/plain": [
       "623"
      ]
     },
     "execution_count": 24,
     "metadata": {},
     "output_type": "execute_result"
    }
   ],
   "source": [
    "components[0]"
   ]
  },
  {
   "cell_type": "code",
   "execution_count": 25,
   "id": "e452ea4e",
   "metadata": {},
   "outputs": [
    {
     "name": "stdout",
     "output_type": "stream",
     "text": [
      "\\begin{tabular}{lr}\n",
      "\\toprule\n",
      "{} &   0 \\\\\n",
      "\\midrule\n",
      "april, august, december, february, january, jul... &  12 \\\\\n",
      "friday, monday, saturday, sunday, thursday, tue... &   7 \\\\\n",
      "bed, chair, cupboard, furniture, table             &   5 \\\\\n",
      "cereal, flour, grain, wheat                        &   4 \\\\\n",
      "draw/2707, pen, pencil, write                      &   4 \\\\\n",
      "king, monarch, queen, royal                        &   4 \\\\\n",
      "autumn, spring/2318, summer, winter                &   4 \\\\\n",
      "buttocks, seat, sit                                &   3 \\\\\n",
      "camera, lens, photograph                           &   3 \\\\\n",
      "calm, disturb, upset                               &   3 \\\\\n",
      "answer, question, reply                            &   3 \\\\\n",
      "bake, bread, cake                                  &   3 \\\\\n",
      "female, male, sex                                  &   3 \\\\\n",
      "justice, right/1191, wrong                         &   3 \\\\\n",
      "actor, stage/2220, theatre                         &   3 \\\\\n",
      "many, much, quantity                               &   3 \\\\\n",
      "husband, marriage, wife                            &   3 \\\\\n",
      "poem, poet, poetry                                 &   3 \\\\\n",
      "cutlery, fork, spoon                               &   3 \\\\\n",
      "\\bottomrule\n",
      "\\end{tabular}\n",
      "\n"
     ]
    },
    {
     "name": "stderr",
     "output_type": "stream",
     "text": [
      "/tmp/ipykernel_10485/2481590247.py:1: FutureWarning: In future versions `DataFrame.to_latex` is expected to utilise the base implementation of `Styler.to_latex` for formatting and rendering. The arguments signature may therefore change. It is recommended instead to use `DataFrame.style.to_latex` which also contains additional functionality.\n",
      "  print(components[components>2][1:].to_latex())\n"
     ]
    }
   ],
   "source": [
    "print(components[components>2][1:].to_latex())"
   ]
  },
  {
   "cell_type": "code",
   "execution_count": 26,
   "id": "8e6d18c6",
   "metadata": {},
   "outputs": [
    {
     "data": {
      "text/plain": [
       "buttocks, seat, sit           3\n",
       "camera, lens, photograph      3\n",
       "calm, disturb, upset          3\n",
       "answer, question, reply       3\n",
       "bake, bread, cake             3\n",
       "female, male, sex             3\n",
       "justice, right/1191, wrong    3\n",
       "actor, stage/2220, theatre    3\n",
       "many, much, quantity          3\n",
       "husband, marriage, wife       3\n",
       "poem, poet, poetry            3\n",
       "cutlery, fork, spoon          3\n",
       "dtype: int64"
      ]
     },
     "execution_count": 26,
     "metadata": {},
     "output_type": "execute_result"
    }
   ],
   "source": [
    "components[components==3]"
   ]
  },
  {
   "cell_type": "code",
   "execution_count": 27,
   "id": "37325e33",
   "metadata": {},
   "outputs": [
    {
     "data": {
      "text/plain": [
       "<bound method NDFrame.to_latex of president, republic       2\n",
       "bell, ring/2735           2\n",
       "bottle, glass             2\n",
       "dirt, dust                2\n",
       "hill, mountain            2\n",
       "hang, swing               2\n",
       "problem, solve            2\n",
       "thick/2134, thin/1038     2\n",
       "acid, sour                2\n",
       "door, entrance            2\n",
       "attention, interesting    2\n",
       "elephant, trunk/1910      2\n",
       "guest, host/2605          2\n",
       "rat, rodent               2\n",
       "soap, wash                2\n",
       "now, this                 2\n",
       "level, scale              2\n",
       "programme, television     2\n",
       "dig, spade                2\n",
       "cause, reason             2\n",
       "news, newspaper           2\n",
       "electricity, wire         2\n",
       "school, student           2\n",
       "balance/1607, weigh       2\n",
       "brush, paint              2\n",
       "horse, ride               2\n",
       "book, page                2\n",
       "exist, real               2\n",
       "dtype: int64>"
      ]
     },
     "execution_count": 27,
     "metadata": {},
     "output_type": "execute_result"
    }
   ],
   "source": [
    "components[components==2].to_latex"
   ]
  },
  {
   "cell_type": "code",
   "execution_count": 28,
   "id": "35203df0",
   "metadata": {},
   "outputs": [
    {
     "data": {
      "text/plain": [
       "Index(['linoleum', 'lime/1609', 'lip', 'lightning', 'lime/2773', 'literature',\n",
       "       'light-coloured', 'kiss', 'light/944', 'kitchen',\n",
       "       ...\n",
       "       'beard', 'hit', 'beat', 'beautify', 'because', 'store', 'shelf', 'pity',\n",
       "       'beg', 'vine'],\n",
       "      dtype='object', length=2430)"
      ]
     },
     "execution_count": 28,
     "metadata": {},
     "output_type": "execute_result"
    }
   ],
   "source": [
    "components[components==1].index"
   ]
  },
  {
   "cell_type": "markdown",
   "id": "bed63532",
   "metadata": {},
   "source": [
    "## Edges between the huge component and the medium ones"
   ]
  },
  {
   "cell_type": "code",
   "execution_count": 29,
   "id": "4f4c8d7b",
   "metadata": {},
   "outputs": [
    {
     "data": {
      "text/plain": [
       "True"
      ]
     },
     "execution_count": 29,
     "metadata": {},
     "output_type": "execute_result"
    }
   ],
   "source": [
    "'month' in components.index[0]"
   ]
  },
  {
   "cell_type": "code",
   "execution_count": 30,
   "id": "11e750af",
   "metadata": {},
   "outputs": [
    {
     "name": "stdout",
     "output_type": "stream",
     "text": [
      "Pretty printing has been turned OFF\n",
      "['part_of', 'time', 'twelve', 'unit', 'year']\n",
      "Pretty printing has been turned ON\n"
     ]
    }
   ],
   "source": [
    "%pprint\n",
    "print(sorted(list(nx.neighbors(def_graph, 'month'))))\n",
    "%pprint"
   ]
  },
  {
   "cell_type": "code",
   "execution_count": 31,
   "id": "739cf1c8",
   "metadata": {},
   "outputs": [
    {
     "name": "stdout",
     "output_type": "stream",
     "text": [
      "Pretty printing has been turned OFF\n",
      "['12-month', 'april', 'august', 'date', 'day', 'december', 'february', 'january', 'july', 'june', 'march/1563', 'may/1560', 'november', 'october', 'salary', 'september', 'year']\n",
      "Pretty printing has been turned ON\n"
     ]
    }
   ],
   "source": [
    "%pprint\n",
    "print(sorted(list(nx.neighbors(def_graph.reverse(), 'month'))))\n",
    "%pprint"
   ]
  },
  {
   "cell_type": "markdown",
   "id": "8cfea60a",
   "metadata": {},
   "source": [
    "## Singletons"
   ]
  },
  {
   "cell_type": "code",
   "execution_count": 32,
   "id": "664418b3",
   "metadata": {},
   "outputs": [],
   "source": [
    "in_degree_ser = pd.Series(dict(def_graph.in_degree()))"
   ]
  },
  {
   "cell_type": "code",
   "execution_count": 33,
   "id": "fcee159c",
   "metadata": {},
   "outputs": [],
   "source": [
    "out_degree_ser = pd.Series(dict(def_graph.out_degree()))"
   ]
  },
  {
   "cell_type": "code",
   "execution_count": 34,
   "id": "cbc7f89b",
   "metadata": {},
   "outputs": [
    {
     "data": {
      "text/plain": [
       "linoleum     1\n",
       "lime/1609    1\n",
       "lip          1\n",
       "lightning    1\n",
       "lime/2773    1\n",
       "            ..\n",
       "store        1\n",
       "shelf        1\n",
       "pity         1\n",
       "beg          1\n",
       "vine         1\n",
       "Length: 2430, dtype: int64"
      ]
     },
     "execution_count": 34,
     "metadata": {},
     "output_type": "execute_result"
    }
   ],
   "source": [
    "components[components==1]"
   ]
  },
  {
   "cell_type": "code",
   "execution_count": 35,
   "id": "36d88a1a",
   "metadata": {},
   "outputs": [
    {
     "data": {
      "text/plain": [
       "['material', 'cover', 'floor', 'strong']"
      ]
     },
     "execution_count": 35,
     "metadata": {},
     "output_type": "execute_result"
    }
   ],
   "source": [
    "list(nx.neighbors(def_graph, 'linoleum'))"
   ]
  },
  {
   "cell_type": "code",
   "execution_count": 36,
   "id": "6d6eb44b",
   "metadata": {},
   "outputs": [
    {
     "data": {
      "text/plain": [
       "[]"
      ]
     },
     "execution_count": 36,
     "metadata": {},
     "output_type": "execute_result"
    }
   ],
   "source": [
    "list(nx.neighbors(def_graph.reverse(), 'linoleum'))"
   ]
  },
  {
   "cell_type": "code",
   "execution_count": 37,
   "id": "2bf41d04",
   "metadata": {},
   "outputs": [
    {
     "data": {
      "text/plain": [
       "1"
      ]
     },
     "execution_count": 37,
     "metadata": {},
     "output_type": "execute_result"
    }
   ],
   "source": [
    "components['ability']"
   ]
  },
  {
   "cell_type": "code",
   "execution_count": 38,
   "id": "b4bbb467",
   "metadata": {},
   "outputs": [
    {
     "data": {
      "text/plain": [
       "['can/1246']"
      ]
     },
     "execution_count": 38,
     "metadata": {},
     "output_type": "execute_result"
    }
   ],
   "source": [
    "list(nx.neighbors(def_graph, 'ability'))"
   ]
  },
  {
   "cell_type": "code",
   "execution_count": 39,
   "id": "c1bb8d70",
   "metadata": {},
   "outputs": [
    {
     "data": {
      "text/plain": [
       "['modest']"
      ]
     },
     "execution_count": 39,
     "metadata": {},
     "output_type": "execute_result"
    }
   ],
   "source": [
    "list(nx.neighbors(def_graph.reverse(), 'ability'))"
   ]
  },
  {
   "cell_type": "code",
   "execution_count": 40,
   "id": "6297275c",
   "metadata": {},
   "outputs": [
    {
     "data": {
      "text/plain": [
       "1"
      ]
     },
     "execution_count": 40,
     "metadata": {},
     "output_type": "execute_result"
    }
   ],
   "source": [
    "components['modest']"
   ]
  },
  {
   "cell_type": "code",
   "execution_count": 41,
   "id": "0ce68de5",
   "metadata": {},
   "outputs": [
    {
     "data": {
      "text/plain": [
       "['humble']"
      ]
     },
     "execution_count": 41,
     "metadata": {},
     "output_type": "execute_result"
    }
   ],
   "source": [
    "list(nx.neighbors(def_graph.reverse(), 'modest'))"
   ]
  },
  {
   "cell_type": "markdown",
   "id": "48085ab5",
   "metadata": {},
   "source": [
    "# PageRank"
   ]
  },
  {
   "cell_type": "code",
   "execution_count": 42,
   "id": "c5bd8311",
   "metadata": {},
   "outputs": [],
   "source": [
    "def get_pagerank_df():\n",
    "    columns = {}\n",
    "    for damping_factor in [.85, .9, .95]:\n",
    "        scores = PageRank(damping_factor=damping_factor).fit_predict(nx.adjacency_matrix(def_graph))\n",
    "        columns[f'pagerank_{damping_factor}'] = dict(zip(def_graph.nodes, scores))\n",
    "    df = pd.DataFrame(columns)\n",
    "    df['primitive'] = [w not in fl.index for w in df.index]\n",
    "    return df"
   ]
  },
  {
   "cell_type": "code",
   "execution_count": 43,
   "id": "f8bcf40f",
   "metadata": {},
   "outputs": [
    {
     "name": "stderr",
     "output_type": "stream",
     "text": [
      "/tmp/ipykernel_10485/3905481045.py:4: FutureWarning: adjacency_matrix will return a scipy.sparse array instead of a matrix in Networkx 3.0.\n",
      "  scores = PageRank(damping_factor=damping_factor).fit_predict(nx.adjacency_matrix(def_graph))\n"
     ]
    }
   ],
   "source": [
    "pageRank_df = get_pagerank_df()"
   ]
  },
  {
   "cell_type": "code",
   "execution_count": 44,
   "id": "01b7aa22",
   "metadata": {},
   "outputs": [
    {
     "data": {
      "image/png": "[encoded data removed]",
      "text/plain": [
       "<Figure size 640x480 with 1 Axes>"
      ]
     },
     "metadata": {},
     "output_type": "display_data"
    }
   ],
   "source": [
    "factors = [.85, .9, .95]\n",
    "for damping_factor in factors:\n",
    "    plt.plot(pageRank_df[f'pagerank_{damping_factor}'].sort_values(ascending=False).values)\n",
    "plt.xscale('log')\n",
    "plt.yscale('log')\n",
    "plt.legend(factors)\n",
    "plt.xlabel('vocabulary')\n",
    "plt.ylabel('PageRank')\n",
    "plt.savefig(f'/home/makrai/repo/paper/thesis/makrai_phd/img/pageRank-sorted-separately.png')"
   ]
  },
  {
   "cell_type": "code",
   "execution_count": 80,
   "id": "931358be",
   "metadata": {},
   "outputs": [],
   "source": [
    "del pageRank_df['level_0']"
   ]
  },
  {
   "cell_type": "code",
   "execution_count": 92,
   "id": "8084ebb9",
   "metadata": {},
   "outputs": [
    {
     "data": {
      "text/plain": [
       "array([1, 1, 1, ..., 1, 1, 1])"
      ]
     },
     "execution_count": 92,
     "metadata": {},
     "output_type": "execute_result"
    }
   ],
   "source": [
    "np.array([1 for _ in pageRank_df.index])"
   ]
  },
  {
   "cell_type": "code",
   "execution_count": 98,
   "id": "1a90cad6",
   "metadata": {},
   "outputs": [
    {
     "data": {
      "image/png": "[encoded data removed]",
      "text/plain": [
       "<Figure size 640x480 with 1 Axes>"
      ]
     },
     "metadata": {},
     "output_type": "display_data"
    }
   ],
   "source": [
    "pageRank_df.sort_values(f'pagerank_0.85', ascending=False, inplace=True)\n",
    "pageRank_df[['pagerank_0.95', 'pagerank_0.9', 'pagerank_0.85']].plot(linestyle='none', marker='.', \n",
    "                                                                     ms=2)\n",
    "plt.xscale('log')\n",
    "plt.yscale('log')\n",
    "plt.legend(factors)\n",
    "plt.xlabel('vocabulary')\n",
    "plt.ylabel('PageRank')\n",
    "plt.savefig(f'/home/makrai/repo/paper/thesis/makrai_phd/img/pageRank-aligned.png')"
   ]
  },
  {
   "cell_type": "code",
   "execution_count": 146,
   "id": "d25754ca",
   "metadata": {},
   "outputs": [
    {
     "name": "stderr",
     "output_type": "stream",
     "text": [
      "/tmp/ipykernel_10485/4155689035.py:3: SettingWithCopyWarning: \n",
      "A value is trying to be set on a copy of a slice from a DataFrame\n",
      "\n",
      "See the caveats in the documentation: https://pandas.pydata.org/pandas-docs/stable/user_guide/indexing.html#returning-a-view-versus-a-copy\n",
      "  df_.sort_values(f'pagerank_0.85', ascending=False, inplace=True)\n"
     ]
    },
    {
     "data": {
      "image/png": "[encoded data removed]",
      "text/plain": [
       "<Figure size 640x480 with 1 Axes>"
      ]
     },
     "metadata": {},
     "output_type": "display_data"
    }
   ],
   "source": [
    "\n",
    "df_ = pageRank_df[~pageRank_df.index.str.startswith('@')]\n",
    "\n",
    "df_.sort_values(f'pagerank_0.85', ascending=False, inplace=True)\n",
    "df_[['pagerank_0.95', 'pagerank_0.9', 'pagerank_0.85']].plot(linestyle='none', marker='.', \n",
    "                                                                     ms=2)\n",
    "plt.xscale('log')\n",
    "plt.yscale('log')\n",
    "plt.legend(factors)\n",
    "plt.xlabel('vocabulary')\n",
    "plt.ylabel('PageRank')\n",
    "plt.savefig(f'/home/makrai/repo/paper/thesis/makrai_phd/img/pageRank-aligned-noencyc.png')"
   ]
  },
  {
   "cell_type": "markdown",
   "id": "4c2b1d11",
   "metadata": {},
   "source": [
    "## Around PageRank == 0.00004: Encyclopedic refs"
   ]
  },
  {
   "cell_type": "code",
   "execution_count": 123,
   "id": "6f66f4bd",
   "metadata": {},
   "outputs": [
    {
     "data": {
      "text/html": [
       "<div>\n",
       "<style scoped>\n",
       "    .dataframe tbody tr th:only-of-type {\n",
       "        vertical-align: middle;\n",
       "    }\n",
       "\n",
       "    .dataframe tbody tr th {\n",
       "        vertical-align: top;\n",
       "    }\n",
       "\n",
       "    .dataframe thead th {\n",
       "        text-align: right;\n",
       "    }\n",
       "</style>\n",
       "<table border=\"1\" class=\"dataframe\">\n",
       "  <thead>\n",
       "    <tr style=\"text-align: right;\">\n",
       "      <th></th>\n",
       "      <th>pagerank_0.85</th>\n",
       "      <th>pagerank_0.9</th>\n",
       "      <th>pagerank_0.95</th>\n",
       "      <th>primitive</th>\n",
       "    </tr>\n",
       "    <tr>\n",
       "      <th>index</th>\n",
       "      <th></th>\n",
       "      <th></th>\n",
       "      <th></th>\n",
       "      <th></th>\n",
       "    </tr>\n",
       "  </thead>\n",
       "  <tbody>\n",
       "    <tr>\n",
       "      <th>@west_indies</th>\n",
       "      <td>0.0004</td>\n",
       "      <td>0.000402</td>\n",
       "      <td>0.000402</td>\n",
       "      <td>True</td>\n",
       "    </tr>\n",
       "    <tr>\n",
       "      <th>@vietnam</th>\n",
       "      <td>0.0004</td>\n",
       "      <td>0.000402</td>\n",
       "      <td>0.000402</td>\n",
       "      <td>True</td>\n",
       "    </tr>\n",
       "    <tr>\n",
       "      <th>@koran</th>\n",
       "      <td>0.0004</td>\n",
       "      <td>0.000402</td>\n",
       "      <td>0.000402</td>\n",
       "      <td>True</td>\n",
       "    </tr>\n",
       "    <tr>\n",
       "      <th>@edward_vii</th>\n",
       "      <td>0.0004</td>\n",
       "      <td>0.000402</td>\n",
       "      <td>0.000402</td>\n",
       "      <td>True</td>\n",
       "    </tr>\n",
       "    <tr>\n",
       "      <th>@hanukkah</th>\n",
       "      <td>0.0004</td>\n",
       "      <td>0.000402</td>\n",
       "      <td>0.000402</td>\n",
       "      <td>True</td>\n",
       "    </tr>\n",
       "    <tr>\n",
       "      <th>...</th>\n",
       "      <td>...</td>\n",
       "      <td>...</td>\n",
       "      <td>...</td>\n",
       "      <td>...</td>\n",
       "    </tr>\n",
       "    <tr>\n",
       "      <th>@denmark</th>\n",
       "      <td>0.0004</td>\n",
       "      <td>0.000402</td>\n",
       "      <td>0.000402</td>\n",
       "      <td>True</td>\n",
       "    </tr>\n",
       "    <tr>\n",
       "      <th>@latin</th>\n",
       "      <td>0.0004</td>\n",
       "      <td>0.000402</td>\n",
       "      <td>0.000402</td>\n",
       "      <td>True</td>\n",
       "    </tr>\n",
       "    <tr>\n",
       "      <th>@laozi</th>\n",
       "      <td>0.0004</td>\n",
       "      <td>0.000402</td>\n",
       "      <td>0.000402</td>\n",
       "      <td>True</td>\n",
       "    </tr>\n",
       "    <tr>\n",
       "      <th>@liverpool</th>\n",
       "      <td>0.0004</td>\n",
       "      <td>0.000402</td>\n",
       "      <td>0.000402</td>\n",
       "      <td>True</td>\n",
       "    </tr>\n",
       "    <tr>\n",
       "      <th>@egypt</th>\n",
       "      <td>0.0004</td>\n",
       "      <td>0.000402</td>\n",
       "      <td>0.000402</td>\n",
       "      <td>True</td>\n",
       "    </tr>\n",
       "  </tbody>\n",
       "</table>\n",
       "<p>122 rows × 4 columns</p>\n",
       "</div>"
      ],
      "text/plain": [
       "              pagerank_0.85  pagerank_0.9  pagerank_0.95  primitive\n",
       "index                                                              \n",
       "@west_indies         0.0004      0.000402       0.000402       True\n",
       "@vietnam             0.0004      0.000402       0.000402       True\n",
       "@koran               0.0004      0.000402       0.000402       True\n",
       "@edward_vii          0.0004      0.000402       0.000402       True\n",
       "@hanukkah            0.0004      0.000402       0.000402       True\n",
       "...                     ...           ...            ...        ...\n",
       "@denmark             0.0004      0.000402       0.000402       True\n",
       "@latin               0.0004      0.000402       0.000402       True\n",
       "@laozi               0.0004      0.000402       0.000402       True\n",
       "@liverpool           0.0004      0.000402       0.000402       True\n",
       "@egypt               0.0004      0.000402       0.000402       True\n",
       "\n",
       "[122 rows x 4 columns]"
      ]
     },
     "execution_count": 123,
     "metadata": {},
     "output_type": "execute_result"
    }
   ],
   "source": [
    "pageRank_df.loc[(pageRank_df['pagerank_0.85']>0.000399)&(pageRank_df['pagerank_0.85']<0.000401)]#,'pagerank_0.85'].hist(bins=100)"
   ]
  },
  {
   "cell_type": "code",
   "execution_count": 129,
   "id": "0ef882ad",
   "metadata": {},
   "outputs": [
    {
     "data": {
      "text/plain": [
       "pagerank_0.85       \n",
       "False          False    2999\n",
       "               True       64\n",
       "True           False       1\n",
       "               True      121\n",
       "dtype: int64"
      ]
     },
     "execution_count": 129,
     "metadata": {},
     "output_type": "execute_result"
    }
   ],
   "source": [
    "pageRank_df.groupby([np.abs(pageRank_df['pagerank_0.85']-0.0004)<0.000001,pageRank_df.index.str.startswith('@')]).size()"
   ]
  },
  {
   "cell_type": "code",
   "execution_count": 131,
   "id": "43c80fef",
   "metadata": {},
   "outputs": [
    {
     "data": {
      "text/html": [
       "<div>\n",
       "<style scoped>\n",
       "    .dataframe tbody tr th:only-of-type {\n",
       "        vertical-align: middle;\n",
       "    }\n",
       "\n",
       "    .dataframe tbody tr th {\n",
       "        vertical-align: top;\n",
       "    }\n",
       "\n",
       "    .dataframe thead th {\n",
       "        text-align: right;\n",
       "    }\n",
       "</style>\n",
       "<table border=\"1\" class=\"dataframe\">\n",
       "  <thead>\n",
       "    <tr style=\"text-align: right;\">\n",
       "      <th></th>\n",
       "      <th>pagerank_0.85</th>\n",
       "      <th>pagerank_0.9</th>\n",
       "      <th>pagerank_0.95</th>\n",
       "      <th>primitive</th>\n",
       "    </tr>\n",
       "    <tr>\n",
       "      <th>index</th>\n",
       "      <th></th>\n",
       "      <th></th>\n",
       "      <th></th>\n",
       "      <th></th>\n",
       "    </tr>\n",
       "  </thead>\n",
       "  <tbody>\n",
       "    <tr>\n",
       "      <th>@united_kingdom</th>\n",
       "      <td>0.000569</td>\n",
       "      <td>0.000527</td>\n",
       "      <td>0.000471</td>\n",
       "      <td>True</td>\n",
       "    </tr>\n",
       "    <tr>\n",
       "      <th>@united_states</th>\n",
       "      <td>0.000493</td>\n",
       "      <td>0.000471</td>\n",
       "      <td>0.000440</td>\n",
       "      <td>True</td>\n",
       "    </tr>\n",
       "    <tr>\n",
       "      <th>@karl_marx</th>\n",
       "      <td>0.000491</td>\n",
       "      <td>0.000470</td>\n",
       "      <td>0.000439</td>\n",
       "      <td>True</td>\n",
       "    </tr>\n",
       "    <tr>\n",
       "      <th>@arabia</th>\n",
       "      <td>0.000456</td>\n",
       "      <td>0.000443</td>\n",
       "      <td>0.000425</td>\n",
       "      <td>True</td>\n",
       "    </tr>\n",
       "    <tr>\n",
       "      <th>@jesus</th>\n",
       "      <td>0.000454</td>\n",
       "      <td>0.000446</td>\n",
       "      <td>0.000430</td>\n",
       "      <td>True</td>\n",
       "    </tr>\n",
       "    <tr>\n",
       "      <th>...</th>\n",
       "      <td>...</td>\n",
       "      <td>...</td>\n",
       "      <td>...</td>\n",
       "      <td>...</td>\n",
       "    </tr>\n",
       "    <tr>\n",
       "      <th>@noah</th>\n",
       "      <td>0.000386</td>\n",
       "      <td>0.000391</td>\n",
       "      <td>0.000396</td>\n",
       "      <td>True</td>\n",
       "    </tr>\n",
       "    <tr>\n",
       "      <th>@hindu</th>\n",
       "      <td>0.000386</td>\n",
       "      <td>0.000391</td>\n",
       "      <td>0.000396</td>\n",
       "      <td>True</td>\n",
       "    </tr>\n",
       "    <tr>\n",
       "      <th>@trinity</th>\n",
       "      <td>0.000383</td>\n",
       "      <td>0.000389</td>\n",
       "      <td>0.000395</td>\n",
       "      <td>True</td>\n",
       "    </tr>\n",
       "    <tr>\n",
       "      <th>@baseball</th>\n",
       "      <td>0.000380</td>\n",
       "      <td>0.000387</td>\n",
       "      <td>0.000394</td>\n",
       "      <td>True</td>\n",
       "    </tr>\n",
       "    <tr>\n",
       "      <th>@brazil</th>\n",
       "      <td>0.000379</td>\n",
       "      <td>0.000386</td>\n",
       "      <td>0.000393</td>\n",
       "      <td>True</td>\n",
       "    </tr>\n",
       "  </tbody>\n",
       "</table>\n",
       "<p>64 rows × 4 columns</p>\n",
       "</div>"
      ],
      "text/plain": [
       "                 pagerank_0.85  pagerank_0.9  pagerank_0.95  primitive\n",
       "index                                                                 \n",
       "@united_kingdom       0.000569      0.000527       0.000471       True\n",
       "@united_states        0.000493      0.000471       0.000440       True\n",
       "@karl_marx            0.000491      0.000470       0.000439       True\n",
       "@arabia               0.000456      0.000443       0.000425       True\n",
       "@jesus                0.000454      0.000446       0.000430       True\n",
       "...                        ...           ...            ...        ...\n",
       "@noah                 0.000386      0.000391       0.000396       True\n",
       "@hindu                0.000386      0.000391       0.000396       True\n",
       "@trinity              0.000383      0.000389       0.000395       True\n",
       "@baseball             0.000380      0.000387       0.000394       True\n",
       "@brazil               0.000379      0.000386       0.000393       True\n",
       "\n",
       "[64 rows x 4 columns]"
      ]
     },
     "execution_count": 131,
     "metadata": {},
     "output_type": "execute_result"
    }
   ],
   "source": [
    "pageRank_df[(np.abs(pageRank_df['pagerank_0.85']-0.0004)>=0.000001)&(pageRank_df.index.str.startswith('@'))]"
   ]
  },
  {
   "cell_type": "code",
   "execution_count": 136,
   "id": "51941a65",
   "metadata": {},
   "outputs": [
    {
     "data": {
      "text/plain": [
       "InEdgeDataView([('koran', '@koran')])"
      ]
     },
     "execution_count": 136,
     "metadata": {},
     "output_type": "execute_result"
    }
   ],
   "source": [
    "def_graph.in_edges('@koran')"
   ]
  },
  {
   "cell_type": "code",
   "execution_count": 137,
   "id": "b6ffa21f",
   "metadata": {},
   "outputs": [
    {
     "data": {
      "text/plain": [
       "InEdgeDataView([('arabia', '@arabia'), ('arabian', '@arabia')])"
      ]
     },
     "execution_count": 137,
     "metadata": {},
     "output_type": "execute_result"
    }
   ],
   "source": [
    "def_graph.in_edges('@arabia')"
   ]
  },
  {
   "cell_type": "code",
   "execution_count": 138,
   "id": "51da19db",
   "metadata": {},
   "outputs": [
    {
     "data": {
      "text/plain": [
       "OutEdgeDataView([])"
      ]
     },
     "execution_count": 138,
     "metadata": {},
     "output_type": "execute_result"
    }
   ],
   "source": [
    "def_graph.out_edges('@koran')"
   ]
  },
  {
   "cell_type": "code",
   "execution_count": 139,
   "id": "8ca27e30",
   "metadata": {},
   "outputs": [
    {
     "data": {
      "text/plain": [
       "OutEdgeDataView([])"
      ]
     },
     "execution_count": 139,
     "metadata": {},
     "output_type": "execute_result"
    }
   ],
   "source": [
    "def_graph.out_edges('@arabia')"
   ]
  },
  {
   "cell_type": "markdown",
   "id": "b29c1072",
   "metadata": {},
   "source": [
    "## The tail"
   ]
  },
  {
   "cell_type": "code",
   "execution_count": 143,
   "id": "84300921",
   "metadata": {},
   "outputs": [
    {
     "data": {
      "text/plain": [
       "Index(['presence', 'orange-coloured', 'persuade', 'complicated', '-able'], dtype='object', name='index')"
      ]
     },
     "execution_count": 143,
     "metadata": {},
     "output_type": "execute_result"
    }
   ],
   "source": [
    "pageRank_df.tail().index"
   ]
  },
  {
   "cell_type": "code",
   "execution_count": 142,
   "id": "17889086",
   "metadata": {},
   "outputs": [
    {
     "data": {
      "text/plain": [
       "OutEdgeDataView([('worm', 'animal'), ('worm', 'has'), ('worm', 'lack'), ('worm', 'bone'), ('worm', 'leg'), ('worm', 'soft'), ('worm', 'long')])"
      ]
     },
     "execution_count": 142,
     "metadata": {},
     "output_type": "execute_result"
    }
   ],
   "source": [
    "def_graph.out_edges('worm')"
   ]
  },
  {
   "cell_type": "code",
   "execution_count": 46,
   "id": "d9b08467",
   "metadata": {},
   "outputs": [],
   "source": [
    "pageRank_df.reset_index(inplace=True)"
   ]
  },
  {
   "cell_type": "code",
   "execution_count": 47,
   "id": "4994dc30",
   "metadata": {},
   "outputs": [],
   "source": [
    "def scatter_records(df, indic, damping_factor=.85):\n",
    "    values = df.loc[indic, f'pagerank_{damping_factor}']\n",
    "    plt.scatter(df[indic].index, values, s=1)"
   ]
  },
  {
   "cell_type": "code",
   "execution_count": 48,
   "id": "7efcf69a",
   "metadata": {},
   "outputs": [
    {
     "data": {
      "image/png": "[encoded data removed]",
      "text/plain": [
       "<Figure size 640x480 with 1 Axes>"
      ]
     },
     "metadata": {},
     "output_type": "display_data"
    }
   ],
   "source": [
    "#factors = [.85, .9, .95]\n",
    "#legend = []\n",
    "damping_factor=0.85\n",
    "scatter_records(pageRank_df, pageRank_df.primitive, damping_factor=damping_factor)\n",
    "scatter_records(pageRank_df, ~pageRank_df.primitive, damping_factor=damping_factor)\n",
    "plt.xscale('log')\n",
    "plt.yscale('log')\n",
    "plt.legend(['primitive', 'defined'])\n",
    "plt.savefig(f'/home/makrai/repo/paper/thesis/makrai_phd/img/pageRank-85-primitive.png')"
   ]
  },
  {
   "cell_type": "code",
   "execution_count": null,
   "id": "c973e176",
   "metadata": {},
   "outputs": [],
   "source": [
    "pageRank_df.head(38)"
   ]
  },
  {
   "cell_type": "code",
   "execution_count": 50,
   "id": "7d1ae1e6",
   "metadata": {},
   "outputs": [
    {
     "ename": "TypeError",
     "evalue": "TextIOWrapper.write() takes exactly one argument (0 given)",
     "output_type": "error",
     "traceback": [
      "\u001b[0;31m---------------------------------------------------------------------------\u001b[0m",
      "\u001b[0;31mTypeError\u001b[0m                                 Traceback (most recent call last)",
      "Cell \u001b[0;32mIn[50], line 2\u001b[0m\n\u001b[1;32m      1\u001b[0m \u001b[38;5;28;01mwith\u001b[39;00m \u001b[38;5;28mopen\u001b[39m(\u001b[38;5;124m'\u001b[39m\u001b[38;5;124m../paper/thesis/makrai_phd/img/pageRank-of-top-concepts.tex\u001b[39m\u001b[38;5;124m'\u001b[39m, mode\u001b[38;5;241m=\u001b[39m\u001b[38;5;124m'\u001b[39m\u001b[38;5;124mw\u001b[39m\u001b[38;5;124m'\u001b[39m) \u001b[38;5;28;01mas\u001b[39;00m file:\n\u001b[0;32m----> 2\u001b[0m     \u001b[43mfile\u001b[49m\u001b[38;5;241;43m.\u001b[39;49m\u001b[43mwrite\u001b[49m\u001b[43m(\u001b[49m\u001b[43m)\u001b[49m\n",
      "\u001b[0;31mTypeError\u001b[0m: TextIOWrapper.write() takes exactly one argument (0 given)"
     ]
    }
   ],
   "source": [
    "with open('../paper/thesis/makrai_phd/img/pageRank-of-top-concepts.tex', mode='w') as file:\n",
    "    pass # file.write(pageRank_df.head(38).style.to_latex())"
   ]
  },
  {
   "cell_type": "markdown",
   "id": "9a46f1ec",
   "metadata": {},
   "source": [
    "# The top"
   ]
  },
  {
   "cell_type": "code",
   "execution_count": 51,
   "id": "7cea3bb8",
   "metadata": {},
   "outputs": [
    {
     "ename": "AttributeError",
     "evalue": "'DataFrame' object has no attribute 'pagerank'",
     "output_type": "error",
     "traceback": [
      "\u001b[0;31m---------------------------------------------------------------------------\u001b[0m",
      "\u001b[0;31mAttributeError\u001b[0m                            Traceback (most recent call last)",
      "Cell \u001b[0;32mIn[51], line 1\u001b[0m\n\u001b[0;32m----> 1\u001b[0m \u001b[43mfl\u001b[49m\u001b[38;5;241;43m.\u001b[39;49m\u001b[43miloc\u001b[49m\u001b[43m[\u001b[49m\u001b[43m:\u001b[49m\u001b[38;5;241;43m40\u001b[39;49m\u001b[43m]\u001b[49m\u001b[38;5;241;43m.\u001b[39;49m\u001b[43mpagerank\u001b[49m\u001b[38;5;241m.\u001b[39mplot()\n\u001b[1;32m      2\u001b[0m plt\u001b[38;5;241m.\u001b[39mxscale(\u001b[38;5;124m'\u001b[39m\u001b[38;5;124mlog\u001b[39m\u001b[38;5;124m'\u001b[39m)\n\u001b[1;32m      3\u001b[0m plt\u001b[38;5;241m.\u001b[39myscale(\u001b[38;5;124m'\u001b[39m\u001b[38;5;124mlog\u001b[39m\u001b[38;5;124m'\u001b[39m)\n",
      "File \u001b[0;32m~/tool/python/miniconda3/lib/python3.10/site-packages/pandas/core/generic.py:5902\u001b[0m, in \u001b[0;36mNDFrame.__getattr__\u001b[0;34m(self, name)\u001b[0m\n\u001b[1;32m   5895\u001b[0m \u001b[38;5;28;01mif\u001b[39;00m (\n\u001b[1;32m   5896\u001b[0m     name \u001b[38;5;129;01mnot\u001b[39;00m \u001b[38;5;129;01min\u001b[39;00m \u001b[38;5;28mself\u001b[39m\u001b[38;5;241m.\u001b[39m_internal_names_set\n\u001b[1;32m   5897\u001b[0m     \u001b[38;5;129;01mand\u001b[39;00m name \u001b[38;5;129;01mnot\u001b[39;00m \u001b[38;5;129;01min\u001b[39;00m \u001b[38;5;28mself\u001b[39m\u001b[38;5;241m.\u001b[39m_metadata\n\u001b[1;32m   5898\u001b[0m     \u001b[38;5;129;01mand\u001b[39;00m name \u001b[38;5;129;01mnot\u001b[39;00m \u001b[38;5;129;01min\u001b[39;00m \u001b[38;5;28mself\u001b[39m\u001b[38;5;241m.\u001b[39m_accessors\n\u001b[1;32m   5899\u001b[0m     \u001b[38;5;129;01mand\u001b[39;00m \u001b[38;5;28mself\u001b[39m\u001b[38;5;241m.\u001b[39m_info_axis\u001b[38;5;241m.\u001b[39m_can_hold_identifiers_and_holds_name(name)\n\u001b[1;32m   5900\u001b[0m ):\n\u001b[1;32m   5901\u001b[0m     \u001b[38;5;28;01mreturn\u001b[39;00m \u001b[38;5;28mself\u001b[39m[name]\n\u001b[0;32m-> 5902\u001b[0m \u001b[38;5;28;01mreturn\u001b[39;00m \u001b[38;5;28;43mobject\u001b[39;49m\u001b[38;5;241;43m.\u001b[39;49m\u001b[38;5;21;43m__getattribute__\u001b[39;49m\u001b[43m(\u001b[49m\u001b[38;5;28;43mself\u001b[39;49m\u001b[43m,\u001b[49m\u001b[43m \u001b[49m\u001b[43mname\u001b[49m\u001b[43m)\u001b[49m\n",
      "\u001b[0;31mAttributeError\u001b[0m: 'DataFrame' object has no attribute 'pagerank'"
     ]
    }
   ],
   "source": [
    "fl.iloc[:40].pagerank.plot()\n",
    "plt.xscale('log')\n",
    "plt.yscale('log')"
   ]
  },
  {
   "cell_type": "code",
   "execution_count": null,
   "id": "ab501f93",
   "metadata": {},
   "outputs": [],
   "source": [
    "fl.uro.fillna('', inplace=True)"
   ]
  },
  {
   "cell_type": "code",
   "execution_count": null,
   "id": "af264a12",
   "metadata": {},
   "outputs": [],
   "source": [
    "fl.columns"
   ]
  },
  {
   "cell_type": "code",
   "execution_count": null,
   "id": "6e490b58",
   "metadata": {},
   "outputs": [],
   "source": [
    "columns = ['en', 'pagerank_0.85', 'pagerank_0.9', 'pagerank_0.95', 'hu', 'la', 'pl', 'uro', 'pos', 'defi']\n",
    "with open('../paper/thesis/makrai_phd/img/4lang-by-PageRank.tex', mode='w') as file:\n",
    "    file.write(fl[columns].head(30).style.to_latex())"
   ]
  },
  {
   "cell_type": "markdown",
   "id": "77832019",
   "metadata": {},
   "source": [
    "## _Exist_ and _real_"
   ]
  },
  {
   "cell_type": "markdown",
   "id": "60ae784b",
   "metadata": {},
   "source": [
    "### Out-neighbors"
   ]
  },
  {
   "cell_type": "code",
   "execution_count": null,
   "id": "83bb3adf",
   "metadata": {},
   "outputs": [],
   "source": [
    "list(def_graph.neighbors('exist'))"
   ]
  },
  {
   "cell_type": "code",
   "execution_count": null,
   "id": "d89b99fe",
   "metadata": {},
   "outputs": [],
   "source": [
    "list(def_graph.neighbors('real'))"
   ]
  },
  {
   "cell_type": "markdown",
   "id": "ebed49b1",
   "metadata": {},
   "source": [
    "### In-neighbors"
   ]
  },
  {
   "cell_type": "code",
   "execution_count": null,
   "id": "10bbc18e",
   "metadata": {},
   "outputs": [],
   "source": [
    "%pprint\n",
    "print(sorted(list(def_graph.reverse().neighbors('exist'))))\n",
    "%pprint"
   ]
  },
  {
   "cell_type": "code",
   "execution_count": null,
   "id": "8b8a5788",
   "metadata": {},
   "outputs": [],
   "source": [
    "%pprint\n",
    "print(sorted(list(def_graph.reverse().neighbors('real'))))\n",
    "%pprint"
   ]
  },
  {
   "cell_type": "markdown",
   "id": "f7756219",
   "metadata": {},
   "source": [
    "# The tail"
   ]
  },
  {
   "cell_type": "code",
   "execution_count": null,
   "id": "7ec1220a",
   "metadata": {},
   "outputs": [],
   "source": [
    "fl[fl.pagerank<.000057]"
   ]
  },
  {
   "cell_type": "code",
   "execution_count": null,
   "id": "b6fab05b",
   "metadata": {},
   "outputs": [],
   "source": [
    "fl.groupby([in_degree_ser==0,fl.pagerank<5.578344e-05]).size()"
   ]
  }
 ],
 "metadata": {
  "kernelspec": {
   "display_name": "Python 3 (ipykernel)",
   "language": "python",
   "name": "python3"
  },
  "language_info": {
   "codemirror_mode": {
    "name": "ipython",
    "version": 3
   },
   "file_extension": ".py",
   "mimetype": "text/x-python",
   "name": "python",
   "nbconvert_exporter": "python",
   "pygments_lexer": "ipython3",
   "version": "3.10.8"
  }
 },
 "nbformat": 4,
 "nbformat_minor": 5
}
