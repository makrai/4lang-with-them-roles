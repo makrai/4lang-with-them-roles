{
 "cells": [
  {
   "cell_type": "code",
   "execution_count": 1,
   "id": "36a1d616",
   "metadata": {},
   "outputs": [],
   "source": [
    "from IPython.display import SVG\n",
    "import matplotlib.pyplot as plt\n",
    "import networkx as nx\n",
    "import numpy as np\n",
    "import pandas as pd\n",
    "import re\n",
    "import scipy\n",
    "from sknetwork.ranking import PageRank\n",
    "from sknetwork.visualization import svg_graph"
   ]
  },
  {
   "cell_type": "code",
   "execution_count": 2,
   "id": "67640273",
   "metadata": {},
   "outputs": [],
   "source": [
    "names=['en', 'hu', 'la', 'pl', 'id', 'uro', 'pos', 'defi', 'comment']\n",
    "fl = pd.read_csv('4lang', sep='\\t', names=names)"
   ]
  },
  {
   "cell_type": "markdown",
   "id": "e2a009f9",
   "metadata": {},
   "source": [
    "# Computing the definition graph"
   ]
  },
  {
   "cell_type": "code",
   "execution_count": 3,
   "id": "c96a964f",
   "metadata": {},
   "outputs": [],
   "source": [
    "fl = fl[~fl.defi.isna()]"
   ]
  },
  {
   "cell_type": "code",
   "execution_count": 4,
   "id": "b5942eee",
   "metadata": {},
   "outputs": [],
   "source": [
    "fl.en = fl.en.str.lower()"
   ]
  },
  {
   "cell_type": "code",
   "execution_count": 5,
   "id": "95c1efbb",
   "metadata": {},
   "outputs": [],
   "source": [
    "fl.defi = fl.defi.str.lower()"
   ]
  },
  {
   "cell_type": "code",
   "execution_count": 6,
   "id": "39e0fbb7",
   "metadata": {},
   "outputs": [],
   "source": [
    "fl['ambig'] = fl.en.duplicated(keep=False)"
   ]
  },
  {
   "cell_type": "code",
   "execution_count": 7,
   "id": "2e7c6324",
   "metadata": {},
   "outputs": [],
   "source": [
    "unambig_set = set(fl.loc[~fl.ambig,'en'])"
   ]
  },
  {
   "cell_type": "code",
   "execution_count": 8,
   "id": "31e03427",
   "metadata": {},
   "outputs": [],
   "source": [
    "def unambig_hwd(record):\n",
    "    return f'{record.en}/{record.id}' if record.ambig else record.en"
   ]
  },
  {
   "cell_type": "code",
   "execution_count": 9,
   "id": "629366fd",
   "metadata": {},
   "outputs": [],
   "source": [
    "fl['unambig_hwd'] = fl.apply(unambig_hwd, axis=1)"
   ]
  },
  {
   "cell_type": "code",
   "execution_count": 10,
   "id": "ad8d43d7",
   "metadata": {},
   "outputs": [],
   "source": [
    "def drop_needless_disambig(term):\n",
    "    if '/' in term:\n",
    "        word, number = term.split('/')\n",
    "        if word in unambig_set:\n",
    "            return word\n",
    "    return term"
   ]
  },
  {
   "cell_type": "code",
   "execution_count": 11,
   "id": "a918d74a",
   "metadata": {},
   "outputs": [],
   "source": [
    "concept_chars = '=@a-zA-Z_/0-9-'\n",
    "parens_and_stuff = \"[]<>,()'\"\n",
    "\n",
    "def get_def_graph_outlist(record):\n",
    "    hwd = f'{record.en}/{record.id}' if record.ambig else record.en\n",
    "    return hwd, [drop_needless_disambig(concept) \n",
    "                 for concept in re.findall(f'[{concept_chars}]+', str(record.defi))]"
   ]
  },
  {
   "cell_type": "code",
   "execution_count": 12,
   "id": "4a27d60a",
   "metadata": {},
   "outputs": [],
   "source": [
    "def_graph = nx.DiGraph(dict(fl.apply(get_def_graph_outlist, axis=1).values))"
   ]
  },
  {
   "cell_type": "markdown",
   "id": "e3451764",
   "metadata": {},
   "source": [
    "# Exploration"
   ]
  },
  {
   "cell_type": "code",
   "execution_count": 13,
   "id": "1b095138",
   "metadata": {},
   "outputs": [],
   "source": [
    "#SVG(svg_graph(nx.adjacency_matrix(def_graph)))"
   ]
  },
  {
   "cell_type": "code",
   "execution_count": 14,
   "id": "69bb9c0a",
   "metadata": {},
   "outputs": [
    {
     "data": {
      "text/plain": [
       "has           555\n",
       "=agt          357\n",
       "=pat          323\n",
       "at            308\n",
       "cause         308\n",
       "             ... \n",
       "proclaim        0\n",
       "procession      0\n",
       "drip            0\n",
       "proceed         0\n",
       "-able           0\n",
       "Length: 3185, dtype: int64"
      ]
     },
     "execution_count": 14,
     "metadata": {},
     "output_type": "execute_result"
    }
   ],
   "source": [
    "pd.Series(dict(def_graph.in_degree())).sort_values(ascending=False)"
   ]
  },
  {
   "cell_type": "code",
   "execution_count": 15,
   "id": "eefbb5a5",
   "metadata": {},
   "outputs": [
    {
     "data": {
      "text/plain": [
       "park         16\n",
       "lens         16\n",
       "golf         15\n",
       "fox          14\n",
       "honey        14\n",
       "             ..\n",
       "@hamburg      0\n",
       "@hanukkah     0\n",
       "@hawaii       0\n",
       "@himalaya     0\n",
       "=for          0\n",
       "Length: 3185, dtype: int64"
      ]
     },
     "execution_count": 15,
     "metadata": {},
     "output_type": "execute_result"
    }
   ],
   "source": [
    "pd.Series(dict(def_graph.out_degree())).sort_values(ascending=False)"
   ]
  },
  {
   "cell_type": "code",
   "execution_count": 16,
   "id": "2c2e805f",
   "metadata": {},
   "outputs": [
    {
     "data": {
      "text/plain": [
       "(2965, 11)"
      ]
     },
     "execution_count": 16,
     "metadata": {},
     "output_type": "execute_result"
    }
   ],
   "source": [
    "fl.shape"
   ]
  },
  {
   "cell_type": "code",
   "execution_count": 17,
   "id": "2e17764b",
   "metadata": {},
   "outputs": [
    {
     "data": {
      "text/plain": [
       "3185"
      ]
     },
     "execution_count": 17,
     "metadata": {},
     "output_type": "execute_result"
    }
   ],
   "source": [
    "def_graph.number_of_nodes()"
   ]
  },
  {
   "cell_type": "code",
   "execution_count": 18,
   "id": "5e40f82b",
   "metadata": {},
   "outputs": [
    {
     "data": {
      "text/plain": [
       "11023"
      ]
     },
     "execution_count": 18,
     "metadata": {},
     "output_type": "execute_result"
    }
   ],
   "source": [
    "def_graph.number_of_edges()"
   ]
  },
  {
   "cell_type": "markdown",
   "id": "c6bc49b8",
   "metadata": {},
   "source": [
    "# Primitives"
   ]
  },
  {
   "cell_type": "code",
   "execution_count": 19,
   "id": "8316242c",
   "metadata": {},
   "outputs": [
    {
     "name": "stdout",
     "output_type": "stream",
     "text": [
      "Pretty printing has been turned OFF\n",
      "['all', 'also', 'be', 'before', 'celebrate', 'characteristic', 'enthusiastic', 'er', 'for', 'for/2782', 'from', 'has', 'identity', 'inherent', 'is_a', 'lack', 'next_to', 'not', 'other', 'palm', 'part_of', 'passionate', 'target', 'tired', 'want']\n",
      "Pretty printing has been turned ON\n"
     ]
    }
   ],
   "source": [
    "%pprint\n",
    "print(sorted(set(concept \n",
    "                 for concept in set(def_graph.nodes) - set(fl.unambig_hwd)  if not re.match('^[=@]', concept))))\n",
    "%pprint"
   ]
  },
  {
   "cell_type": "markdown",
   "id": "b86dc6cc",
   "metadata": {},
   "source": [
    "# Strongly connected components"
   ]
  },
  {
   "cell_type": "code",
   "execution_count": 20,
   "id": "7f54726c",
   "metadata": {},
   "outputs": [],
   "source": [
    "def get_components_with_size():\n",
    "    for component in nx.strongly_connected_components(def_graph):\n",
    "        yield ', '.join(sorted(component)), len(component)"
   ]
  },
  {
   "cell_type": "code",
   "execution_count": 21,
   "id": "9a46109f",
   "metadata": {},
   "outputs": [],
   "source": [
    "components = pd.Series(dict(get_components_with_size()))"
   ]
  },
  {
   "cell_type": "code",
   "execution_count": 22,
   "id": "76fc58c7",
   "metadata": {},
   "outputs": [],
   "source": [
    "components.sort_values(ascending=False, inplace=True)"
   ]
  },
  {
   "cell_type": "code",
   "execution_count": 23,
   "id": "c3afae66",
   "metadata": {},
   "outputs": [
    {
     "data": {
      "text/plain": [
       "2478"
      ]
     },
     "execution_count": 23,
     "metadata": {},
     "output_type": "execute_result"
    }
   ],
   "source": [
    "len(components)"
   ]
  },
  {
   "cell_type": "code",
   "execution_count": 24,
   "id": "2cd6c80f",
   "metadata": {},
   "outputs": [
    {
     "data": {
      "text/plain": [
       "623"
      ]
     },
     "execution_count": 24,
     "metadata": {},
     "output_type": "execute_result"
    }
   ],
   "source": [
    "components[0]"
   ]
  },
  {
   "cell_type": "code",
   "execution_count": 25,
   "id": "e452ea4e",
   "metadata": {},
   "outputs": [
    {
     "name": "stdout",
     "output_type": "stream",
     "text": [
      "\\begin{tabular}{lr}\n",
      "\\toprule\n",
      "{} &   0 \\\\\n",
      "\\midrule\n",
      "april, august, december, february, january, jul... &  12 \\\\\n",
      "friday, monday, saturday, sunday, thursday, tue... &   7 \\\\\n",
      "bed, chair, cupboard, furniture, table             &   5 \\\\\n",
      "cereal, flour, grain, wheat                        &   4 \\\\\n",
      "draw/2707, pen, pencil, write                      &   4 \\\\\n",
      "king, monarch, queen, royal                        &   4 \\\\\n",
      "autumn, spring/2318, summer, winter                &   4 \\\\\n",
      "buttocks, seat, sit                                &   3 \\\\\n",
      "camera, lens, photograph                           &   3 \\\\\n",
      "calm, disturb, upset                               &   3 \\\\\n",
      "answer, question, reply                            &   3 \\\\\n",
      "bake, bread, cake                                  &   3 \\\\\n",
      "female, male, sex                                  &   3 \\\\\n",
      "justice, right/1191, wrong                         &   3 \\\\\n",
      "actor, stage/2220, theatre                         &   3 \\\\\n",
      "many, much, quantity                               &   3 \\\\\n",
      "husband, marriage, wife                            &   3 \\\\\n",
      "poem, poet, poetry                                 &   3 \\\\\n",
      "cutlery, fork, spoon                               &   3 \\\\\n",
      "\\bottomrule\n",
      "\\end{tabular}\n",
      "\n"
     ]
    },
    {
     "name": "stderr",
     "output_type": "stream",
     "text": [
      "/tmp/ipykernel_26031/2481590247.py:1: FutureWarning: In future versions `DataFrame.to_latex` is expected to utilise the base implementation of `Styler.to_latex` for formatting and rendering. The arguments signature may therefore change. It is recommended instead to use `DataFrame.style.to_latex` which also contains additional functionality.\n",
      "  print(components[components>2][1:].to_latex())\n"
     ]
    }
   ],
   "source": [
    "print(components[components>2][1:].to_latex())"
   ]
  },
  {
   "cell_type": "code",
   "execution_count": 26,
   "id": "8e6d18c6",
   "metadata": {},
   "outputs": [
    {
     "data": {
      "text/plain": [
       "buttocks, seat, sit           3\n",
       "camera, lens, photograph      3\n",
       "calm, disturb, upset          3\n",
       "answer, question, reply       3\n",
       "bake, bread, cake             3\n",
       "female, male, sex             3\n",
       "justice, right/1191, wrong    3\n",
       "actor, stage/2220, theatre    3\n",
       "many, much, quantity          3\n",
       "husband, marriage, wife       3\n",
       "poem, poet, poetry            3\n",
       "cutlery, fork, spoon          3\n",
       "dtype: int64"
      ]
     },
     "execution_count": 26,
     "metadata": {},
     "output_type": "execute_result"
    }
   ],
   "source": [
    "components[components==3]"
   ]
  },
  {
   "cell_type": "code",
   "execution_count": 27,
   "id": "37325e33",
   "metadata": {},
   "outputs": [
    {
     "data": {
      "text/plain": [
       "<bound method NDFrame.to_latex of president, republic       2\n",
       "bell, ring/2735           2\n",
       "bottle, glass             2\n",
       "dirt, dust                2\n",
       "hill, mountain            2\n",
       "hang, swing               2\n",
       "problem, solve            2\n",
       "thick/2134, thin/1038     2\n",
       "acid, sour                2\n",
       "door, entrance            2\n",
       "attention, interesting    2\n",
       "elephant, trunk/1910      2\n",
       "guest, host/2605          2\n",
       "rat, rodent               2\n",
       "soap, wash                2\n",
       "now, this                 2\n",
       "level, scale              2\n",
       "programme, television     2\n",
       "dig, spade                2\n",
       "cause, reason             2\n",
       "news, newspaper           2\n",
       "electricity, wire         2\n",
       "school, student           2\n",
       "balance/1607, weigh       2\n",
       "brush, paint              2\n",
       "horse, ride               2\n",
       "book, page                2\n",
       "exist, real               2\n",
       "dtype: int64>"
      ]
     },
     "execution_count": 27,
     "metadata": {},
     "output_type": "execute_result"
    }
   ],
   "source": [
    "components[components==2].to_latex"
   ]
  },
  {
   "cell_type": "code",
   "execution_count": 28,
   "id": "35203df0",
   "metadata": {},
   "outputs": [
    {
     "data": {
      "text/plain": [
       "Index(['linoleum', 'lime/1609', 'lip', 'lightning', 'lime/2773', 'literature',\n",
       "       'light-coloured', 'kiss', 'light/944', 'kitchen',\n",
       "       ...\n",
       "       'beard', 'hit', 'beat', 'beautify', 'because', 'store', 'shelf', 'pity',\n",
       "       'beg', 'vine'],\n",
       "      dtype='object', length=2430)"
      ]
     },
     "execution_count": 28,
     "metadata": {},
     "output_type": "execute_result"
    }
   ],
   "source": [
    "components[components==1].index"
   ]
  },
  {
   "cell_type": "markdown",
   "id": "bed63532",
   "metadata": {},
   "source": [
    "## Edges between the huge component and the medium ones"
   ]
  },
  {
   "cell_type": "code",
   "execution_count": 29,
   "id": "4f4c8d7b",
   "metadata": {},
   "outputs": [
    {
     "data": {
      "text/plain": [
       "True"
      ]
     },
     "execution_count": 29,
     "metadata": {},
     "output_type": "execute_result"
    }
   ],
   "source": [
    "'month' in components.index[0]"
   ]
  },
  {
   "cell_type": "code",
   "execution_count": 30,
   "id": "11e750af",
   "metadata": {},
   "outputs": [
    {
     "name": "stdout",
     "output_type": "stream",
     "text": [
      "Pretty printing has been turned OFF\n",
      "['part_of', 'time', 'twelve', 'unit', 'year']\n",
      "Pretty printing has been turned ON\n"
     ]
    }
   ],
   "source": [
    "%pprint\n",
    "print(sorted(list(nx.neighbors(def_graph, 'month'))))\n",
    "%pprint"
   ]
  },
  {
   "cell_type": "code",
   "execution_count": 31,
   "id": "739cf1c8",
   "metadata": {},
   "outputs": [
    {
     "name": "stdout",
     "output_type": "stream",
     "text": [
      "Pretty printing has been turned OFF\n",
      "['12-month', 'april', 'august', 'date', 'day', 'december', 'february', 'january', 'july', 'june', 'march/1563', 'may/1560', 'november', 'october', 'salary', 'september', 'year']\n",
      "Pretty printing has been turned ON\n"
     ]
    }
   ],
   "source": [
    "%pprint\n",
    "print(sorted(list(nx.neighbors(def_graph.reverse(), 'month'))))\n",
    "%pprint"
   ]
  },
  {
   "cell_type": "markdown",
   "id": "8cfea60a",
   "metadata": {},
   "source": [
    "## Singletons"
   ]
  },
  {
   "cell_type": "code",
   "execution_count": 32,
   "id": "664418b3",
   "metadata": {},
   "outputs": [],
   "source": [
    "in_degree_ser = pd.Series(dict(def_graph.in_degree()))"
   ]
  },
  {
   "cell_type": "code",
   "execution_count": 33,
   "id": "fcee159c",
   "metadata": {},
   "outputs": [],
   "source": [
    "out_degree_ser = pd.Series(dict(def_graph.out_degree()))"
   ]
  },
  {
   "cell_type": "code",
   "execution_count": 34,
   "id": "cbc7f89b",
   "metadata": {},
   "outputs": [
    {
     "data": {
      "text/plain": [
       "linoleum     1\n",
       "lime/1609    1\n",
       "lip          1\n",
       "lightning    1\n",
       "lime/2773    1\n",
       "            ..\n",
       "store        1\n",
       "shelf        1\n",
       "pity         1\n",
       "beg          1\n",
       "vine         1\n",
       "Length: 2430, dtype: int64"
      ]
     },
     "execution_count": 34,
     "metadata": {},
     "output_type": "execute_result"
    }
   ],
   "source": [
    "components[components==1]"
   ]
  },
  {
   "cell_type": "code",
   "execution_count": 35,
   "id": "36d88a1a",
   "metadata": {},
   "outputs": [
    {
     "data": {
      "text/plain": [
       "['material', 'cover', 'floor', 'strong']"
      ]
     },
     "execution_count": 35,
     "metadata": {},
     "output_type": "execute_result"
    }
   ],
   "source": [
    "list(nx.neighbors(def_graph, 'linoleum'))"
   ]
  },
  {
   "cell_type": "code",
   "execution_count": 36,
   "id": "6d6eb44b",
   "metadata": {},
   "outputs": [
    {
     "data": {
      "text/plain": [
       "[]"
      ]
     },
     "execution_count": 36,
     "metadata": {},
     "output_type": "execute_result"
    }
   ],
   "source": [
    "list(nx.neighbors(def_graph.reverse(), 'linoleum'))"
   ]
  },
  {
   "cell_type": "code",
   "execution_count": 37,
   "id": "2bf41d04",
   "metadata": {},
   "outputs": [
    {
     "data": {
      "text/plain": [
       "1"
      ]
     },
     "execution_count": 37,
     "metadata": {},
     "output_type": "execute_result"
    }
   ],
   "source": [
    "components['ability']"
   ]
  },
  {
   "cell_type": "code",
   "execution_count": 38,
   "id": "b4bbb467",
   "metadata": {},
   "outputs": [
    {
     "data": {
      "text/plain": [
       "['can/1246']"
      ]
     },
     "execution_count": 38,
     "metadata": {},
     "output_type": "execute_result"
    }
   ],
   "source": [
    "list(nx.neighbors(def_graph, 'ability'))"
   ]
  },
  {
   "cell_type": "code",
   "execution_count": 39,
   "id": "c1bb8d70",
   "metadata": {},
   "outputs": [
    {
     "data": {
      "text/plain": [
       "['modest']"
      ]
     },
     "execution_count": 39,
     "metadata": {},
     "output_type": "execute_result"
    }
   ],
   "source": [
    "list(nx.neighbors(def_graph.reverse(), 'ability'))"
   ]
  },
  {
   "cell_type": "code",
   "execution_count": 40,
   "id": "6297275c",
   "metadata": {},
   "outputs": [
    {
     "data": {
      "text/plain": [
       "1"
      ]
     },
     "execution_count": 40,
     "metadata": {},
     "output_type": "execute_result"
    }
   ],
   "source": [
    "components['modest']"
   ]
  },
  {
   "cell_type": "code",
   "execution_count": 41,
   "id": "0ce68de5",
   "metadata": {},
   "outputs": [
    {
     "data": {
      "text/plain": [
       "['humble']"
      ]
     },
     "execution_count": 41,
     "metadata": {},
     "output_type": "execute_result"
    }
   ],
   "source": [
    "list(nx.neighbors(def_graph.reverse(), 'modest'))"
   ]
  },
  {
   "cell_type": "markdown",
   "id": "48085ab5",
   "metadata": {},
   "source": [
    "# PageRank\n",
    "## The whole graph"
   ]
  },
  {
   "cell_type": "code",
   "execution_count": 42,
   "id": "c5bd8311",
   "metadata": {},
   "outputs": [],
   "source": [
    "def get_pagerank_df():\n",
    "    columns = {}\n",
    "    for damping_factor in [.85, .9, .95]:\n",
    "        scores = PageRank(damping_factor=damping_factor).fit_predict(nx.adjacency_matrix(def_graph))\n",
    "        columns[f'pagerank_{damping_factor}'] = dict(zip(def_graph.nodes, scores))\n",
    "    df = pd.DataFrame(columns)\n",
    "    df['primitive'] = [w not in fl.index for w in df.index]\n",
    "    return df"
   ]
  },
  {
   "cell_type": "code",
   "execution_count": 43,
   "id": "f8bcf40f",
   "metadata": {},
   "outputs": [
    {
     "name": "stderr",
     "output_type": "stream",
     "text": [
      "/tmp/ipykernel_26031/3905481045.py:4: FutureWarning: adjacency_matrix will return a scipy.sparse array instead of a matrix in Networkx 3.0.\n",
      "  scores = PageRank(damping_factor=damping_factor).fit_predict(nx.adjacency_matrix(def_graph))\n"
     ]
    }
   ],
   "source": [
    "pageRank_df = get_pagerank_df()"
   ]
  },
  {
   "cell_type": "code",
   "execution_count": 44,
   "id": "01b7aa22",
   "metadata": {},
   "outputs": [
    {
     "data": {
      "image/png": "[encoded data removed]",
      "text/plain": [
       "<Figure size 640x480 with 1 Axes>"
      ]
     },
     "metadata": {},
     "output_type": "display_data"
    }
   ],
   "source": [
    "factors = [.85, .9, .95]\n",
    "for damping_factor in factors:\n",
    "    plt.plot(pageRank_df[f'pagerank_{damping_factor}'].sort_values(ascending=False).values)\n",
    "plt.xscale('log')\n",
    "plt.yscale('log')\n",
    "plt.legend(factors)\n",
    "plt.xlabel('vocabulary')\n",
    "plt.ylabel('PageRank')\n",
    "plt.savefig(f'/home/makrai/repo/paper/thesis/makrai_phd/img/pageRank-sorted-separately.png')"
   ]
  },
  {
   "cell_type": "code",
   "execution_count": 45,
   "id": "8084ebb9",
   "metadata": {},
   "outputs": [
    {
     "data": {
      "text/plain": [
       "array([1, 1, 1, ..., 1, 1, 1])"
      ]
     },
     "execution_count": 45,
     "metadata": {},
     "output_type": "execute_result"
    }
   ],
   "source": [
    "np.array([1 for _ in pageRank_df.index])"
   ]
  },
  {
   "cell_type": "code",
   "execution_count": 46,
   "id": "1a90cad6",
   "metadata": {},
   "outputs": [
    {
     "data": {
      "image/png": "[encoded data removed]",
      "text/plain": [
       "<Figure size 640x480 with 1 Axes>"
      ]
     },
     "metadata": {},
     "output_type": "display_data"
    }
   ],
   "source": [
    "pageRank_df.sort_values(f'pagerank_0.85', ascending=False, inplace=True)\n",
    "pageRank_df[['pagerank_0.95', 'pagerank_0.9', 'pagerank_0.85']].plot(linestyle='none', marker='.', \n",
    "                                                                     ms=2)\n",
    "plt.xscale('log')\n",
    "plt.yscale('log')\n",
    "plt.legend(factors)\n",
    "plt.xlabel('vocabulary')\n",
    "plt.ylabel('PageRank')\n",
    "plt.savefig(f'/home/makrai/repo/paper/thesis/makrai_phd/img/pageRank-aligned.png')"
   ]
  },
  {
   "cell_type": "code",
   "execution_count": 47,
   "id": "d25754ca",
   "metadata": {},
   "outputs": [
    {
     "name": "stderr",
     "output_type": "stream",
     "text": [
      "/tmp/ipykernel_26031/4155689035.py:3: SettingWithCopyWarning: \n",
      "A value is trying to be set on a copy of a slice from a DataFrame\n",
      "\n",
      "See the caveats in the documentation: https://pandas.pydata.org/pandas-docs/stable/user_guide/indexing.html#returning-a-view-versus-a-copy\n",
      "  df_.sort_values(f'pagerank_0.85', ascending=False, inplace=True)\n"
     ]
    },
    {
     "data": {
      "image/png": "[encoded data removed]",
      "text/plain": [
       "<Figure size 640x480 with 1 Axes>"
      ]
     },
     "metadata": {},
     "output_type": "display_data"
    }
   ],
   "source": [
    "\n",
    "df_ = pageRank_df[~pageRank_df.index.str.startswith('@')]\n",
    "\n",
    "df_.sort_values(f'pagerank_0.85', ascending=False, inplace=True)\n",
    "df_[['pagerank_0.95', 'pagerank_0.9', 'pagerank_0.85']].plot(linestyle='none', marker='.', \n",
    "                                                                     ms=2)\n",
    "plt.xscale('log')\n",
    "plt.yscale('log')\n",
    "plt.legend(factors)\n",
    "plt.xlabel('vocabulary')\n",
    "plt.ylabel('PageRank')\n",
    "plt.savefig(f'/home/makrai/repo/paper/thesis/makrai_phd/img/pageRank-aligned-noencyc.png')"
   ]
  },
  {
   "cell_type": "markdown",
   "id": "4c2b1d11",
   "metadata": {},
   "source": [
    "## Around PageRank == 0.00004: Encyclopedic refs"
   ]
  },
  {
   "cell_type": "code",
   "execution_count": 48,
   "id": "6f66f4bd",
   "metadata": {},
   "outputs": [
    {
     "data": {
      "text/html": [
       "<div>\n",
       "<style scoped>\n",
       "    .dataframe tbody tr th:only-of-type {\n",
       "        vertical-align: middle;\n",
       "    }\n",
       "\n",
       "    .dataframe tbody tr th {\n",
       "        vertical-align: top;\n",
       "    }\n",
       "\n",
       "    .dataframe thead th {\n",
       "        text-align: right;\n",
       "    }\n",
       "</style>\n",
       "<table border=\"1\" class=\"dataframe\">\n",
       "  <thead>\n",
       "    <tr style=\"text-align: right;\">\n",
       "      <th></th>\n",
       "      <th>pagerank_0.85</th>\n",
       "      <th>pagerank_0.9</th>\n",
       "      <th>pagerank_0.95</th>\n",
       "      <th>primitive</th>\n",
       "    </tr>\n",
       "  </thead>\n",
       "  <tbody>\n",
       "    <tr>\n",
       "      <th>@germany</th>\n",
       "      <td>0.0004</td>\n",
       "      <td>0.000402</td>\n",
       "      <td>0.000402</td>\n",
       "      <td>True</td>\n",
       "    </tr>\n",
       "    <tr>\n",
       "      <th>@finland</th>\n",
       "      <td>0.0004</td>\n",
       "      <td>0.000402</td>\n",
       "      <td>0.000402</td>\n",
       "      <td>True</td>\n",
       "    </tr>\n",
       "    <tr>\n",
       "      <th>@greece</th>\n",
       "      <td>0.0004</td>\n",
       "      <td>0.000402</td>\n",
       "      <td>0.000402</td>\n",
       "      <td>True</td>\n",
       "    </tr>\n",
       "    <tr>\n",
       "      <th>@pennsylvania</th>\n",
       "      <td>0.0004</td>\n",
       "      <td>0.000402</td>\n",
       "      <td>0.000402</td>\n",
       "      <td>True</td>\n",
       "    </tr>\n",
       "    <tr>\n",
       "      <th>@william_shakespeare</th>\n",
       "      <td>0.0004</td>\n",
       "      <td>0.000402</td>\n",
       "      <td>0.000402</td>\n",
       "      <td>True</td>\n",
       "    </tr>\n",
       "    <tr>\n",
       "      <th>...</th>\n",
       "      <td>...</td>\n",
       "      <td>...</td>\n",
       "      <td>...</td>\n",
       "      <td>...</td>\n",
       "    </tr>\n",
       "    <tr>\n",
       "      <th>@denmark</th>\n",
       "      <td>0.0004</td>\n",
       "      <td>0.000402</td>\n",
       "      <td>0.000402</td>\n",
       "      <td>True</td>\n",
       "    </tr>\n",
       "    <tr>\n",
       "      <th>@latin</th>\n",
       "      <td>0.0004</td>\n",
       "      <td>0.000402</td>\n",
       "      <td>0.000402</td>\n",
       "      <td>True</td>\n",
       "    </tr>\n",
       "    <tr>\n",
       "      <th>@oregon</th>\n",
       "      <td>0.0004</td>\n",
       "      <td>0.000402</td>\n",
       "      <td>0.000402</td>\n",
       "      <td>True</td>\n",
       "    </tr>\n",
       "    <tr>\n",
       "      <th>@liverpool</th>\n",
       "      <td>0.0004</td>\n",
       "      <td>0.000402</td>\n",
       "      <td>0.000402</td>\n",
       "      <td>True</td>\n",
       "    </tr>\n",
       "    <tr>\n",
       "      <th>@egypt</th>\n",
       "      <td>0.0004</td>\n",
       "      <td>0.000402</td>\n",
       "      <td>0.000402</td>\n",
       "      <td>True</td>\n",
       "    </tr>\n",
       "  </tbody>\n",
       "</table>\n",
       "<p>122 rows × 4 columns</p>\n",
       "</div>"
      ],
      "text/plain": [
       "                      pagerank_0.85  pagerank_0.9  pagerank_0.95  primitive\n",
       "@germany                     0.0004      0.000402       0.000402       True\n",
       "@finland                     0.0004      0.000402       0.000402       True\n",
       "@greece                      0.0004      0.000402       0.000402       True\n",
       "@pennsylvania                0.0004      0.000402       0.000402       True\n",
       "@william_shakespeare         0.0004      0.000402       0.000402       True\n",
       "...                             ...           ...            ...        ...\n",
       "@denmark                     0.0004      0.000402       0.000402       True\n",
       "@latin                       0.0004      0.000402       0.000402       True\n",
       "@oregon                      0.0004      0.000402       0.000402       True\n",
       "@liverpool                   0.0004      0.000402       0.000402       True\n",
       "@egypt                       0.0004      0.000402       0.000402       True\n",
       "\n",
       "[122 rows x 4 columns]"
      ]
     },
     "execution_count": 48,
     "metadata": {},
     "output_type": "execute_result"
    }
   ],
   "source": [
    "pageRank_df.loc[(pageRank_df['pagerank_0.85']>0.000399)&(pageRank_df['pagerank_0.85']<0.000401)]#,'pagerank_0.85'].hist(bins=100)"
   ]
  },
  {
   "cell_type": "code",
   "execution_count": 49,
   "id": "0ef882ad",
   "metadata": {},
   "outputs": [
    {
     "data": {
      "text/plain": [
       "pagerank_0.85       \n",
       "False          False    2999\n",
       "               True       64\n",
       "True           False       1\n",
       "               True      121\n",
       "dtype: int64"
      ]
     },
     "execution_count": 49,
     "metadata": {},
     "output_type": "execute_result"
    }
   ],
   "source": [
    "pageRank_df.groupby([np.abs(pageRank_df['pagerank_0.85']-0.0004)<0.000001,pageRank_df.index.str.startswith('@')]).size()"
   ]
  },
  {
   "cell_type": "code",
   "execution_count": 50,
   "id": "43c80fef",
   "metadata": {},
   "outputs": [
    {
     "data": {
      "text/html": [
       "<div>\n",
       "<style scoped>\n",
       "    .dataframe tbody tr th:only-of-type {\n",
       "        vertical-align: middle;\n",
       "    }\n",
       "\n",
       "    .dataframe tbody tr th {\n",
       "        vertical-align: top;\n",
       "    }\n",
       "\n",
       "    .dataframe thead th {\n",
       "        text-align: right;\n",
       "    }\n",
       "</style>\n",
       "<table border=\"1\" class=\"dataframe\">\n",
       "  <thead>\n",
       "    <tr style=\"text-align: right;\">\n",
       "      <th></th>\n",
       "      <th>pagerank_0.85</th>\n",
       "      <th>pagerank_0.9</th>\n",
       "      <th>pagerank_0.95</th>\n",
       "      <th>primitive</th>\n",
       "    </tr>\n",
       "  </thead>\n",
       "  <tbody>\n",
       "    <tr>\n",
       "      <th>@united_kingdom</th>\n",
       "      <td>0.000569</td>\n",
       "      <td>0.000527</td>\n",
       "      <td>0.000471</td>\n",
       "      <td>True</td>\n",
       "    </tr>\n",
       "    <tr>\n",
       "      <th>@united_states</th>\n",
       "      <td>0.000493</td>\n",
       "      <td>0.000471</td>\n",
       "      <td>0.000440</td>\n",
       "      <td>True</td>\n",
       "    </tr>\n",
       "    <tr>\n",
       "      <th>@karl_marx</th>\n",
       "      <td>0.000491</td>\n",
       "      <td>0.000470</td>\n",
       "      <td>0.000439</td>\n",
       "      <td>True</td>\n",
       "    </tr>\n",
       "    <tr>\n",
       "      <th>@arabia</th>\n",
       "      <td>0.000456</td>\n",
       "      <td>0.000443</td>\n",
       "      <td>0.000425</td>\n",
       "      <td>True</td>\n",
       "    </tr>\n",
       "    <tr>\n",
       "      <th>@jesus</th>\n",
       "      <td>0.000454</td>\n",
       "      <td>0.000446</td>\n",
       "      <td>0.000430</td>\n",
       "      <td>True</td>\n",
       "    </tr>\n",
       "    <tr>\n",
       "      <th>...</th>\n",
       "      <td>...</td>\n",
       "      <td>...</td>\n",
       "      <td>...</td>\n",
       "      <td>...</td>\n",
       "    </tr>\n",
       "    <tr>\n",
       "      <th>@noah</th>\n",
       "      <td>0.000386</td>\n",
       "      <td>0.000391</td>\n",
       "      <td>0.000396</td>\n",
       "      <td>True</td>\n",
       "    </tr>\n",
       "    <tr>\n",
       "      <th>@hindu</th>\n",
       "      <td>0.000386</td>\n",
       "      <td>0.000391</td>\n",
       "      <td>0.000396</td>\n",
       "      <td>True</td>\n",
       "    </tr>\n",
       "    <tr>\n",
       "      <th>@trinity</th>\n",
       "      <td>0.000383</td>\n",
       "      <td>0.000389</td>\n",
       "      <td>0.000395</td>\n",
       "      <td>True</td>\n",
       "    </tr>\n",
       "    <tr>\n",
       "      <th>@baseball</th>\n",
       "      <td>0.000380</td>\n",
       "      <td>0.000387</td>\n",
       "      <td>0.000394</td>\n",
       "      <td>True</td>\n",
       "    </tr>\n",
       "    <tr>\n",
       "      <th>@brazil</th>\n",
       "      <td>0.000379</td>\n",
       "      <td>0.000386</td>\n",
       "      <td>0.000393</td>\n",
       "      <td>True</td>\n",
       "    </tr>\n",
       "  </tbody>\n",
       "</table>\n",
       "<p>64 rows × 4 columns</p>\n",
       "</div>"
      ],
      "text/plain": [
       "                 pagerank_0.85  pagerank_0.9  pagerank_0.95  primitive\n",
       "@united_kingdom       0.000569      0.000527       0.000471       True\n",
       "@united_states        0.000493      0.000471       0.000440       True\n",
       "@karl_marx            0.000491      0.000470       0.000439       True\n",
       "@arabia               0.000456      0.000443       0.000425       True\n",
       "@jesus                0.000454      0.000446       0.000430       True\n",
       "...                        ...           ...            ...        ...\n",
       "@noah                 0.000386      0.000391       0.000396       True\n",
       "@hindu                0.000386      0.000391       0.000396       True\n",
       "@trinity              0.000383      0.000389       0.000395       True\n",
       "@baseball             0.000380      0.000387       0.000394       True\n",
       "@brazil               0.000379      0.000386       0.000393       True\n",
       "\n",
       "[64 rows x 4 columns]"
      ]
     },
     "execution_count": 50,
     "metadata": {},
     "output_type": "execute_result"
    }
   ],
   "source": [
    "pageRank_df[(np.abs(pageRank_df['pagerank_0.85']-0.0004)>=0.000001)&(pageRank_df.index.str.startswith('@'))]"
   ]
  },
  {
   "cell_type": "code",
   "execution_count": 51,
   "id": "51941a65",
   "metadata": {},
   "outputs": [
    {
     "data": {
      "text/plain": [
       "InEdgeDataView([('koran', '@koran')])"
      ]
     },
     "execution_count": 51,
     "metadata": {},
     "output_type": "execute_result"
    }
   ],
   "source": [
    "def_graph.in_edges('@koran')"
   ]
  },
  {
   "cell_type": "code",
   "execution_count": 52,
   "id": "b6ffa21f",
   "metadata": {},
   "outputs": [
    {
     "data": {
      "text/plain": [
       "InEdgeDataView([('arabia', '@arabia'), ('arabian', '@arabia')])"
      ]
     },
     "execution_count": 52,
     "metadata": {},
     "output_type": "execute_result"
    }
   ],
   "source": [
    "def_graph.in_edges('@arabia')"
   ]
  },
  {
   "cell_type": "code",
   "execution_count": 53,
   "id": "51da19db",
   "metadata": {},
   "outputs": [
    {
     "data": {
      "text/plain": [
       "OutEdgeDataView([])"
      ]
     },
     "execution_count": 53,
     "metadata": {},
     "output_type": "execute_result"
    }
   ],
   "source": [
    "def_graph.out_edges('@koran')"
   ]
  },
  {
   "cell_type": "code",
   "execution_count": 54,
   "id": "8ca27e30",
   "metadata": {},
   "outputs": [
    {
     "data": {
      "text/plain": [
       "OutEdgeDataView([])"
      ]
     },
     "execution_count": 54,
     "metadata": {},
     "output_type": "execute_result"
    }
   ],
   "source": [
    "def_graph.out_edges('@arabia')"
   ]
  },
  {
   "cell_type": "markdown",
   "id": "b29c1072",
   "metadata": {},
   "source": [
    "## The tail"
   ]
  },
  {
   "cell_type": "code",
   "execution_count": 55,
   "id": "4f528323",
   "metadata": {},
   "outputs": [
    {
     "data": {
      "text/html": [
       "<div>\n",
       "<style scoped>\n",
       "    .dataframe tbody tr th:only-of-type {\n",
       "        vertical-align: middle;\n",
       "    }\n",
       "\n",
       "    .dataframe tbody tr th {\n",
       "        vertical-align: top;\n",
       "    }\n",
       "\n",
       "    .dataframe thead th {\n",
       "        text-align: right;\n",
       "    }\n",
       "</style>\n",
       "<table border=\"1\" class=\"dataframe\">\n",
       "  <thead>\n",
       "    <tr style=\"text-align: right;\">\n",
       "      <th></th>\n",
       "      <th>pagerank_0.85</th>\n",
       "      <th>pagerank_0.9</th>\n",
       "      <th>pagerank_0.95</th>\n",
       "      <th>primitive</th>\n",
       "    </tr>\n",
       "  </thead>\n",
       "  <tbody>\n",
       "    <tr>\n",
       "      <th>stretch</th>\n",
       "      <td>0.000056</td>\n",
       "      <td>0.000038</td>\n",
       "      <td>0.00002</td>\n",
       "      <td>True</td>\n",
       "    </tr>\n",
       "    <tr>\n",
       "      <th>strew</th>\n",
       "      <td>0.000056</td>\n",
       "      <td>0.000038</td>\n",
       "      <td>0.00002</td>\n",
       "      <td>True</td>\n",
       "    </tr>\n",
       "    <tr>\n",
       "      <th>stride</th>\n",
       "      <td>0.000056</td>\n",
       "      <td>0.000038</td>\n",
       "      <td>0.00002</td>\n",
       "      <td>True</td>\n",
       "    </tr>\n",
       "    <tr>\n",
       "      <th>base/2755</th>\n",
       "      <td>0.000056</td>\n",
       "      <td>0.000038</td>\n",
       "      <td>0.00002</td>\n",
       "      <td>True</td>\n",
       "    </tr>\n",
       "    <tr>\n",
       "      <th>germany</th>\n",
       "      <td>0.000056</td>\n",
       "      <td>0.000038</td>\n",
       "      <td>0.00002</td>\n",
       "      <td>True</td>\n",
       "    </tr>\n",
       "    <tr>\n",
       "      <th>...</th>\n",
       "      <td>...</td>\n",
       "      <td>...</td>\n",
       "      <td>...</td>\n",
       "      <td>...</td>\n",
       "    </tr>\n",
       "    <tr>\n",
       "      <th>crack</th>\n",
       "      <td>0.000056</td>\n",
       "      <td>0.000038</td>\n",
       "      <td>0.00002</td>\n",
       "      <td>True</td>\n",
       "    </tr>\n",
       "    <tr>\n",
       "      <th>crazy</th>\n",
       "      <td>0.000056</td>\n",
       "      <td>0.000038</td>\n",
       "      <td>0.00002</td>\n",
       "      <td>True</td>\n",
       "    </tr>\n",
       "    <tr>\n",
       "      <th>photography</th>\n",
       "      <td>0.000056</td>\n",
       "      <td>0.000038</td>\n",
       "      <td>0.00002</td>\n",
       "      <td>True</td>\n",
       "    </tr>\n",
       "    <tr>\n",
       "      <th>creak</th>\n",
       "      <td>0.000056</td>\n",
       "      <td>0.000038</td>\n",
       "      <td>0.00002</td>\n",
       "      <td>True</td>\n",
       "    </tr>\n",
       "    <tr>\n",
       "      <th>-able</th>\n",
       "      <td>0.000056</td>\n",
       "      <td>0.000038</td>\n",
       "      <td>0.00002</td>\n",
       "      <td>True</td>\n",
       "    </tr>\n",
       "  </tbody>\n",
       "</table>\n",
       "<p>1551 rows × 4 columns</p>\n",
       "</div>"
      ],
      "text/plain": [
       "             pagerank_0.85  pagerank_0.9  pagerank_0.95  primitive\n",
       "stretch           0.000056      0.000038        0.00002       True\n",
       "strew             0.000056      0.000038        0.00002       True\n",
       "stride            0.000056      0.000038        0.00002       True\n",
       "base/2755         0.000056      0.000038        0.00002       True\n",
       "germany           0.000056      0.000038        0.00002       True\n",
       "...                    ...           ...            ...        ...\n",
       "crack             0.000056      0.000038        0.00002       True\n",
       "crazy             0.000056      0.000038        0.00002       True\n",
       "photography       0.000056      0.000038        0.00002       True\n",
       "creak             0.000056      0.000038        0.00002       True\n",
       "-able             0.000056      0.000038        0.00002       True\n",
       "\n",
       "[1551 rows x 4 columns]"
      ]
     },
     "execution_count": 55,
     "metadata": {},
     "output_type": "execute_result"
    }
   ],
   "source": [
    "pageRank_df[pageRank_df['pagerank_0.85']<.000057]"
   ]
  },
  {
   "cell_type": "code",
   "execution_count": 56,
   "id": "17889086",
   "metadata": {},
   "outputs": [
    {
     "data": {
      "text/plain": [
       "OutEdgeDataView([('worm', 'animal'), ('worm', 'has'), ('worm', 'lack'), ('worm', 'bone'), ('worm', 'leg'), ('worm', 'soft'), ('worm', 'long')])"
      ]
     },
     "execution_count": 56,
     "metadata": {},
     "output_type": "execute_result"
    }
   ],
   "source": [
    "def_graph.out_edges('worm')"
   ]
  },
  {
   "cell_type": "code",
   "execution_count": 57,
   "id": "d9b08467",
   "metadata": {},
   "outputs": [],
   "source": [
    "pageRank_df.reset_index(inplace=True)"
   ]
  },
  {
   "cell_type": "code",
   "execution_count": 58,
   "id": "4994dc30",
   "metadata": {},
   "outputs": [],
   "source": [
    "def scatter_records(df, indic, damping_factor=.85):\n",
    "    values = df.loc[indic, f'pagerank_{damping_factor}']\n",
    "    plt.scatter(df[indic].index, values, s=1)"
   ]
  },
  {
   "cell_type": "code",
   "execution_count": 59,
   "id": "7efcf69a",
   "metadata": {},
   "outputs": [
    {
     "data": {
      "image/png": "[encoded data removed]",
      "text/plain": [
       "<Figure size 640x480 with 1 Axes>"
      ]
     },
     "metadata": {},
     "output_type": "display_data"
    }
   ],
   "source": [
    "#factors = [.85, .9, .95]\n",
    "#legend = []\n",
    "damping_factor=0.85\n",
    "scatter_records(pageRank_df, pageRank_df.primitive, damping_factor=damping_factor)\n",
    "scatter_records(pageRank_df, ~pageRank_df.primitive, damping_factor=damping_factor)\n",
    "plt.xscale('log')\n",
    "plt.yscale('log')\n",
    "plt.legend(['primitive', 'defined'])\n",
    "plt.savefig(f'/home/makrai/repo/paper/thesis/makrai_phd/img/pageRank-85-primitive.png')"
   ]
  },
  {
   "cell_type": "code",
   "execution_count": 60,
   "id": "7d1ae1e6",
   "metadata": {},
   "outputs": [],
   "source": [
    "with open('../paper/thesis/makrai_phd/img/pageRank-of-top-concepts.tex', mode='w') as file:\n",
    "    pass # file.write(pageRank_df.head(38).style.to_latex())"
   ]
  },
  {
   "cell_type": "markdown",
   "id": "9a46f1ec",
   "metadata": {},
   "source": [
    "# The top"
   ]
  },
  {
   "cell_type": "code",
   "execution_count": 61,
   "id": "7cea3bb8",
   "metadata": {},
   "outputs": [
    {
     "data": {
      "image/png": "[encoded data removed]",
      "text/plain": [
       "<Figure size 640x480 with 1 Axes>"
      ]
     },
     "metadata": {},
     "output_type": "display_data"
    }
   ],
   "source": [
    "pageRank_df['pagerank_0.85'].iloc[:40].plot()\n",
    "plt.xscale('log')\n",
    "plt.yscale('log')"
   ]
  },
  {
   "cell_type": "code",
   "execution_count": 62,
   "id": "c973e176",
   "metadata": {},
   "outputs": [
    {
     "data": {
      "text/html": [
       "<div>\n",
       "<style scoped>\n",
       "    .dataframe tbody tr th:only-of-type {\n",
       "        vertical-align: middle;\n",
       "    }\n",
       "\n",
       "    .dataframe tbody tr th {\n",
       "        vertical-align: top;\n",
       "    }\n",
       "\n",
       "    .dataframe thead th {\n",
       "        text-align: right;\n",
       "    }\n",
       "</style>\n",
       "<table border=\"1\" class=\"dataframe\">\n",
       "  <thead>\n",
       "    <tr style=\"text-align: right;\">\n",
       "      <th></th>\n",
       "      <th>index</th>\n",
       "      <th>pagerank_0.85</th>\n",
       "      <th>pagerank_0.9</th>\n",
       "      <th>pagerank_0.95</th>\n",
       "      <th>primitive</th>\n",
       "    </tr>\n",
       "  </thead>\n",
       "  <tbody>\n",
       "    <tr>\n",
       "      <th>0</th>\n",
       "      <td>has</td>\n",
       "      <td>0.030417</td>\n",
       "      <td>0.031716</td>\n",
       "      <td>0.032239</td>\n",
       "      <td>True</td>\n",
       "    </tr>\n",
       "    <tr>\n",
       "      <th>1</th>\n",
       "      <td>=pat</td>\n",
       "      <td>0.028574</td>\n",
       "      <td>0.030711</td>\n",
       "      <td>0.032011</td>\n",
       "      <td>True</td>\n",
       "    </tr>\n",
       "    <tr>\n",
       "      <th>2</th>\n",
       "      <td>exist</td>\n",
       "      <td>0.025244</td>\n",
       "      <td>0.040721</td>\n",
       "      <td>0.069136</td>\n",
       "      <td>True</td>\n",
       "    </tr>\n",
       "    <tr>\n",
       "      <th>3</th>\n",
       "      <td>at</td>\n",
       "      <td>0.025138</td>\n",
       "      <td>0.027126</td>\n",
       "      <td>0.028517</td>\n",
       "      <td>True</td>\n",
       "    </tr>\n",
       "    <tr>\n",
       "      <th>4</th>\n",
       "      <td>reason</td>\n",
       "      <td>0.023064</td>\n",
       "      <td>0.028577</td>\n",
       "      <td>0.035985</td>\n",
       "      <td>True</td>\n",
       "    </tr>\n",
       "    <tr>\n",
       "      <th>5</th>\n",
       "      <td>cause</td>\n",
       "      <td>0.022473</td>\n",
       "      <td>0.025304</td>\n",
       "      <td>0.028615</td>\n",
       "      <td>True</td>\n",
       "    </tr>\n",
       "    <tr>\n",
       "      <th>6</th>\n",
       "      <td>real</td>\n",
       "      <td>0.022016</td>\n",
       "      <td>0.035551</td>\n",
       "      <td>0.059786</td>\n",
       "      <td>True</td>\n",
       "    </tr>\n",
       "    <tr>\n",
       "      <th>7</th>\n",
       "      <td>place/1026</td>\n",
       "      <td>0.017554</td>\n",
       "      <td>0.020090</td>\n",
       "      <td>0.022533</td>\n",
       "      <td>True</td>\n",
       "    </tr>\n",
       "    <tr>\n",
       "      <th>8</th>\n",
       "      <td>er</td>\n",
       "      <td>0.016251</td>\n",
       "      <td>0.020077</td>\n",
       "      <td>0.025601</td>\n",
       "      <td>True</td>\n",
       "    </tr>\n",
       "    <tr>\n",
       "      <th>9</th>\n",
       "      <td>in</td>\n",
       "      <td>0.016165</td>\n",
       "      <td>0.016037</td>\n",
       "      <td>0.014831</td>\n",
       "      <td>True</td>\n",
       "    </tr>\n",
       "    <tr>\n",
       "      <th>10</th>\n",
       "      <td>=agt</td>\n",
       "      <td>0.016092</td>\n",
       "      <td>0.015693</td>\n",
       "      <td>0.014193</td>\n",
       "      <td>True</td>\n",
       "    </tr>\n",
       "    <tr>\n",
       "      <th>11</th>\n",
       "      <td>lack</td>\n",
       "      <td>0.014789</td>\n",
       "      <td>0.013393</td>\n",
       "      <td>0.010658</td>\n",
       "      <td>True</td>\n",
       "    </tr>\n",
       "    <tr>\n",
       "      <th>12</th>\n",
       "      <td>=poss</td>\n",
       "      <td>0.014709</td>\n",
       "      <td>0.018331</td>\n",
       "      <td>0.023043</td>\n",
       "      <td>True</td>\n",
       "    </tr>\n",
       "    <tr>\n",
       "      <th>13</th>\n",
       "      <td>=rel</td>\n",
       "      <td>0.011136</td>\n",
       "      <td>0.011443</td>\n",
       "      <td>0.011095</td>\n",
       "      <td>True</td>\n",
       "    </tr>\n",
       "    <tr>\n",
       "      <th>14</th>\n",
       "      <td>quantity</td>\n",
       "      <td>0.009905</td>\n",
       "      <td>0.012027</td>\n",
       "      <td>0.014770</td>\n",
       "      <td>True</td>\n",
       "    </tr>\n",
       "    <tr>\n",
       "      <th>15</th>\n",
       "      <td>degree</td>\n",
       "      <td>0.009466</td>\n",
       "      <td>0.012834</td>\n",
       "      <td>0.017398</td>\n",
       "      <td>True</td>\n",
       "    </tr>\n",
       "    <tr>\n",
       "      <th>16</th>\n",
       "      <td>point</td>\n",
       "      <td>0.009130</td>\n",
       "      <td>0.011350</td>\n",
       "      <td>0.013958</td>\n",
       "      <td>True</td>\n",
       "    </tr>\n",
       "    <tr>\n",
       "      <th>17</th>\n",
       "      <td>man/659</td>\n",
       "      <td>0.007482</td>\n",
       "      <td>0.007818</td>\n",
       "      <td>0.007804</td>\n",
       "      <td>True</td>\n",
       "    </tr>\n",
       "    <tr>\n",
       "      <th>18</th>\n",
       "      <td>many</td>\n",
       "      <td>0.007392</td>\n",
       "      <td>0.009732</td>\n",
       "      <td>0.013207</td>\n",
       "      <td>True</td>\n",
       "    </tr>\n",
       "    <tr>\n",
       "      <th>19</th>\n",
       "      <td>after</td>\n",
       "      <td>0.007338</td>\n",
       "      <td>0.007264</td>\n",
       "      <td>0.006860</td>\n",
       "      <td>True</td>\n",
       "    </tr>\n",
       "  </tbody>\n",
       "</table>\n",
       "</div>"
      ],
      "text/plain": [
       "         index  pagerank_0.85  pagerank_0.9  pagerank_0.95  primitive\n",
       "0          has       0.030417      0.031716       0.032239       True\n",
       "1         =pat       0.028574      0.030711       0.032011       True\n",
       "2        exist       0.025244      0.040721       0.069136       True\n",
       "3           at       0.025138      0.027126       0.028517       True\n",
       "4       reason       0.023064      0.028577       0.035985       True\n",
       "5        cause       0.022473      0.025304       0.028615       True\n",
       "6         real       0.022016      0.035551       0.059786       True\n",
       "7   place/1026       0.017554      0.020090       0.022533       True\n",
       "8           er       0.016251      0.020077       0.025601       True\n",
       "9           in       0.016165      0.016037       0.014831       True\n",
       "10        =agt       0.016092      0.015693       0.014193       True\n",
       "11        lack       0.014789      0.013393       0.010658       True\n",
       "12       =poss       0.014709      0.018331       0.023043       True\n",
       "13        =rel       0.011136      0.011443       0.011095       True\n",
       "14    quantity       0.009905      0.012027       0.014770       True\n",
       "15      degree       0.009466      0.012834       0.017398       True\n",
       "16       point       0.009130      0.011350       0.013958       True\n",
       "17     man/659       0.007482      0.007818       0.007804       True\n",
       "18        many       0.007392      0.009732       0.013207       True\n",
       "19       after       0.007338      0.007264       0.006860       True"
      ]
     },
     "execution_count": 62,
     "metadata": {},
     "output_type": "execute_result"
    }
   ],
   "source": [
    "pageRank_df.head(20)"
   ]
  },
  {
   "cell_type": "code",
   "execution_count": 63,
   "id": "ab501f93",
   "metadata": {},
   "outputs": [],
   "source": [
    "fl.uro.fillna('', inplace=True)"
   ]
  },
  {
   "cell_type": "code",
   "execution_count": 64,
   "id": "6e490b58",
   "metadata": {},
   "outputs": [],
   "source": [
    "columns = ['en', 'pagerank_0.85', 'pagerank_0.9', 'pagerank_0.95', 'hu', 'la', 'pl', 'uro', 'pos', 'defi']\n",
    "with open('../paper/thesis/makrai_phd/img/4lang-by-PageRank.tex', mode='w') as file:\n",
    "    pass\n",
    "    # file.write(fl[columns].head(30).style.to_latex())"
   ]
  },
  {
   "cell_type": "markdown",
   "id": "77832019",
   "metadata": {},
   "source": [
    "## _Exist_ and _real_"
   ]
  },
  {
   "cell_type": "markdown",
   "id": "60ae784b",
   "metadata": {},
   "source": [
    "### Out-neighbors"
   ]
  },
  {
   "cell_type": "code",
   "execution_count": 65,
   "id": "83bb3adf",
   "metadata": {},
   "outputs": [
    {
     "data": {
      "text/plain": [
       "['real']"
      ]
     },
     "execution_count": 65,
     "metadata": {},
     "output_type": "execute_result"
    }
   ],
   "source": [
    "list(def_graph.neighbors('exist'))"
   ]
  },
  {
   "cell_type": "code",
   "execution_count": 66,
   "id": "d89b99fe",
   "metadata": {},
   "outputs": [
    {
     "data": {
      "text/plain": [
       "['exist']"
      ]
     },
     "execution_count": 66,
     "metadata": {},
     "output_type": "execute_result"
    }
   ],
   "source": [
    "list(def_graph.neighbors('real'))"
   ]
  },
  {
   "cell_type": "markdown",
   "id": "ebed49b1",
   "metadata": {},
   "source": [
    "### In-neighbors"
   ]
  },
  {
   "cell_type": "code",
   "execution_count": 67,
   "id": "10bbc18e",
   "metadata": {},
   "outputs": [
    {
     "name": "stdout",
     "output_type": "stream",
     "text": [
      "Pretty printing has been turned OFF\n",
      "['actual', 'destroy', 'establish', 'fact', 'live', 'make', 'new', 'origin', 'real', 'thing']\n",
      "Pretty printing has been turned ON\n"
     ]
    }
   ],
   "source": [
    "%pprint\n",
    "print(sorted(list(def_graph.reverse().neighbors('exist'))))\n",
    "%pprint"
   ]
  },
  {
   "cell_type": "code",
   "execution_count": 68,
   "id": "8b8a5788",
   "metadata": {},
   "outputs": [
    {
     "name": "stdout",
     "output_type": "stream",
     "text": [
      "Pretty printing has been turned OFF\n",
      "['article', 'artificial', 'believe', 'dream', 'exist', 'expect', 'fiction', 'imaginary', 'practice', 'prove', 'romantic', 'sincere', 'succeed/2718', 'success']\n",
      "Pretty printing has been turned ON\n"
     ]
    }
   ],
   "source": [
    "%pprint\n",
    "print(sorted(list(def_graph.reverse().neighbors('real'))))\n",
    "%pprint"
   ]
  },
  {
   "cell_type": "markdown",
   "id": "32c588ea",
   "metadata": {},
   "source": [
    "## Undamped PageRank of the largest component\n",
    "### i.e. the principal eigenvector of the transition mx"
   ]
  },
  {
   "cell_type": "code",
   "execution_count": 69,
   "id": "d66c10bf",
   "metadata": {},
   "outputs": [],
   "source": [
    "def get_vertices():\n",
    "    for component in nx.strongly_connected_components(def_graph):\n",
    "        if len(component) > 12:\n",
    "            return component"
   ]
  },
  {
   "cell_type": "code",
   "execution_count": 70,
   "id": "e9714016",
   "metadata": {},
   "outputs": [],
   "source": [
    "vertices = get_vertices()\n",
    "largest_comp = def_graph.subgraph(vertices)"
   ]
  },
  {
   "cell_type": "code",
   "execution_count": 71,
   "id": "052589f8",
   "metadata": {},
   "outputs": [
    {
     "name": "stderr",
     "output_type": "stream",
     "text": [
      "/tmp/ipykernel_26031/2988694224.py:1: FutureWarning: adjacency_matrix will return a scipy.sparse array instead of a matrix in Networkx 3.0.\n",
      "  mx = nx.adjacency_matrix(largest_comp).toarray().astype('float')\n"
     ]
    }
   ],
   "source": [
    "mx = nx.adjacency_matrix(largest_comp).toarray().astype('float')"
   ]
  },
  {
   "cell_type": "code",
   "execution_count": 72,
   "id": "52627d27",
   "metadata": {},
   "outputs": [],
   "source": [
    "mx /= mx.sum(axis=0).reshape((1,-1))"
   ]
  },
  {
   "cell_type": "code",
   "execution_count": 73,
   "id": "70aafeae",
   "metadata": {},
   "outputs": [],
   "source": [
    "eigenvalues, eigenvectors = np.linalg.eig(mx)"
   ]
  },
  {
   "cell_type": "code",
   "execution_count": 74,
   "id": "e4b64ec6",
   "metadata": {},
   "outputs": [],
   "source": [
    "leading_eigvec = np.abs(eigenvectors[:,np.abs(eigenvalues).argsort()[-1]])"
   ]
  },
  {
   "cell_type": "code",
   "execution_count": 75,
   "id": "46273475",
   "metadata": {},
   "outputs": [],
   "source": [
    "page_rank_ser = pd.Series(dict(zip(vertices, leading_eigvec)))"
   ]
  },
  {
   "cell_type": "code",
   "execution_count": 76,
   "id": "958bf0a2",
   "metadata": {},
   "outputs": [],
   "source": [
    "page_rank_ser.sort_values(inplace=True, ascending=False)"
   ]
  },
  {
   "cell_type": "code",
   "execution_count": 77,
   "id": "b28e31b9",
   "metadata": {},
   "outputs": [
    {
     "data": {
      "text/plain": [
       "leaf     0.509886\n",
       "stem     0.454530\n",
       "plant    0.309972\n",
       "milk     0.257400\n",
       "cow      0.243664\n",
       "dtype: float64"
      ]
     },
     "execution_count": 77,
     "metadata": {},
     "output_type": "execute_result"
    }
   ],
   "source": [
    "page_rank_ser.head()"
   ]
  },
  {
   "cell_type": "code",
   "execution_count": 78,
   "id": "9d11be0e",
   "metadata": {},
   "outputs": [
    {
     "data": {
      "text/plain": [
       "full       4.842055e-07\n",
       "small      2.127782e-07\n",
       "piece      1.858871e-07\n",
       "empty      1.554902e-07\n",
       "contain    1.554902e-07\n",
       "dtype: float64"
      ]
     },
     "execution_count": 78,
     "metadata": {},
     "output_type": "execute_result"
    }
   ],
   "source": [
    "page_rank_ser.tail()"
   ]
  },
  {
   "cell_type": "code",
   "execution_count": 79,
   "id": "5dedbcc5",
   "metadata": {},
   "outputs": [
    {
     "data": {
      "image/png": "[encoded data removed]",
      "text/plain": [
       "<Figure size 640x480 with 1 Axes>"
      ]
     },
     "metadata": {},
     "output_type": "display_data"
    }
   ],
   "source": [
    "page_rank_ser.astype('float').plot()\n",
    "plt.xscale('log')\n",
    "plt.yscale('log')"
   ]
  },
  {
   "cell_type": "code",
   "execution_count": 80,
   "id": "fb214306",
   "metadata": {},
   "outputs": [
    {
     "data": {
      "image/png": "[encoded data removed]",
      "text/plain": [
       "<Figure size 640x480 with 1 Axes>"
      ]
     },
     "metadata": {},
     "output_type": "display_data"
    }
   ],
   "source": [
    "page_rank_ser.plot()\n",
    "#plt.xscale('log')\n",
    "plt.yscale('log')"
   ]
  },
  {
   "cell_type": "code",
   "execution_count": 81,
   "id": "f6a92088",
   "metadata": {},
   "outputs": [
    {
     "data": {
      "image/png": "[encoded data removed]",
      "text/plain": [
       "<Figure size 640x480 with 1 Axes>"
      ]
     },
     "metadata": {},
     "output_type": "display_data"
    }
   ],
   "source": [
    "page_rank_ser.plot()\n",
    "plt.xscale('log')\n",
    "#plt.yscale('log')"
   ]
  }
 ],
 "metadata": {
  "kernelspec": {
   "display_name": "Python 3 (ipykernel)",
   "language": "python",
   "name": "python3"
  },
  "language_info": {
   "codemirror_mode": {
    "name": "ipython",
    "version": 3
   },
   "file_extension": ".py",
   "mimetype": "text/x-python",
   "name": "python",
   "nbconvert_exporter": "python",
   "pygments_lexer": "ipython3",
   "version": "3.10.8"
  }
 },
 "nbformat": 4,
 "nbformat_minor": 5
}
