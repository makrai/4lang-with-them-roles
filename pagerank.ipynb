{
 "cells": [
  {
   "cell_type": "code",
   "execution_count": 130,
   "id": "36a1d616",
   "metadata": {},
   "outputs": [],
   "source": [
    "from IPython.display import SVG\n",
    "import matplotlib.pyplot as plt\n",
    "import networkx as nx\n",
    "import numpy as np\n",
    "import pandas as pd\n",
    "import re\n",
    "from sknetwork.ranking import PageRank\n",
    "from sknetwork.visualization import svg_graph"
   ]
  },
  {
   "cell_type": "code",
   "execution_count": 2,
   "id": "67640273",
   "metadata": {},
   "outputs": [],
   "source": [
    "names=['en', 'hu', 'la', 'pl', 'id', 'uro', 'pos', 'defi', 'comment']\n",
    "fl = pd.read_csv('4lang', sep='\\t', names=names)"
   ]
  },
  {
   "cell_type": "markdown",
   "id": "e2a009f9",
   "metadata": {},
   "source": [
    "# Computing the definition graph"
   ]
  },
  {
   "cell_type": "code",
   "execution_count": 3,
   "id": "c96a964f",
   "metadata": {},
   "outputs": [],
   "source": [
    "fl = fl[~fl.defi.isna()]"
   ]
  },
  {
   "cell_type": "code",
   "execution_count": 4,
   "id": "b5942eee",
   "metadata": {},
   "outputs": [],
   "source": [
    "fl.en = fl.en.str.lower()"
   ]
  },
  {
   "cell_type": "code",
   "execution_count": 5,
   "id": "95c1efbb",
   "metadata": {},
   "outputs": [],
   "source": [
    "fl.defi = fl.defi.str.lower()"
   ]
  },
  {
   "cell_type": "code",
   "execution_count": 6,
   "id": "39e0fbb7",
   "metadata": {},
   "outputs": [],
   "source": [
    "fl['ambig'] = fl.en.duplicated(keep=False)"
   ]
  },
  {
   "cell_type": "code",
   "execution_count": 7,
   "id": "2e7c6324",
   "metadata": {},
   "outputs": [],
   "source": [
    "unambig_set = set(fl.loc[~fl.ambig,'en'])"
   ]
  },
  {
   "cell_type": "code",
   "execution_count": 8,
   "id": "31e03427",
   "metadata": {},
   "outputs": [],
   "source": [
    "def unambig_hwd(record):\n",
    "    return f'{record.en}/{record.id}' if record.ambig else record.en"
   ]
  },
  {
   "cell_type": "code",
   "execution_count": 9,
   "id": "629366fd",
   "metadata": {},
   "outputs": [],
   "source": [
    "fl['unambig_hwd'] = fl.apply(unambig_hwd, axis=1)"
   ]
  },
  {
   "cell_type": "code",
   "execution_count": 10,
   "id": "ad8d43d7",
   "metadata": {},
   "outputs": [],
   "source": [
    "def drop_needless_disambig(term):\n",
    "    if '/' in term:\n",
    "        word, number = term.split('/')\n",
    "        if word in unambig_set:\n",
    "            return word\n",
    "    return term"
   ]
  },
  {
   "cell_type": "code",
   "execution_count": 11,
   "id": "a918d74a",
   "metadata": {},
   "outputs": [],
   "source": [
    "concept_chars = '=@a-zA-Z_/0-9-'\n",
    "parens_and_stuff = \"[]<>,()'\"\n",
    "\n",
    "def get_def_graph_outlist(record):\n",
    "    hwd = f'{record.en}/{record.id}' if record.ambig else record.en\n",
    "    return hwd, [drop_needless_disambig(concept) \n",
    "                 for concept in re.findall(f'[{concept_chars}]+', str(record.defi))]"
   ]
  },
  {
   "cell_type": "code",
   "execution_count": 12,
   "id": "4a27d60a",
   "metadata": {},
   "outputs": [],
   "source": [
    "def_graph = nx.DiGraph(dict(fl.apply(get_def_graph_outlist, axis=1).values))"
   ]
  },
  {
   "cell_type": "markdown",
   "id": "e3451764",
   "metadata": {},
   "source": [
    "# Exploration"
   ]
  },
  {
   "cell_type": "code",
   "execution_count": 13,
   "id": "1b095138",
   "metadata": {},
   "outputs": [],
   "source": [
    "#SVG(svg_graph(nx.adjacency_matrix(def_graph)))"
   ]
  },
  {
   "cell_type": "code",
   "execution_count": 14,
   "id": "69bb9c0a",
   "metadata": {},
   "outputs": [
    {
     "data": {
      "text/plain": [
       "has           555\n",
       "=agt          357\n",
       "=pat          323\n",
       "at            308\n",
       "cause         308\n",
       "             ... \n",
       "proclaim        0\n",
       "procession      0\n",
       "drip            0\n",
       "proceed         0\n",
       "-able           0\n",
       "Length: 3185, dtype: int64"
      ]
     },
     "execution_count": 14,
     "metadata": {},
     "output_type": "execute_result"
    }
   ],
   "source": [
    "pd.Series(dict(def_graph.in_degree())).sort_values(ascending=False)"
   ]
  },
  {
   "cell_type": "code",
   "execution_count": 15,
   "id": "eefbb5a5",
   "metadata": {},
   "outputs": [
    {
     "data": {
      "text/plain": [
       "park         16\n",
       "lens         16\n",
       "golf         15\n",
       "fox          14\n",
       "honey        14\n",
       "             ..\n",
       "@hamburg      0\n",
       "@hanukkah     0\n",
       "@hawaii       0\n",
       "@himalaya     0\n",
       "=for          0\n",
       "Length: 3185, dtype: int64"
      ]
     },
     "execution_count": 15,
     "metadata": {},
     "output_type": "execute_result"
    }
   ],
   "source": [
    "pd.Series(dict(def_graph.out_degree())).sort_values(ascending=False)"
   ]
  },
  {
   "cell_type": "code",
   "execution_count": 16,
   "id": "2c2e805f",
   "metadata": {},
   "outputs": [
    {
     "data": {
      "text/plain": [
       "(2965, 11)"
      ]
     },
     "execution_count": 16,
     "metadata": {},
     "output_type": "execute_result"
    }
   ],
   "source": [
    "fl.shape"
   ]
  },
  {
   "cell_type": "code",
   "execution_count": 17,
   "id": "2e17764b",
   "metadata": {},
   "outputs": [
    {
     "data": {
      "text/plain": [
       "3185"
      ]
     },
     "execution_count": 17,
     "metadata": {},
     "output_type": "execute_result"
    }
   ],
   "source": [
    "def_graph.number_of_nodes()"
   ]
  },
  {
   "cell_type": "code",
   "execution_count": 18,
   "id": "5e40f82b",
   "metadata": {},
   "outputs": [
    {
     "data": {
      "text/plain": [
       "11023"
      ]
     },
     "execution_count": 18,
     "metadata": {},
     "output_type": "execute_result"
    }
   ],
   "source": [
    "def_graph.number_of_edges()"
   ]
  },
  {
   "cell_type": "markdown",
   "id": "c6bc49b8",
   "metadata": {},
   "source": [
    "# Primitives"
   ]
  },
  {
   "cell_type": "code",
   "execution_count": 19,
   "id": "8316242c",
   "metadata": {},
   "outputs": [
    {
     "name": "stdout",
     "output_type": "stream",
     "text": [
      "Pretty printing has been turned OFF\n",
      "['all', 'also', 'be', 'before', 'celebrate', 'characteristic', 'enthusiastic', 'er', 'for', 'for/2782', 'from', 'has', 'identity', 'inherent', 'is_a', 'lack', 'next_to', 'not', 'other', 'palm', 'part_of', 'passionate', 'target', 'tired', 'want']\n",
      "Pretty printing has been turned ON\n"
     ]
    }
   ],
   "source": [
    "%pprint\n",
    "print(sorted(set(concept \n",
    "                 for concept in set(def_graph.nodes) - set(fl.unambig_hwd)  if not re.match('^[=@]', concept))))\n",
    "%pprint"
   ]
  },
  {
   "cell_type": "markdown",
   "id": "b86dc6cc",
   "metadata": {},
   "source": [
    "# Strongly connected components"
   ]
  },
  {
   "cell_type": "code",
   "execution_count": 20,
   "id": "7f54726c",
   "metadata": {},
   "outputs": [],
   "source": [
    "def get_components_with_size():\n",
    "    for component in nx.strongly_connected_components(def_graph):\n",
    "        yield ', '.join(sorted(component)), len(component)"
   ]
  },
  {
   "cell_type": "code",
   "execution_count": 21,
   "id": "9a46109f",
   "metadata": {},
   "outputs": [],
   "source": [
    "components = pd.Series(dict(get_components_with_size()))"
   ]
  },
  {
   "cell_type": "code",
   "execution_count": 54,
   "id": "76fc58c7",
   "metadata": {},
   "outputs": [],
   "source": [
    "components.sort_values(ascending=False, inplace=True)"
   ]
  },
  {
   "cell_type": "code",
   "execution_count": 22,
   "id": "c3afae66",
   "metadata": {},
   "outputs": [
    {
     "data": {
      "text/plain": [
       "2478"
      ]
     },
     "execution_count": 22,
     "metadata": {},
     "output_type": "execute_result"
    }
   ],
   "source": [
    "len(components)"
   ]
  },
  {
   "cell_type": "code",
   "execution_count": 65,
   "id": "2cd6c80f",
   "metadata": {},
   "outputs": [
    {
     "data": {
      "text/plain": [
       "623"
      ]
     },
     "execution_count": 65,
     "metadata": {},
     "output_type": "execute_result"
    }
   ],
   "source": [
    "components[0]"
   ]
  },
  {
   "cell_type": "code",
   "execution_count": 64,
   "id": "e452ea4e",
   "metadata": {},
   "outputs": [
    {
     "name": "stdout",
     "output_type": "stream",
     "text": [
      "\\begin{tabular}{lr}\n",
      "\\toprule\n",
      "{} &   0 \\\\\n",
      "\\midrule\n",
      "april, august, december, february, january, jul... &  12 \\\\\n",
      "friday, monday, saturday, sunday, thursday, tue... &   7 \\\\\n",
      "bed, chair, cupboard, furniture, table             &   5 \\\\\n",
      "cereal, flour, grain, wheat                        &   4 \\\\\n",
      "draw/2707, pen, pencil, write                      &   4 \\\\\n",
      "king, monarch, queen, royal                        &   4 \\\\\n",
      "autumn, spring/2318, summer, winter                &   4 \\\\\n",
      "buttocks, seat, sit                                &   3 \\\\\n",
      "camera, lens, photograph                           &   3 \\\\\n",
      "calm, disturb, upset                               &   3 \\\\\n",
      "answer, question, reply                            &   3 \\\\\n",
      "bake, bread, cake                                  &   3 \\\\\n",
      "female, male, sex                                  &   3 \\\\\n",
      "justice, right/1191, wrong                         &   3 \\\\\n",
      "actor, stage/2220, theatre                         &   3 \\\\\n",
      "many, much, quantity                               &   3 \\\\\n",
      "husband, marriage, wife                            &   3 \\\\\n",
      "poem, poet, poetry                                 &   3 \\\\\n",
      "cutlery, fork, spoon                               &   3 \\\\\n",
      "\\bottomrule\n",
      "\\end{tabular}\n",
      "\n"
     ]
    },
    {
     "name": "stderr",
     "output_type": "stream",
     "text": [
      "/tmp/ipykernel_27186/2481590247.py:1: FutureWarning: In future versions `DataFrame.to_latex` is expected to utilise the base implementation of `Styler.to_latex` for formatting and rendering. The arguments signature may therefore change. It is recommended instead to use `DataFrame.style.to_latex` which also contains additional functionality.\n",
      "  print(components[components>2][1:].to_latex())\n"
     ]
    }
   ],
   "source": [
    "print(components[components>2][1:].to_latex())"
   ]
  },
  {
   "cell_type": "code",
   "execution_count": 25,
   "id": "8e6d18c6",
   "metadata": {},
   "outputs": [
    {
     "data": {
      "text/plain": [
       "many, much, quantity          3\n",
       "female, male, sex             3\n",
       "husband, marriage, wife       3\n",
       "poem, poet, poetry            3\n",
       "justice, right/1191, wrong    3\n",
       "camera, lens, photograph      3\n",
       "actor, stage/2220, theatre    3\n",
       "answer, question, reply       3\n",
       "bake, bread, cake             3\n",
       "buttocks, seat, sit           3\n",
       "calm, disturb, upset          3\n",
       "cutlery, fork, spoon          3\n",
       "dtype: int64"
      ]
     },
     "execution_count": 25,
     "metadata": {},
     "output_type": "execute_result"
    }
   ],
   "source": [
    "components[components==3]"
   ]
  },
  {
   "cell_type": "code",
   "execution_count": 26,
   "id": "37325e33",
   "metadata": {},
   "outputs": [
    {
     "data": {
      "text/plain": [
       "cause, reason             2\n",
       "exist, real               2\n",
       "hill, mountain            2\n",
       "book, page                2\n",
       "electricity, wire         2\n",
       "programme, television     2\n",
       "acid, sour                2\n",
       "bottle, glass             2\n",
       "now, this                 2\n",
       "attention, interesting    2\n",
       "level, scale              2\n",
       "balance/1607, weigh       2\n",
       "dirt, dust                2\n",
       "door, entrance            2\n",
       "bell, ring/2735           2\n",
       "brush, paint              2\n",
       "thick/2134, thin/1038     2\n",
       "problem, solve            2\n",
       "hang, swing               2\n",
       "dig, spade                2\n",
       "elephant, trunk/1910      2\n",
       "guest, host/2605          2\n",
       "horse, ride               2\n",
       "rat, rodent               2\n",
       "news, newspaper           2\n",
       "president, republic       2\n",
       "school, student           2\n",
       "soap, wash                2\n",
       "dtype: int64"
      ]
     },
     "execution_count": 26,
     "metadata": {},
     "output_type": "execute_result"
    }
   ],
   "source": [
    "components[components==2].to_latex"
   ]
  },
  {
   "cell_type": "code",
   "execution_count": 66,
   "id": "35203df0",
   "metadata": {},
   "outputs": [
    {
     "data": {
      "text/plain": [
       "<bound method NDFrame.to_latex of linoleum     1\n",
       "lime/1609    1\n",
       "lip          1\n",
       "lightning    1\n",
       "lime/2773    1\n",
       "            ..\n",
       "store        1\n",
       "shelf        1\n",
       "pity         1\n",
       "beg          1\n",
       "vine         1\n",
       "Length: 2430, dtype: int64>"
      ]
     },
     "execution_count": 66,
     "metadata": {},
     "output_type": "execute_result"
    }
   ],
   "source": [
    "components[components==1].inex"
   ]
  },
  {
   "cell_type": "markdown",
   "id": "bed63532",
   "metadata": {},
   "source": [
    "## Edges between the huge component and the medium ones"
   ]
  },
  {
   "cell_type": "code",
   "execution_count": 27,
   "id": "4f4c8d7b",
   "metadata": {},
   "outputs": [
    {
     "data": {
      "text/plain": [
       "False"
      ]
     },
     "execution_count": 27,
     "metadata": {},
     "output_type": "execute_result"
    }
   ],
   "source": [
    "'month' in components.index[0]"
   ]
  },
  {
   "cell_type": "code",
   "execution_count": 28,
   "id": "11e750af",
   "metadata": {},
   "outputs": [
    {
     "name": "stdout",
     "output_type": "stream",
     "text": [
      "Pretty printing has been turned OFF\n",
      "['part_of', 'time', 'twelve', 'unit', 'year']\n",
      "Pretty printing has been turned ON\n"
     ]
    }
   ],
   "source": [
    "%pprint\n",
    "print(sorted(list(nx.neighbors(def_graph, 'month'))))\n",
    "%pprint"
   ]
  },
  {
   "cell_type": "code",
   "execution_count": 29,
   "id": "739cf1c8",
   "metadata": {},
   "outputs": [
    {
     "name": "stdout",
     "output_type": "stream",
     "text": [
      "Pretty printing has been turned OFF\n",
      "['12-month', 'april', 'august', 'date', 'day', 'december', 'february', 'january', 'july', 'june', 'march/1563', 'may/1560', 'november', 'october', 'salary', 'september', 'year']\n",
      "Pretty printing has been turned ON\n"
     ]
    }
   ],
   "source": [
    "%pprint\n",
    "print(sorted(list(nx.neighbors(def_graph.reverse(), 'month'))))\n",
    "%pprint"
   ]
  },
  {
   "cell_type": "markdown",
   "id": "8cfea60a",
   "metadata": {},
   "source": [
    "## Singletons"
   ]
  },
  {
   "cell_type": "code",
   "execution_count": 30,
   "id": "664418b3",
   "metadata": {},
   "outputs": [],
   "source": [
    "in_degree_ser = pd.Series(dict(def_graph.in_degree()))"
   ]
  },
  {
   "cell_type": "code",
   "execution_count": 31,
   "id": "fcee159c",
   "metadata": {},
   "outputs": [],
   "source": [
    "out_degree_ser = pd.Series(dict(def_graph.out_degree()))"
   ]
  },
  {
   "cell_type": "code",
   "execution_count": 32,
   "id": "cbc7f89b",
   "metadata": {},
   "outputs": [
    {
     "data": {
      "text/plain": [
       "=poss         1\n",
       "=agt          1\n",
       "before        1\n",
       "=pat          1\n",
       "er            1\n",
       "             ..\n",
       "billiards     1\n",
       "chess         1\n",
       "confidence    1\n",
       "dr            1\n",
       "vine          1\n",
       "Length: 2430, dtype: int64"
      ]
     },
     "execution_count": 32,
     "metadata": {},
     "output_type": "execute_result"
    }
   ],
   "source": [
    "components[components==1]"
   ]
  },
  {
   "cell_type": "code",
   "execution_count": 33,
   "id": "36d88a1a",
   "metadata": {},
   "outputs": [
    {
     "data": {
      "text/plain": [
       "['material', 'cover', 'floor', 'strong']"
      ]
     },
     "execution_count": 33,
     "metadata": {},
     "output_type": "execute_result"
    }
   ],
   "source": [
    "list(nx.neighbors(def_graph, 'linoleum'))"
   ]
  },
  {
   "cell_type": "code",
   "execution_count": 34,
   "id": "6d6eb44b",
   "metadata": {},
   "outputs": [
    {
     "data": {
      "text/plain": [
       "[]"
      ]
     },
     "execution_count": 34,
     "metadata": {},
     "output_type": "execute_result"
    }
   ],
   "source": [
    "list(nx.neighbors(def_graph.reverse(), 'linoleum'))"
   ]
  },
  {
   "cell_type": "code",
   "execution_count": 35,
   "id": "2bf41d04",
   "metadata": {},
   "outputs": [
    {
     "data": {
      "text/plain": [
       "1"
      ]
     },
     "execution_count": 35,
     "metadata": {},
     "output_type": "execute_result"
    }
   ],
   "source": [
    "components['ability']"
   ]
  },
  {
   "cell_type": "code",
   "execution_count": 36,
   "id": "b4bbb467",
   "metadata": {},
   "outputs": [
    {
     "data": {
      "text/plain": [
       "['can/1246']"
      ]
     },
     "execution_count": 36,
     "metadata": {},
     "output_type": "execute_result"
    }
   ],
   "source": [
    "list(nx.neighbors(def_graph, 'ability'))"
   ]
  },
  {
   "cell_type": "code",
   "execution_count": 37,
   "id": "c1bb8d70",
   "metadata": {},
   "outputs": [
    {
     "data": {
      "text/plain": [
       "['modest']"
      ]
     },
     "execution_count": 37,
     "metadata": {},
     "output_type": "execute_result"
    }
   ],
   "source": [
    "list(nx.neighbors(def_graph.reverse(), 'ability'))"
   ]
  },
  {
   "cell_type": "code",
   "execution_count": 38,
   "id": "6297275c",
   "metadata": {},
   "outputs": [
    {
     "data": {
      "text/plain": [
       "1"
      ]
     },
     "execution_count": 38,
     "metadata": {},
     "output_type": "execute_result"
    }
   ],
   "source": [
    "components['modest']"
   ]
  },
  {
   "cell_type": "code",
   "execution_count": 39,
   "id": "0ce68de5",
   "metadata": {},
   "outputs": [
    {
     "data": {
      "text/plain": [
       "['humble']"
      ]
     },
     "execution_count": 39,
     "metadata": {},
     "output_type": "execute_result"
    }
   ],
   "source": [
    "list(nx.neighbors(def_graph.reverse(), 'modest'))"
   ]
  },
  {
   "cell_type": "code",
   "execution_count": 141,
   "id": "4bc96e4a",
   "metadata": {},
   "outputs": [],
   "source": [
    "ser = pd.Series(dict(zip(def_graph.nodes, scores)))"
   ]
  },
  {
   "cell_type": "markdown",
   "id": "48085ab5",
   "metadata": {},
   "source": [
    "# PageRank"
   ]
  },
  {
   "cell_type": "code",
   "execution_count": 180,
   "id": "c5bd8311",
   "metadata": {},
   "outputs": [],
   "source": [
    "def get_pagerank_df():\n",
    "    columns = {}\n",
    "    for damping_factor in [.85, .9, .95]:\n",
    "        scores = PageRank(damping_factor=damping_factor).fit_predict(nx.adjacency_matrix(def_graph))\n",
    "        columns[f'pagerank_{damping_factor}'] = dict(zip(def_graph.nodes, scores))\n",
    "    df = pd.DataFrame(columns)\n",
    "    df['primitive'] = [w not in fl.index for w in df.index]\n",
    "    return df"
   ]
  },
  {
   "cell_type": "code",
   "execution_count": 239,
   "id": "f8bcf40f",
   "metadata": {},
   "outputs": [
    {
     "name": "stderr",
     "output_type": "stream",
     "text": [
      "/tmp/ipykernel_27186/1930533376.py:4: FutureWarning: adjacency_matrix will return a scipy.sparse array instead of a matrix in Networkx 3.0.\n",
      "  scores = PageRank(damping_factor=damping_factor).fit_predict(nx.adjacency_matrix(def_graph))\n"
     ]
    }
   ],
   "source": [
    "pageRank_df = get_pagerank_df()"
   ]
  },
  {
   "cell_type": "code",
   "execution_count": 240,
   "id": "01b7aa22",
   "metadata": {},
   "outputs": [
    {
     "data": {
      "image/png": "[encoded data removed]",
      "text/plain": [
       "<Figure size 640x480 with 1 Axes>"
      ]
     },
     "metadata": {},
     "output_type": "display_data"
    }
   ],
   "source": [
    "factors = [.85, .9, .95]\n",
    "for damping_factor in factors:\n",
    "    plt.plot(pageRank_df[f'pagerank_{damping_factor}'].sort_values(ascending=False).values)\n",
    "plt.xscale('log')\n",
    "plt.yscale('log')\n",
    "plt.legend(factors)\n",
    "plt.xlabel('vocabulary')\n",
    "plt.ylabel('PageRank')\n",
    "plt.savefig(f'/home/makrai/repo/paper/thesis/makrai_phd/img/pageRank-sorted-separately.png')"
   ]
  },
  {
   "cell_type": "code",
   "execution_count": 241,
   "id": "1a90cad6",
   "metadata": {},
   "outputs": [
    {
     "data": {
      "image/png": "[encoded data removed]",
      "text/plain": [
       "<Figure size 640x480 with 1 Axes>"
      ]
     },
     "metadata": {},
     "output_type": "display_data"
    }
   ],
   "source": [
    "pageRank_df.sort_values(f'pagerank_0.85', ascending=False, inplace=True)\n",
    "plt.plot(pageRank_df.drop(columns=['primitive']))\n",
    "plt.xscale('log')\n",
    "plt.yscale('log')\n",
    "plt.legend(factors)\n",
    "plt.xlabel('vocabulary')\n",
    "plt.ylabel('PageRank')\n",
    "plt.savefig(f'/home/makrai/repo/paper/thesis/makrai_phd/img/pageRank-aligned.png')"
   ]
  },
  {
   "cell_type": "code",
   "execution_count": 242,
   "id": "d9b08467",
   "metadata": {},
   "outputs": [],
   "source": [
    "pageRank_df.reset_index(inplace=True)"
   ]
  },
  {
   "cell_type": "code",
   "execution_count": 245,
   "id": "4994dc30",
   "metadata": {},
   "outputs": [],
   "source": [
    "def scatter_records(df, indic, damping_factor=.85):\n",
    "    values = df.loc[indic, f'pagerank_{damping_factor}']\n",
    "    plt.scatter(df[indic].index, values, s=1)"
   ]
  },
  {
   "cell_type": "code",
   "execution_count": 251,
   "id": "7efcf69a",
   "metadata": {},
   "outputs": [
    {
     "data": {
      "image/png": "[encoded data removed]",
      "text/plain": [
       "<Figure size 640x480 with 1 Axes>"
      ]
     },
     "metadata": {},
     "output_type": "display_data"
    }
   ],
   "source": [
    "#factors = [.85, .9, .95]\n",
    "#legend = []\n",
    "damping_factor=0.85\n",
    "scatter_records(pageRank_df, pageRank_df.primitive, damping_factor=damping_factor)\n",
    "scatter_records(pageRank_df, ~pageRank_df.primitive, damping_factor=damping_factor)\n",
    "plt.xscale('log')\n",
    "plt.yscale('log')\n",
    "plt.legend(['primitive', 'defined'])\n",
    "plt.savefig(f'/home/makrai/repo/paper/thesis/makrai_phd/img/pageRank-85-primitive.png')"
   ]
  },
  {
   "cell_type": "code",
   "execution_count": null,
   "id": "7d1ae1e6",
   "metadata": {},
   "outputs": [],
   "source": [
    "with open('../paper/thesis/makrai_phd/img/pageRank-of-top-concepts.tex', mode='w') as file:\n",
    "    file.write("
   ]
  },
  {
   "cell_type": "code",
   "execution_count": 255,
   "id": "c973e176",
   "metadata": {},
   "outputs": [
    {
     "data": {
      "text/html": [
       "<div>\n",
       "<style scoped>\n",
       "    .dataframe tbody tr th:only-of-type {\n",
       "        vertical-align: middle;\n",
       "    }\n",
       "\n",
       "    .dataframe tbody tr th {\n",
       "        vertical-align: top;\n",
       "    }\n",
       "\n",
       "    .dataframe thead th {\n",
       "        text-align: right;\n",
       "    }\n",
       "</style>\n",
       "<table border=\"1\" class=\"dataframe\">\n",
       "  <thead>\n",
       "    <tr style=\"text-align: right;\">\n",
       "      <th></th>\n",
       "      <th>index</th>\n",
       "      <th>pagerank_0.85</th>\n",
       "      <th>pagerank_0.9</th>\n",
       "      <th>pagerank_0.95</th>\n",
       "      <th>primitive</th>\n",
       "    </tr>\n",
       "  </thead>\n",
       "  <tbody>\n",
       "    <tr>\n",
       "      <th>0</th>\n",
       "      <td>has</td>\n",
       "      <td>0.030417</td>\n",
       "      <td>0.031716</td>\n",
       "      <td>0.032239</td>\n",
       "      <td>True</td>\n",
       "    </tr>\n",
       "    <tr>\n",
       "      <th>1</th>\n",
       "      <td>=pat</td>\n",
       "      <td>0.028574</td>\n",
       "      <td>0.030711</td>\n",
       "      <td>0.032011</td>\n",
       "      <td>True</td>\n",
       "    </tr>\n",
       "    <tr>\n",
       "      <th>2</th>\n",
       "      <td>exist</td>\n",
       "      <td>0.025244</td>\n",
       "      <td>0.040721</td>\n",
       "      <td>0.069136</td>\n",
       "      <td>False</td>\n",
       "    </tr>\n",
       "    <tr>\n",
       "      <th>3</th>\n",
       "      <td>at</td>\n",
       "      <td>0.025138</td>\n",
       "      <td>0.027126</td>\n",
       "      <td>0.028517</td>\n",
       "      <td>False</td>\n",
       "    </tr>\n",
       "    <tr>\n",
       "      <th>4</th>\n",
       "      <td>reason</td>\n",
       "      <td>0.023064</td>\n",
       "      <td>0.028577</td>\n",
       "      <td>0.035985</td>\n",
       "      <td>False</td>\n",
       "    </tr>\n",
       "    <tr>\n",
       "      <th>5</th>\n",
       "      <td>cause</td>\n",
       "      <td>0.022473</td>\n",
       "      <td>0.025304</td>\n",
       "      <td>0.028615</td>\n",
       "      <td>False</td>\n",
       "    </tr>\n",
       "    <tr>\n",
       "      <th>6</th>\n",
       "      <td>real</td>\n",
       "      <td>0.022016</td>\n",
       "      <td>0.035551</td>\n",
       "      <td>0.059786</td>\n",
       "      <td>False</td>\n",
       "    </tr>\n",
       "    <tr>\n",
       "      <th>7</th>\n",
       "      <td>place/1026</td>\n",
       "      <td>0.017554</td>\n",
       "      <td>0.020090</td>\n",
       "      <td>0.022533</td>\n",
       "      <td>False</td>\n",
       "    </tr>\n",
       "    <tr>\n",
       "      <th>8</th>\n",
       "      <td>er</td>\n",
       "      <td>0.016251</td>\n",
       "      <td>0.020077</td>\n",
       "      <td>0.025601</td>\n",
       "      <td>True</td>\n",
       "    </tr>\n",
       "    <tr>\n",
       "      <th>9</th>\n",
       "      <td>in</td>\n",
       "      <td>0.016165</td>\n",
       "      <td>0.016037</td>\n",
       "      <td>0.014831</td>\n",
       "      <td>False</td>\n",
       "    </tr>\n",
       "    <tr>\n",
       "      <th>10</th>\n",
       "      <td>=agt</td>\n",
       "      <td>0.016092</td>\n",
       "      <td>0.015693</td>\n",
       "      <td>0.014193</td>\n",
       "      <td>True</td>\n",
       "    </tr>\n",
       "    <tr>\n",
       "      <th>11</th>\n",
       "      <td>lack</td>\n",
       "      <td>0.014789</td>\n",
       "      <td>0.013393</td>\n",
       "      <td>0.010658</td>\n",
       "      <td>True</td>\n",
       "    </tr>\n",
       "    <tr>\n",
       "      <th>12</th>\n",
       "      <td>=poss</td>\n",
       "      <td>0.014709</td>\n",
       "      <td>0.018331</td>\n",
       "      <td>0.023043</td>\n",
       "      <td>True</td>\n",
       "    </tr>\n",
       "    <tr>\n",
       "      <th>13</th>\n",
       "      <td>=rel</td>\n",
       "      <td>0.011136</td>\n",
       "      <td>0.011443</td>\n",
       "      <td>0.011095</td>\n",
       "      <td>True</td>\n",
       "    </tr>\n",
       "    <tr>\n",
       "      <th>14</th>\n",
       "      <td>quantity</td>\n",
       "      <td>0.009905</td>\n",
       "      <td>0.012027</td>\n",
       "      <td>0.014770</td>\n",
       "      <td>False</td>\n",
       "    </tr>\n",
       "    <tr>\n",
       "      <th>15</th>\n",
       "      <td>degree</td>\n",
       "      <td>0.009466</td>\n",
       "      <td>0.012834</td>\n",
       "      <td>0.017398</td>\n",
       "      <td>False</td>\n",
       "    </tr>\n",
       "    <tr>\n",
       "      <th>16</th>\n",
       "      <td>point</td>\n",
       "      <td>0.009130</td>\n",
       "      <td>0.011350</td>\n",
       "      <td>0.013958</td>\n",
       "      <td>False</td>\n",
       "    </tr>\n",
       "    <tr>\n",
       "      <th>17</th>\n",
       "      <td>man/659</td>\n",
       "      <td>0.007482</td>\n",
       "      <td>0.007818</td>\n",
       "      <td>0.007804</td>\n",
       "      <td>False</td>\n",
       "    </tr>\n",
       "    <tr>\n",
       "      <th>18</th>\n",
       "      <td>many</td>\n",
       "      <td>0.007392</td>\n",
       "      <td>0.009732</td>\n",
       "      <td>0.013207</td>\n",
       "      <td>False</td>\n",
       "    </tr>\n",
       "    <tr>\n",
       "      <th>19</th>\n",
       "      <td>after</td>\n",
       "      <td>0.007338</td>\n",
       "      <td>0.007264</td>\n",
       "      <td>0.006860</td>\n",
       "      <td>False</td>\n",
       "    </tr>\n",
       "    <tr>\n",
       "      <th>20</th>\n",
       "      <td>want</td>\n",
       "      <td>0.007262</td>\n",
       "      <td>0.007306</td>\n",
       "      <td>0.006783</td>\n",
       "      <td>True</td>\n",
       "    </tr>\n",
       "    <tr>\n",
       "      <th>21</th>\n",
       "      <td>part_of</td>\n",
       "      <td>0.006579</td>\n",
       "      <td>0.006701</td>\n",
       "      <td>0.006628</td>\n",
       "      <td>True</td>\n",
       "    </tr>\n",
       "    <tr>\n",
       "      <th>22</th>\n",
       "      <td>big</td>\n",
       "      <td>0.006449</td>\n",
       "      <td>0.008655</td>\n",
       "      <td>0.011969</td>\n",
       "      <td>False</td>\n",
       "    </tr>\n",
       "    <tr>\n",
       "      <th>23</th>\n",
       "      <td>object</td>\n",
       "      <td>0.006213</td>\n",
       "      <td>0.006275</td>\n",
       "      <td>0.005758</td>\n",
       "      <td>False</td>\n",
       "    </tr>\n",
       "    <tr>\n",
       "      <th>24</th>\n",
       "      <td>instrument</td>\n",
       "      <td>0.005876</td>\n",
       "      <td>0.005566</td>\n",
       "      <td>0.004672</td>\n",
       "      <td>False</td>\n",
       "    </tr>\n",
       "    <tr>\n",
       "      <th>25</th>\n",
       "      <td>contain</td>\n",
       "      <td>0.005749</td>\n",
       "      <td>0.006167</td>\n",
       "      <td>0.006241</td>\n",
       "      <td>False</td>\n",
       "    </tr>\n",
       "    <tr>\n",
       "      <th>26</th>\n",
       "      <td>large</td>\n",
       "      <td>0.005355</td>\n",
       "      <td>0.006930</td>\n",
       "      <td>0.009123</td>\n",
       "      <td>False</td>\n",
       "    </tr>\n",
       "    <tr>\n",
       "      <th>27</th>\n",
       "      <td>follow</td>\n",
       "      <td>0.005237</td>\n",
       "      <td>0.005347</td>\n",
       "      <td>0.005248</td>\n",
       "      <td>False</td>\n",
       "    </tr>\n",
       "    <tr>\n",
       "      <th>28</th>\n",
       "      <td>much</td>\n",
       "      <td>0.005152</td>\n",
       "      <td>0.006743</td>\n",
       "      <td>0.008978</td>\n",
       "      <td>False</td>\n",
       "    </tr>\n",
       "    <tr>\n",
       "      <th>29</th>\n",
       "      <td>move</td>\n",
       "      <td>0.005103</td>\n",
       "      <td>0.005299</td>\n",
       "      <td>0.005413</td>\n",
       "      <td>False</td>\n",
       "    </tr>\n",
       "    <tr>\n",
       "      <th>30</th>\n",
       "      <td>for/2782</td>\n",
       "      <td>0.005057</td>\n",
       "      <td>0.005303</td>\n",
       "      <td>0.005156</td>\n",
       "      <td>True</td>\n",
       "    </tr>\n",
       "    <tr>\n",
       "      <th>31</th>\n",
       "      <td>person</td>\n",
       "      <td>0.005057</td>\n",
       "      <td>0.004948</td>\n",
       "      <td>0.004791</td>\n",
       "      <td>False</td>\n",
       "    </tr>\n",
       "    <tr>\n",
       "      <th>32</th>\n",
       "      <td>do</td>\n",
       "      <td>0.004259</td>\n",
       "      <td>0.004536</td>\n",
       "      <td>0.004724</td>\n",
       "      <td>False</td>\n",
       "    </tr>\n",
       "    <tr>\n",
       "      <th>33</th>\n",
       "      <td>sex</td>\n",
       "      <td>0.004237</td>\n",
       "      <td>0.005192</td>\n",
       "      <td>0.006541</td>\n",
       "      <td>False</td>\n",
       "    </tr>\n",
       "    <tr>\n",
       "      <th>34</th>\n",
       "      <td>good</td>\n",
       "      <td>0.004148</td>\n",
       "      <td>0.003830</td>\n",
       "      <td>0.003253</td>\n",
       "      <td>False</td>\n",
       "    </tr>\n",
       "    <tr>\n",
       "      <th>35</th>\n",
       "      <td>before</td>\n",
       "      <td>0.003874</td>\n",
       "      <td>0.003773</td>\n",
       "      <td>0.003477</td>\n",
       "      <td>True</td>\n",
       "    </tr>\n",
       "    <tr>\n",
       "      <th>36</th>\n",
       "      <td>other</td>\n",
       "      <td>0.003758</td>\n",
       "      <td>0.003837</td>\n",
       "      <td>0.003824</td>\n",
       "      <td>True</td>\n",
       "    </tr>\n",
       "    <tr>\n",
       "      <th>37</th>\n",
       "      <td>live</td>\n",
       "      <td>0.003685</td>\n",
       "      <td>0.003953</td>\n",
       "      <td>0.004008</td>\n",
       "      <td>False</td>\n",
       "    </tr>\n",
       "    <tr>\n",
       "      <th>38</th>\n",
       "      <td>change</td>\n",
       "      <td>0.003494</td>\n",
       "      <td>0.003949</td>\n",
       "      <td>0.004467</td>\n",
       "      <td>False</td>\n",
       "    </tr>\n",
       "    <tr>\n",
       "      <th>39</th>\n",
       "      <td>step</td>\n",
       "      <td>0.003337</td>\n",
       "      <td>0.004866</td>\n",
       "      <td>0.007183</td>\n",
       "      <td>False</td>\n",
       "    </tr>\n",
       "    <tr>\n",
       "      <th>40</th>\n",
       "      <td>process</td>\n",
       "      <td>0.003295</td>\n",
       "      <td>0.004834</td>\n",
       "      <td>0.007164</td>\n",
       "      <td>False</td>\n",
       "    </tr>\n",
       "    <tr>\n",
       "      <th>41</th>\n",
       "      <td>animal</td>\n",
       "      <td>0.003239</td>\n",
       "      <td>0.003369</td>\n",
       "      <td>0.003351</td>\n",
       "      <td>False</td>\n",
       "    </tr>\n",
       "    <tr>\n",
       "      <th>42</th>\n",
       "      <td>group</td>\n",
       "      <td>0.003223</td>\n",
       "      <td>0.003216</td>\n",
       "      <td>0.002979</td>\n",
       "      <td>False</td>\n",
       "    </tr>\n",
       "    <tr>\n",
       "      <th>43</th>\n",
       "      <td>colour</td>\n",
       "      <td>0.003213</td>\n",
       "      <td>0.002894</td>\n",
       "      <td>0.002237</td>\n",
       "      <td>False</td>\n",
       "    </tr>\n",
       "    <tr>\n",
       "      <th>44</th>\n",
       "      <td>member</td>\n",
       "      <td>0.003130</td>\n",
       "      <td>0.003089</td>\n",
       "      <td>0.002839</td>\n",
       "      <td>False</td>\n",
       "    </tr>\n",
       "    <tr>\n",
       "      <th>45</th>\n",
       "      <td>around</td>\n",
       "      <td>0.003047</td>\n",
       "      <td>0.003201</td>\n",
       "      <td>0.003033</td>\n",
       "      <td>False</td>\n",
       "    </tr>\n",
       "    <tr>\n",
       "      <th>46</th>\n",
       "      <td>is_a</td>\n",
       "      <td>0.003002</td>\n",
       "      <td>0.003393</td>\n",
       "      <td>0.003856</td>\n",
       "      <td>True</td>\n",
       "    </tr>\n",
       "    <tr>\n",
       "      <th>47</th>\n",
       "      <td>state/76</td>\n",
       "      <td>0.002899</td>\n",
       "      <td>0.002472</td>\n",
       "      <td>0.001693</td>\n",
       "      <td>False</td>\n",
       "    </tr>\n",
       "    <tr>\n",
       "      <th>48</th>\n",
       "      <td>useful</td>\n",
       "      <td>0.002863</td>\n",
       "      <td>0.003054</td>\n",
       "      <td>0.003004</td>\n",
       "      <td>False</td>\n",
       "    </tr>\n",
       "    <tr>\n",
       "      <th>49</th>\n",
       "      <td>make</td>\n",
       "      <td>0.002768</td>\n",
       "      <td>0.002393</td>\n",
       "      <td>0.001723</td>\n",
       "      <td>False</td>\n",
       "    </tr>\n",
       "  </tbody>\n",
       "</table>\n",
       "</div>"
      ],
      "text/plain": [
       "         index  pagerank_0.85  pagerank_0.9  pagerank_0.95  primitive\n",
       "0          has       0.030417      0.031716       0.032239       True\n",
       "1         =pat       0.028574      0.030711       0.032011       True\n",
       "2        exist       0.025244      0.040721       0.069136      False\n",
       "3           at       0.025138      0.027126       0.028517      False\n",
       "4       reason       0.023064      0.028577       0.035985      False\n",
       "5        cause       0.022473      0.025304       0.028615      False\n",
       "6         real       0.022016      0.035551       0.059786      False\n",
       "7   place/1026       0.017554      0.020090       0.022533      False\n",
       "8           er       0.016251      0.020077       0.025601       True\n",
       "9           in       0.016165      0.016037       0.014831      False\n",
       "10        =agt       0.016092      0.015693       0.014193       True\n",
       "11        lack       0.014789      0.013393       0.010658       True\n",
       "12       =poss       0.014709      0.018331       0.023043       True\n",
       "13        =rel       0.011136      0.011443       0.011095       True\n",
       "14    quantity       0.009905      0.012027       0.014770      False\n",
       "15      degree       0.009466      0.012834       0.017398      False\n",
       "16       point       0.009130      0.011350       0.013958      False\n",
       "17     man/659       0.007482      0.007818       0.007804      False\n",
       "18        many       0.007392      0.009732       0.013207      False\n",
       "19       after       0.007338      0.007264       0.006860      False\n",
       "20        want       0.007262      0.007306       0.006783       True\n",
       "21     part_of       0.006579      0.006701       0.006628       True\n",
       "22         big       0.006449      0.008655       0.011969      False\n",
       "23      object       0.006213      0.006275       0.005758      False\n",
       "24  instrument       0.005876      0.005566       0.004672      False\n",
       "25     contain       0.005749      0.006167       0.006241      False\n",
       "26       large       0.005355      0.006930       0.009123      False\n",
       "27      follow       0.005237      0.005347       0.005248      False\n",
       "28        much       0.005152      0.006743       0.008978      False\n",
       "29        move       0.005103      0.005299       0.005413      False\n",
       "30    for/2782       0.005057      0.005303       0.005156       True\n",
       "31      person       0.005057      0.004948       0.004791      False\n",
       "32          do       0.004259      0.004536       0.004724      False\n",
       "33         sex       0.004237      0.005192       0.006541      False\n",
       "34        good       0.004148      0.003830       0.003253      False\n",
       "35      before       0.003874      0.003773       0.003477       True\n",
       "36       other       0.003758      0.003837       0.003824       True\n",
       "37        live       0.003685      0.003953       0.004008      False\n",
       "38      change       0.003494      0.003949       0.004467      False\n",
       "39        step       0.003337      0.004866       0.007183      False\n",
       "40     process       0.003295      0.004834       0.007164      False\n",
       "41      animal       0.003239      0.003369       0.003351      False\n",
       "42       group       0.003223      0.003216       0.002979      False\n",
       "43      colour       0.003213      0.002894       0.002237      False\n",
       "44      member       0.003130      0.003089       0.002839      False\n",
       "45      around       0.003047      0.003201       0.003033      False\n",
       "46        is_a       0.003002      0.003393       0.003856       True\n",
       "47    state/76       0.002899      0.002472       0.001693      False\n",
       "48      useful       0.002863      0.003054       0.003004      False\n",
       "49        make       0.002768      0.002393       0.001723      False"
      ]
     },
     "execution_count": 255,
     "metadata": {},
     "output_type": "execute_result"
    }
   ],
   "source": [
    "pageRank_df.head(50)"
   ]
  },
  {
   "cell_type": "code",
   "execution_count": 254,
   "id": "988319bd",
   "metadata": {},
   "outputs": [],
   "source": [
    ".style.to_latex())"
   ]
  },
  {
   "cell_type": "markdown",
   "id": "9a46f1ec",
   "metadata": {},
   "source": [
    "# The top"
   ]
  },
  {
   "cell_type": "code",
   "execution_count": 45,
   "id": "7cea3bb8",
   "metadata": {},
   "outputs": [
    {
     "data": {
      "image/png": "[encoded data removed]",
      "text/plain": [
       "<Figure size 640x480 with 1 Axes>"
      ]
     },
     "metadata": {},
     "output_type": "display_data"
    }
   ],
   "source": [
    "fl.iloc[:40].pagerank.plot()\n",
    "plt.xscale('log')\n",
    "plt.yscale('log')"
   ]
  },
  {
   "cell_type": "code",
   "execution_count": 109,
   "id": "ab501f93",
   "metadata": {},
   "outputs": [],
   "source": [
    "fl.uro.fillna('', inplace=True)"
   ]
  },
  {
   "cell_type": "code",
   "execution_count": 117,
   "id": "af264a12",
   "metadata": {},
   "outputs": [
    {
     "data": {
      "text/plain": [
       "Index(['en', 'hu', 'la', 'pl', 'id', 'uro', 'pos', 'defi', 'comment', 'ambig',\n",
       "       'pagerank_0.85', 'pagerank_0.9', 'pagerank_0.95'],\n",
       "      dtype='object')"
      ]
     },
     "execution_count": 117,
     "metadata": {},
     "output_type": "execute_result"
    }
   ],
   "source": [
    "fl.columns"
   ]
  },
  {
   "cell_type": "code",
   "execution_count": 119,
   "id": "6e490b58",
   "metadata": {},
   "outputs": [],
   "source": [
    "columns = ['en', 'pagerank_0.85', 'pagerank_0.9', 'pagerank_0.95', 'hu', 'la', 'pl', 'uro', 'pos', 'defi']\n",
    "with open('../paper/thesis/makrai_phd/img/4lang-by-PageRank.tex', mode='w') as file:\n",
    "    file.write(fl[columns].head(30).style.to_latex())"
   ]
  },
  {
   "cell_type": "markdown",
   "id": "77832019",
   "metadata": {},
   "source": [
    "## _Exist_ and _real_"
   ]
  },
  {
   "cell_type": "markdown",
   "id": "60ae784b",
   "metadata": {},
   "source": [
    "### Out-neighbors"
   ]
  },
  {
   "cell_type": "code",
   "execution_count": 47,
   "id": "83bb3adf",
   "metadata": {},
   "outputs": [
    {
     "data": {
      "text/plain": [
       "['real']"
      ]
     },
     "execution_count": 47,
     "metadata": {},
     "output_type": "execute_result"
    }
   ],
   "source": [
    "list(def_graph.neighbors('exist'))"
   ]
  },
  {
   "cell_type": "code",
   "execution_count": 48,
   "id": "d89b99fe",
   "metadata": {},
   "outputs": [
    {
     "data": {
      "text/plain": [
       "['exist']"
      ]
     },
     "execution_count": 48,
     "metadata": {},
     "output_type": "execute_result"
    }
   ],
   "source": [
    "list(def_graph.neighbors('real'))"
   ]
  },
  {
   "cell_type": "markdown",
   "id": "ebed49b1",
   "metadata": {},
   "source": [
    "### In-neighbors"
   ]
  },
  {
   "cell_type": "code",
   "execution_count": 49,
   "id": "10bbc18e",
   "metadata": {},
   "outputs": [
    {
     "name": "stdout",
     "output_type": "stream",
     "text": [
      "Pretty printing has been turned OFF\n",
      "['actual', 'destroy', 'establish', 'fact', 'live', 'make', 'new', 'origin', 'real', 'thing']\n",
      "Pretty printing has been turned ON\n"
     ]
    }
   ],
   "source": [
    "%pprint\n",
    "print(sorted(list(def_graph.reverse().neighbors('exist'))))\n",
    "%pprint"
   ]
  },
  {
   "cell_type": "code",
   "execution_count": 50,
   "id": "8b8a5788",
   "metadata": {},
   "outputs": [
    {
     "name": "stdout",
     "output_type": "stream",
     "text": [
      "Pretty printing has been turned OFF\n",
      "['article', 'artificial', 'believe', 'dream', 'exist', 'expect', 'fiction', 'imaginary', 'practice', 'prove', 'romantic', 'sincere', 'succeed/2718', 'success']\n",
      "Pretty printing has been turned ON\n"
     ]
    }
   ],
   "source": [
    "%pprint\n",
    "print(sorted(list(def_graph.reverse().neighbors('real'))))\n",
    "%pprint"
   ]
  },
  {
   "cell_type": "markdown",
   "id": "f7756219",
   "metadata": {},
   "source": [
    "# The tail"
   ]
  },
  {
   "cell_type": "code",
   "execution_count": 51,
   "id": "7ec1220a",
   "metadata": {},
   "outputs": [
    {
     "data": {
      "text/html": [
       "<div>\n",
       "<style scoped>\n",
       "    .dataframe tbody tr th:only-of-type {\n",
       "        vertical-align: middle;\n",
       "    }\n",
       "\n",
       "    .dataframe tbody tr th {\n",
       "        vertical-align: top;\n",
       "    }\n",
       "\n",
       "    .dataframe thead th {\n",
       "        text-align: right;\n",
       "    }\n",
       "</style>\n",
       "<table border=\"1\" class=\"dataframe\">\n",
       "  <thead>\n",
       "    <tr style=\"text-align: right;\">\n",
       "      <th></th>\n",
       "      <th>en</th>\n",
       "      <th>hu</th>\n",
       "      <th>la</th>\n",
       "      <th>pl</th>\n",
       "      <th>id</th>\n",
       "      <th>uro</th>\n",
       "      <th>pos</th>\n",
       "      <th>defi</th>\n",
       "      <th>comment</th>\n",
       "      <th>ambig</th>\n",
       "      <th>pagerank</th>\n",
       "    </tr>\n",
       "    <tr>\n",
       "      <th>unambig_hwd</th>\n",
       "      <th></th>\n",
       "      <th></th>\n",
       "      <th></th>\n",
       "      <th></th>\n",
       "      <th></th>\n",
       "      <th></th>\n",
       "      <th></th>\n",
       "      <th></th>\n",
       "      <th></th>\n",
       "      <th></th>\n",
       "      <th></th>\n",
       "    </tr>\n",
       "  </thead>\n",
       "  <tbody>\n",
       "    <tr>\n",
       "      <th>stretch</th>\n",
       "      <td>stretch</td>\n",
       "      <td>nyu1jt</td>\n",
       "      <td>porrigo</td>\n",
       "      <td>rozcia1gac1</td>\n",
       "      <td>1823</td>\n",
       "      <td>NaN</td>\n",
       "      <td>N</td>\n",
       "      <td>cause[=pat[long,extend]]</td>\n",
       "      <td>NaN</td>\n",
       "      <td>False</td>\n",
       "      <td>0.000056</td>\n",
       "    </tr>\n",
       "    <tr>\n",
       "      <th>when</th>\n",
       "      <td>when</td>\n",
       "      <td>mikor</td>\n",
       "      <td>quando</td>\n",
       "      <td>kiedy</td>\n",
       "      <td>1689</td>\n",
       "      <td>u</td>\n",
       "      <td>D</td>\n",
       "      <td>at/2744 what(time)</td>\n",
       "      <td>NaN</td>\n",
       "      <td>False</td>\n",
       "      <td>0.000056</td>\n",
       "    </tr>\n",
       "    <tr>\n",
       "      <th>presence</th>\n",
       "      <td>presence</td>\n",
       "      <td>jelenle1t</td>\n",
       "      <td>praesentia</td>\n",
       "      <td>obecnos1c1</td>\n",
       "      <td>1185</td>\n",
       "      <td>NaN</td>\n",
       "      <td>N</td>\n",
       "      <td>=poss at/2744 place/1026</td>\n",
       "      <td>NaN</td>\n",
       "      <td>False</td>\n",
       "      <td>0.000056</td>\n",
       "    </tr>\n",
       "    <tr>\n",
       "      <th>sorry</th>\n",
       "      <td>sorry</td>\n",
       "      <td>bu1s</td>\n",
       "      <td>tristis</td>\n",
       "      <td>smutny</td>\n",
       "      <td>342</td>\n",
       "      <td>u</td>\n",
       "      <td>A</td>\n",
       "      <td>feel pity</td>\n",
       "      <td>NaN</td>\n",
       "      <td>False</td>\n",
       "      <td>0.000056</td>\n",
       "    </tr>\n",
       "    <tr>\n",
       "      <th>something</th>\n",
       "      <td>something</td>\n",
       "      <td>valami</td>\n",
       "      <td>aliquid</td>\n",
       "      <td>cos1</td>\n",
       "      <td>2579</td>\n",
       "      <td>NaN</td>\n",
       "      <td>N</td>\n",
       "      <td>thing</td>\n",
       "      <td>NaN</td>\n",
       "      <td>False</td>\n",
       "      <td>0.000056</td>\n",
       "    </tr>\n",
       "    <tr>\n",
       "      <th>...</th>\n",
       "      <td>...</td>\n",
       "      <td>...</td>\n",
       "      <td>...</td>\n",
       "      <td>...</td>\n",
       "      <td>...</td>\n",
       "      <td>...</td>\n",
       "      <td>...</td>\n",
       "      <td>...</td>\n",
       "      <td>...</td>\n",
       "      <td>...</td>\n",
       "      <td>...</td>\n",
       "    </tr>\n",
       "    <tr>\n",
       "      <th>friend</th>\n",
       "      <td>friend</td>\n",
       "      <td>bara1t</td>\n",
       "      <td>amicus</td>\n",
       "      <td>przyjaciel</td>\n",
       "      <td>228</td>\n",
       "      <td>u</td>\n",
       "      <td>N</td>\n",
       "      <td>person, =poss know, =poss like/3382, =poss trust</td>\n",
       "      <td>NaN</td>\n",
       "      <td>False</td>\n",
       "      <td>0.000056</td>\n",
       "    </tr>\n",
       "    <tr>\n",
       "      <th>fresh</th>\n",
       "      <td>fresh</td>\n",
       "      <td>friss</td>\n",
       "      <td>viridis</td>\n",
       "      <td>s1wiez1y</td>\n",
       "      <td>863</td>\n",
       "      <td>NaN</td>\n",
       "      <td>N</td>\n",
       "      <td>new, replace</td>\n",
       "      <td>NaN</td>\n",
       "      <td>False</td>\n",
       "      <td>0.000056</td>\n",
       "    </tr>\n",
       "    <tr>\n",
       "      <th>french-canadian</th>\n",
       "      <td>french-canadian</td>\n",
       "      <td>francia-kanadai</td>\n",
       "      <td>#</td>\n",
       "      <td>#</td>\n",
       "      <td>3299</td>\n",
       "      <td>NaN</td>\n",
       "      <td>A</td>\n",
       "      <td>member [nation,@canada], has parent, parent me...</td>\n",
       "      <td>NaN</td>\n",
       "      <td>False</td>\n",
       "      <td>0.000056</td>\n",
       "    </tr>\n",
       "    <tr>\n",
       "      <th>freeze</th>\n",
       "      <td>freeze</td>\n",
       "      <td>fagy</td>\n",
       "      <td>gelu</td>\n",
       "      <td>mro1z</td>\n",
       "      <td>715</td>\n",
       "      <td>NaN</td>\n",
       "      <td>N</td>\n",
       "      <td>cold cause, before(liquid), solid[after, &lt;ice&gt;]</td>\n",
       "      <td>NaN</td>\n",
       "      <td>False</td>\n",
       "      <td>0.000056</td>\n",
       "    </tr>\n",
       "    <tr>\n",
       "      <th>vine</th>\n",
       "      <td>vine</td>\n",
       "      <td>szo3lo3</td>\n",
       "      <td>#</td>\n",
       "      <td>#</td>\n",
       "      <td>#</td>\n",
       "      <td>NaN</td>\n",
       "      <td>N</td>\n",
       "      <td>plant, &lt;grape&gt;</td>\n",
       "      <td>Longman real DV</td>\n",
       "      <td>False</td>\n",
       "      <td>0.000056</td>\n",
       "    </tr>\n",
       "  </tbody>\n",
       "</table>\n",
       "<p>1551 rows × 11 columns</p>\n",
       "</div>"
      ],
      "text/plain": [
       "                              en               hu          la           pl  \\\n",
       "unambig_hwd                                                                  \n",
       "stretch                  stretch           nyu1jt     porrigo  rozcia1gac1   \n",
       "when                        when            mikor      quando        kiedy   \n",
       "presence                presence        jelenle1t  praesentia   obecnos1c1   \n",
       "sorry                      sorry             bu1s     tristis       smutny   \n",
       "something              something           valami     aliquid         cos1   \n",
       "...                          ...              ...         ...          ...   \n",
       "friend                    friend           bara1t      amicus   przyjaciel   \n",
       "fresh                      fresh            friss     viridis     s1wiez1y   \n",
       "french-canadian  french-canadian  francia-kanadai           #            #   \n",
       "freeze                    freeze             fagy        gelu        mro1z   \n",
       "vine                        vine          szo3lo3           #            #   \n",
       "\n",
       "                   id  uro pos  \\\n",
       "unambig_hwd                      \n",
       "stretch          1823  NaN   N   \n",
       "when             1689    u   D   \n",
       "presence         1185  NaN   N   \n",
       "sorry             342    u   A   \n",
       "something        2579  NaN   N   \n",
       "...               ...  ...  ..   \n",
       "friend            228    u   N   \n",
       "fresh             863  NaN   N   \n",
       "french-canadian  3299  NaN   A   \n",
       "freeze            715  NaN   N   \n",
       "vine                #  NaN   N   \n",
       "\n",
       "                                                              defi  \\\n",
       "unambig_hwd                                                          \n",
       "stretch                                   cause[=pat[long,extend]]   \n",
       "when                                            at/2744 what(time)   \n",
       "presence                                  =poss at/2744 place/1026   \n",
       "sorry                                                    feel pity   \n",
       "something                                                    thing   \n",
       "...                                                            ...   \n",
       "friend            person, =poss know, =poss like/3382, =poss trust   \n",
       "fresh                                                 new, replace   \n",
       "french-canadian  member [nation,@canada], has parent, parent me...   \n",
       "freeze             cold cause, before(liquid), solid[after, <ice>]   \n",
       "vine                                                plant, <grape>   \n",
       "\n",
       "                         comment  ambig  pagerank  \n",
       "unambig_hwd                                        \n",
       "stretch                      NaN  False  0.000056  \n",
       "when                         NaN  False  0.000056  \n",
       "presence                     NaN  False  0.000056  \n",
       "sorry                        NaN  False  0.000056  \n",
       "something                    NaN  False  0.000056  \n",
       "...                          ...    ...       ...  \n",
       "friend                       NaN  False  0.000056  \n",
       "fresh                        NaN  False  0.000056  \n",
       "french-canadian              NaN  False  0.000056  \n",
       "freeze                       NaN  False  0.000056  \n",
       "vine             Longman real DV  False  0.000056  \n",
       "\n",
       "[1551 rows x 11 columns]"
      ]
     },
     "execution_count": 51,
     "metadata": {},
     "output_type": "execute_result"
    }
   ],
   "source": [
    "fl[fl.pagerank<.000057]"
   ]
  },
  {
   "cell_type": "code",
   "execution_count": 52,
   "id": "b6fab05b",
   "metadata": {},
   "outputs": [
    {
     "data": {
      "text/plain": [
       "       pagerank\n",
       "False  False       1414\n",
       "True   True        1551\n",
       "dtype: int64"
      ]
     },
     "execution_count": 52,
     "metadata": {},
     "output_type": "execute_result"
    }
   ],
   "source": [
    "fl.groupby([in_degree_ser==0,fl.pagerank<5.578344e-05]).size()"
   ]
  }
 ],
 "metadata": {
  "kernelspec": {
   "display_name": "Python 3 (ipykernel)",
   "language": "python",
   "name": "python3"
  },
  "language_info": {
   "codemirror_mode": {
    "name": "ipython",
    "version": 3
   },
   "file_extension": ".py",
   "mimetype": "text/x-python",
   "name": "python",
   "nbconvert_exporter": "python",
   "pygments_lexer": "ipython3",
   "version": "3.10.8"
  }
 },
 "nbformat": 4,
 "nbformat_minor": 5
}
